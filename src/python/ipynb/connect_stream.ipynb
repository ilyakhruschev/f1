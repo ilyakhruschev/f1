{
 "cells": [
  {
   "cell_type": "code",
   "execution_count": 14,
   "metadata": {
    "ExecuteTime": {
     "end_time": "2021-06-18T14:29:31.871434Z",
     "start_time": "2021-06-18T14:29:31.865118Z"
    }
   },
   "outputs": [
    {
     "ename": "ModuleNotFoundError",
     "evalue": "No module named 'googletrans'",
     "output_type": "error",
     "traceback": [
      "\u001b[0;31m---------------------------------------------------------------------------\u001b[0m",
      "\u001b[0;31mModuleNotFoundError\u001b[0m                       Traceback (most recent call last)",
      "\u001b[0;32m<ipython-input-14-5754b9628992>\u001b[0m in \u001b[0;36m<module>\u001b[0;34m\u001b[0m\n\u001b[1;32m      5\u001b[0m \u001b[0;32mimport\u001b[0m \u001b[0mpymongo\u001b[0m\u001b[0;34m\u001b[0m\u001b[0;34m\u001b[0m\u001b[0m\n\u001b[1;32m      6\u001b[0m \u001b[0;32mimport\u001b[0m \u001b[0mrequests\u001b[0m\u001b[0;34m\u001b[0m\u001b[0;34m\u001b[0m\u001b[0m\n\u001b[0;32m----> 7\u001b[0;31m \u001b[0;32mimport\u001b[0m \u001b[0mgoogletrans\u001b[0m\u001b[0;34m\u001b[0m\u001b[0;34m\u001b[0m\u001b[0m\n\u001b[0m",
      "\u001b[0;31mModuleNotFoundError\u001b[0m: No module named 'googletrans'"
     ]
    }
   ],
   "source": [
    "import tweepy\n",
    "import pandas as pd\n",
    "import os\n",
    "import sys\n",
    "import pymongo\n",
    "import requests\n",
    "import googletrans"
   ]
  },
  {
   "cell_type": "code",
   "execution_count": 13,
   "metadata": {
    "ExecuteTime": {
     "end_time": "2021-06-18T14:29:29.955303Z",
     "start_time": "2021-06-18T14:29:29.952960Z"
    }
   },
   "outputs": [],
   "source": [
    "import sys\n",
    "sys.path.append(\"/usr/local/lib/python3.9/site_packages/googletrans\") # go to parent dir"
   ]
  },
  {
   "cell_type": "code",
   "execution_count": 12,
   "metadata": {
    "ExecuteTime": {
     "end_time": "2021-06-18T14:29:17.066533Z",
     "start_time": "2021-06-18T14:29:17.064425Z"
    }
   },
   "outputs": [
    {
     "name": "stdout",
     "output_type": "stream",
     "text": [
      "['/Users/iiyakhruschev/Desktop/_j/stream/src/python/ipynb', '/Users/iiyakhruschev/opt/anaconda3/lib/python37.zip', '/Users/iiyakhruschev/opt/anaconda3/lib/python3.7', '/Users/iiyakhruschev/opt/anaconda3/lib/python3.7/lib-dynload', '', '/Users/iiyakhruschev/opt/anaconda3/lib/python3.7/site-packages', '/Users/iiyakhruschev/opt/anaconda3/lib/python3.7/site-packages/aeosa', '/Users/iiyakhruschev/opt/anaconda3/lib/python3.7/site-packages/IPython/extensions', '/Users/iiyakhruschev/.ipython', '../', '/usr/local/lib/python3.9', '/usr/local/lib/python3.9/site_packages', '/usr/local/lib/python3.9/site_packages']\n"
     ]
    }
   ],
   "source": [
    "import sys\n",
    "print(sys.path)"
   ]
  },
  {
   "cell_type": "markdown",
   "metadata": {},
   "source": [
    "## Set Variables"
   ]
  },
  {
   "cell_type": "code",
   "execution_count": 39,
   "metadata": {
    "ExecuteTime": {
     "end_time": "2021-06-15T00:14:07.928867Z",
     "start_time": "2021-06-15T00:14:07.925315Z"
    }
   },
   "outputs": [],
   "source": [
    "consumer_key = os.getenv(\"CONSUMER_KEY\")\n",
    "consumer_secret = os.getenv(\"CONSUMER_SECRET\")\n",
    "access_token = os.getenv(\"ACCESS_TOKEN\")\n",
    "access_token_secret = os.getenv(\"ACCESS_TOKEN_SECRET\")\n",
    "bearer_token = os.getenv(\"BEARER_TOKEN\")"
   ]
  },
  {
   "cell_type": "code",
   "execution_count": 3,
   "metadata": {
    "ExecuteTime": {
     "end_time": "2021-06-16T14:38:24.341684Z",
     "start_time": "2021-06-16T14:38:24.338707Z"
    }
   },
   "outputs": [],
   "source": [
    "consumer_key ='49gyl5DGXciwxZqxEErGq2RXI'\n",
    "consumer_secret ='J5Xgo2KqIRtIrzjgtcwkugK0gXXgrc1oACyW8mR6MgioQ0nZFk'\n",
    "access_token = '1320711922581463043-gmuDE2eB3uev34ehJ17qooEs7L4JFn'\n",
    "access_token_secret = 'Q1pwVXHEfE3RN9kKZmtDM9mbWM1QXoUzkUV99Z9GlOKq4'\n",
    "bearer_token ='AAAAAAAAAAAAAAAAAAAAAKaMQgEAAAAAYE4alrVHLC%2B4tojodv%2B94fRfJOY%3DaqJfGxFeGTy4mINVhqFjCL2gPZMWOPcQXewKvWnCrqTroMsdBQ'"
   ]
  },
  {
   "cell_type": "code",
   "execution_count": 4,
   "metadata": {
    "ExecuteTime": {
     "end_time": "2021-06-16T14:38:37.776769Z",
     "start_time": "2021-06-16T14:38:37.753665Z"
    }
   },
   "outputs": [],
   "source": [
    "from pymongo import MongoClient\n",
    "client_db =  'stream'\n",
    "client_col = 'frenchgp' #args.collection\n",
    "\n",
    "# source and target connections\n",
    "client = MongoClient('mongodb://localhost:27017')\n",
    "\n",
    "# batch size\n",
    "batch_size = 1000\n",
    "\n",
    "# database and collection names\n",
    "db = client[client_db]\n",
    "col = db[client_col]"
   ]
  },
  {
   "cell_type": "markdown",
   "metadata": {
    "heading_collapsed": true
   },
   "source": [
    "## Build Stream"
   ]
  },
  {
   "cell_type": "code",
   "execution_count": 141,
   "metadata": {
    "ExecuteTime": {
     "end_time": "2021-06-15T23:54:19.309133Z",
     "start_time": "2021-06-15T23:54:18.868443Z"
    },
    "hidden": true
   },
   "outputs": [
    {
     "name": "stdout",
     "output_type": "stream",
     "text": [
      "429\n",
      "{\n",
      "    \"connection_issue\": \"TooManyConnections\",\n",
      "    \"detail\": \"This stream is currently at the maximum allowed connection limit.\",\n",
      "    \"title\": \"ConnectionException\",\n",
      "    \"type\": \"https://api.twitter.com/2/problems/streaming-connection\"\n",
      "}\n"
     ]
    },
    {
     "ename": "RuntimeError",
     "evalue": "The content for this response was already consumed",
     "output_type": "error",
     "traceback": [
      "\u001b[0;31m---------------------------------------------------------------------------\u001b[0m",
      "\u001b[0;31mRuntimeError\u001b[0m                              Traceback (most recent call last)",
      "\u001b[0;32m<ipython-input-141-d712e21a1e80>\u001b[0m in \u001b[0;36m<module>\u001b[0;34m\u001b[0m\n\u001b[1;32m     56\u001b[0m \u001b[0;34m\u001b[0m\u001b[0m\n\u001b[1;32m     57\u001b[0m \u001b[0;32mif\u001b[0m \u001b[0m__name__\u001b[0m \u001b[0;34m==\u001b[0m \u001b[0;34m\"__main__\"\u001b[0m\u001b[0;34m:\u001b[0m\u001b[0;34m\u001b[0m\u001b[0;34m\u001b[0m\u001b[0m\n\u001b[0;32m---> 58\u001b[0;31m     \u001b[0mmain\u001b[0m\u001b[0;34m(\u001b[0m\u001b[0;34m)\u001b[0m\u001b[0;34m\u001b[0m\u001b[0;34m\u001b[0m\u001b[0m\n\u001b[0m",
      "\u001b[0;32m<ipython-input-141-d712e21a1e80>\u001b[0m in \u001b[0;36mmain\u001b[0;34m()\u001b[0m\n\u001b[1;32m     51\u001b[0m     \u001b[0mtimeout\u001b[0m \u001b[0;34m=\u001b[0m \u001b[0;36m0\u001b[0m\u001b[0;34m\u001b[0m\u001b[0;34m\u001b[0m\u001b[0m\n\u001b[1;32m     52\u001b[0m     \u001b[0;32mwhile\u001b[0m \u001b[0;32mTrue\u001b[0m\u001b[0;34m:\u001b[0m\u001b[0;34m\u001b[0m\u001b[0;34m\u001b[0m\u001b[0m\n\u001b[0;32m---> 53\u001b[0;31m         \u001b[0mconnect_to_endpoint\u001b[0m\u001b[0;34m(\u001b[0m\u001b[0murl\u001b[0m\u001b[0;34m,\u001b[0m \u001b[0mheaders\u001b[0m\u001b[0;34m)\u001b[0m\u001b[0;34m\u001b[0m\u001b[0;34m\u001b[0m\u001b[0m\n\u001b[0m\u001b[1;32m     54\u001b[0m         \u001b[0mtimeout\u001b[0m \u001b[0;34m+=\u001b[0m \u001b[0;36m1\u001b[0m\u001b[0;34m\u001b[0m\u001b[0;34m\u001b[0m\u001b[0m\n\u001b[1;32m     55\u001b[0m \u001b[0;34m\u001b[0m\u001b[0m\n",
      "\u001b[0;32m<ipython-input-141-d712e21a1e80>\u001b[0m in \u001b[0;36mconnect_to_endpoint\u001b[0;34m(url, headers)\u001b[0m\n\u001b[1;32m     40\u001b[0m         raise Exception(\n\u001b[1;32m     41\u001b[0m             \"Request returned an error: {} {}\".format(\n\u001b[0;32m---> 42\u001b[0;31m                 \u001b[0mresponse\u001b[0m\u001b[0;34m.\u001b[0m\u001b[0mstatus_code\u001b[0m\u001b[0;34m,\u001b[0m \u001b[0mresponse\u001b[0m\u001b[0;34m.\u001b[0m\u001b[0mtext\u001b[0m\u001b[0;34m\u001b[0m\u001b[0;34m\u001b[0m\u001b[0m\n\u001b[0m\u001b[1;32m     43\u001b[0m             )\n\u001b[1;32m     44\u001b[0m         )\n",
      "\u001b[0;32m~/opt/anaconda3/lib/python3.7/site-packages/requests/models.py\u001b[0m in \u001b[0;36mtext\u001b[0;34m(self)\u001b[0m\n\u001b[1;32m    851\u001b[0m         \u001b[0mencoding\u001b[0m \u001b[0;34m=\u001b[0m \u001b[0mself\u001b[0m\u001b[0;34m.\u001b[0m\u001b[0mencoding\u001b[0m\u001b[0;34m\u001b[0m\u001b[0;34m\u001b[0m\u001b[0m\n\u001b[1;32m    852\u001b[0m \u001b[0;34m\u001b[0m\u001b[0m\n\u001b[0;32m--> 853\u001b[0;31m         \u001b[0;32mif\u001b[0m \u001b[0;32mnot\u001b[0m \u001b[0mself\u001b[0m\u001b[0;34m.\u001b[0m\u001b[0mcontent\u001b[0m\u001b[0;34m:\u001b[0m\u001b[0;34m\u001b[0m\u001b[0;34m\u001b[0m\u001b[0m\n\u001b[0m\u001b[1;32m    854\u001b[0m             \u001b[0;32mreturn\u001b[0m \u001b[0mstr\u001b[0m\u001b[0;34m(\u001b[0m\u001b[0;34m''\u001b[0m\u001b[0;34m)\u001b[0m\u001b[0;34m\u001b[0m\u001b[0;34m\u001b[0m\u001b[0m\n\u001b[1;32m    855\u001b[0m \u001b[0;34m\u001b[0m\u001b[0m\n",
      "\u001b[0;32m~/opt/anaconda3/lib/python3.7/site-packages/requests/models.py\u001b[0m in \u001b[0;36mcontent\u001b[0;34m(self)\u001b[0m\n\u001b[1;32m    822\u001b[0m             \u001b[0;32mif\u001b[0m \u001b[0mself\u001b[0m\u001b[0;34m.\u001b[0m\u001b[0m_content_consumed\u001b[0m\u001b[0;34m:\u001b[0m\u001b[0;34m\u001b[0m\u001b[0;34m\u001b[0m\u001b[0m\n\u001b[1;32m    823\u001b[0m                 raise RuntimeError(\n\u001b[0;32m--> 824\u001b[0;31m                     'The content for this response was already consumed')\n\u001b[0m\u001b[1;32m    825\u001b[0m \u001b[0;34m\u001b[0m\u001b[0m\n\u001b[1;32m    826\u001b[0m             \u001b[0;32mif\u001b[0m \u001b[0mself\u001b[0m\u001b[0;34m.\u001b[0m\u001b[0mstatus_code\u001b[0m \u001b[0;34m==\u001b[0m \u001b[0;36m0\u001b[0m \u001b[0;32mor\u001b[0m \u001b[0mself\u001b[0m\u001b[0;34m.\u001b[0m\u001b[0mraw\u001b[0m \u001b[0;32mis\u001b[0m \u001b[0;32mNone\u001b[0m\u001b[0;34m:\u001b[0m\u001b[0;34m\u001b[0m\u001b[0;34m\u001b[0m\u001b[0m\n",
      "\u001b[0;31mRuntimeError\u001b[0m: The content for this response was already consumed"
     ]
    }
   ],
   "source": [
    "import requests\n",
    "import os\n",
    "import json\n",
    "\n",
    "# To set your environment variables in your terminal run the following line:\n",
    "# export 'BEARER_TOKEN'='<your_bearer_token>'\n",
    "\n",
    "\n",
    "def auth():\n",
    "#     return os.environ.get(\"BEARER_TOKEN\")\n",
    "    return bearer_token\n",
    "\n",
    "\n",
    "def create_url():\n",
    "#     return \"https://api.twitter.com/2/tweets/sample/stream?tweet.fields=created_at&expansions=author_id&user.fields=created_at\"\n",
    "    return \"https://api.twitter.com/2/tweets/search/stream\"\n",
    "\n",
    "\n",
    "def create_params():\n",
    "    params = {'tweet.fields': 'created_at',\n",
    "            'tweet.fields': 'public_metrics',\n",
    "            'expansions': 'author_id,referenced_tweets.id,geo.place_id',\n",
    "            'user.fields': 'created_at,location'}\n",
    "    return params\n",
    "\n",
    "\n",
    "def create_headers(bearer_token):\n",
    "    headers = {\"Authorization\": \"Bearer {}\".format(bearer_token)}\n",
    "    return headers\n",
    "\n",
    "\n",
    "def connect_to_endpoint(url, headers):\n",
    "    response = requests.request(\"GET\", url, headers=headers, params=create_params(), stream=True)\n",
    "    print(response.status_code)\n",
    "    for response_line in response.iter_lines():\n",
    "        if response_line:\n",
    "            json_response = json.loads(response_line)\n",
    "            print(json.dumps(json_response, indent=4, sort_keys=True))\n",
    "    if response.status_code != 200:\n",
    "        raise Exception(\n",
    "            \"Request returned an error: {} {}\".format(\n",
    "                response.status_code, response.text\n",
    "            )\n",
    "        )\n",
    "\n",
    "\n",
    "def main():\n",
    "    bearer_token = auth()\n",
    "    url = create_url()\n",
    "    headers = create_headers(bearer_token)\n",
    "    timeout = 0\n",
    "    while True:\n",
    "        connect_to_endpoint(url, headers)\n",
    "        timeout += 1\n",
    "\n",
    "\n",
    "if __name__ == \"__main__\":\n",
    "    main()"
   ]
  },
  {
   "cell_type": "markdown",
   "metadata": {
    "heading_collapsed": true
   },
   "source": [
    "## Build Filter Stream"
   ]
  },
  {
   "cell_type": "code",
   "execution_count": 136,
   "metadata": {
    "ExecuteTime": {
     "end_time": "2021-06-15T23:50:10.182254Z",
     "start_time": "2021-06-15T23:50:09.759085Z"
    },
    "hidden": true
   },
   "outputs": [
    {
     "ename": "Exception",
     "evalue": "Cannot get rules (HTTP 401): {\"title\":\"Unauthorized\",\"type\":\"about:blank\",\"status\":401,\"detail\":\"Unauthorized\"}",
     "output_type": "error",
     "traceback": [
      "\u001b[0;31m---------------------------------------------------------------------------\u001b[0m",
      "\u001b[0;31mException\u001b[0m                                 Traceback (most recent call last)",
      "\u001b[0;32m<ipython-input-136-1564539cbe71>\u001b[0m in \u001b[0;36m<module>\u001b[0;34m\u001b[0m\n\u001b[1;32m     41\u001b[0m \u001b[0;34m\u001b[0m\u001b[0m\n\u001b[1;32m     42\u001b[0m \u001b[0;32mif\u001b[0m \u001b[0m__name__\u001b[0m \u001b[0;34m==\u001b[0m \u001b[0;34m\"__main__\"\u001b[0m\u001b[0;34m:\u001b[0m\u001b[0;34m\u001b[0m\u001b[0;34m\u001b[0m\u001b[0m\n\u001b[0;32m---> 43\u001b[0;31m     \u001b[0mmain\u001b[0m\u001b[0;34m(\u001b[0m\u001b[0;34m)\u001b[0m\u001b[0;34m\u001b[0m\u001b[0;34m\u001b[0m\u001b[0m\n\u001b[0m",
      "\u001b[0;32m<ipython-input-136-1564539cbe71>\u001b[0m in \u001b[0;36mmain\u001b[0;34m()\u001b[0m\n\u001b[1;32m     34\u001b[0m     \u001b[0mbearer_token\u001b[0m \u001b[0;34m=\u001b[0m \u001b[0mos\u001b[0m\u001b[0;34m.\u001b[0m\u001b[0menviron\u001b[0m\u001b[0;34m.\u001b[0m\u001b[0mget\u001b[0m\u001b[0;34m(\u001b[0m\u001b[0;34m\"BEARER_TOKEN\"\u001b[0m\u001b[0;34m)\u001b[0m\u001b[0;34m\u001b[0m\u001b[0;34m\u001b[0m\u001b[0m\n\u001b[1;32m     35\u001b[0m     \u001b[0mheaders\u001b[0m \u001b[0;34m=\u001b[0m \u001b[0mcreate_headers\u001b[0m\u001b[0;34m(\u001b[0m\u001b[0mbearer_token\u001b[0m\u001b[0;34m)\u001b[0m\u001b[0;34m\u001b[0m\u001b[0;34m\u001b[0m\u001b[0m\n\u001b[0;32m---> 36\u001b[0;31m     \u001b[0mrules\u001b[0m \u001b[0;34m=\u001b[0m \u001b[0mget_rules\u001b[0m\u001b[0;34m(\u001b[0m\u001b[0mheaders\u001b[0m\u001b[0;34m,\u001b[0m \u001b[0mbearer_token\u001b[0m\u001b[0;34m)\u001b[0m\u001b[0;34m\u001b[0m\u001b[0;34m\u001b[0m\u001b[0m\n\u001b[0m\u001b[1;32m     37\u001b[0m     \u001b[0mdelete\u001b[0m \u001b[0;34m=\u001b[0m \u001b[0mdelete_all_rules\u001b[0m\u001b[0;34m(\u001b[0m\u001b[0mheaders\u001b[0m\u001b[0;34m,\u001b[0m \u001b[0mbearer_token\u001b[0m\u001b[0;34m,\u001b[0m \u001b[0mrules\u001b[0m\u001b[0;34m)\u001b[0m\u001b[0;34m\u001b[0m\u001b[0;34m\u001b[0m\u001b[0m\n\u001b[1;32m     38\u001b[0m     \u001b[0mset\u001b[0m \u001b[0;34m=\u001b[0m \u001b[0mset_rules\u001b[0m\u001b[0;34m(\u001b[0m\u001b[0mheaders\u001b[0m\u001b[0;34m,\u001b[0m \u001b[0mdelete\u001b[0m\u001b[0;34m,\u001b[0m \u001b[0mbearer_token\u001b[0m\u001b[0;34m)\u001b[0m\u001b[0;34m\u001b[0m\u001b[0;34m\u001b[0m\u001b[0m\n",
      "\u001b[0;32m<ipython-input-135-46fa7fd24baa>\u001b[0m in \u001b[0;36mget_rules\u001b[0;34m(headers, bearer_token)\u001b[0m\n\u001b[1;32m     19\u001b[0m     \u001b[0;32mif\u001b[0m \u001b[0mresponse\u001b[0m\u001b[0;34m.\u001b[0m\u001b[0mstatus_code\u001b[0m \u001b[0;34m!=\u001b[0m \u001b[0;36m200\u001b[0m\u001b[0;34m:\u001b[0m\u001b[0;34m\u001b[0m\u001b[0;34m\u001b[0m\u001b[0m\n\u001b[1;32m     20\u001b[0m         raise Exception(\n\u001b[0;32m---> 21\u001b[0;31m             \u001b[0;34m\"Cannot get rules (HTTP {}): {}\"\u001b[0m\u001b[0;34m.\u001b[0m\u001b[0mformat\u001b[0m\u001b[0;34m(\u001b[0m\u001b[0mresponse\u001b[0m\u001b[0;34m.\u001b[0m\u001b[0mstatus_code\u001b[0m\u001b[0;34m,\u001b[0m \u001b[0mresponse\u001b[0m\u001b[0;34m.\u001b[0m\u001b[0mtext\u001b[0m\u001b[0;34m)\u001b[0m\u001b[0;34m\u001b[0m\u001b[0;34m\u001b[0m\u001b[0m\n\u001b[0m\u001b[1;32m     22\u001b[0m         )\n\u001b[1;32m     23\u001b[0m     \u001b[0mprint\u001b[0m\u001b[0;34m(\u001b[0m\u001b[0mjson\u001b[0m\u001b[0;34m.\u001b[0m\u001b[0mdumps\u001b[0m\u001b[0;34m(\u001b[0m\u001b[0mresponse\u001b[0m\u001b[0;34m.\u001b[0m\u001b[0mjson\u001b[0m\u001b[0;34m(\u001b[0m\u001b[0;34m)\u001b[0m\u001b[0;34m)\u001b[0m\u001b[0;34m)\u001b[0m\u001b[0;34m\u001b[0m\u001b[0;34m\u001b[0m\u001b[0m\n",
      "\u001b[0;31mException\u001b[0m: Cannot get rules (HTTP 401): {\"title\":\"Unauthorized\",\"type\":\"about:blank\",\"status\":401,\"detail\":\"Unauthorized\"}"
     ]
    }
   ],
   "source": [
    "\n",
    "import requests\n",
    "import os\n",
    "import json\n",
    "\n",
    "# To set your enviornment variables in your terminal run the following line:\n",
    "# export 'BEARER_TOKEN'='<your_bearer_token>'\n",
    "\n",
    "\n",
    "def create_headers(bearer_token):\n",
    "    headers = {\"Authorization\": \"Bearer {}\".format(bearer_token)}\n",
    "    return headers\n",
    "\n",
    "headers = create_headers(bearer_token)\n",
    "\n",
    "def get_stream(headers, set, bearer_token):\n",
    "    response = requests.get(\n",
    "        \"https://api.twitter.com/2/tweets/search/stream\", headers=headers, stream=True,\n",
    "    )\n",
    "    print(response.status_code)\n",
    "    if response.status_code != 200:\n",
    "        raise Exception(\n",
    "            \"Cannot get stream (HTTP {}): {}\".format(\n",
    "                response.status_code, response.text\n",
    "            )\n",
    "        )\n",
    "    for response_line in response.iter_lines():\n",
    "        if response_line:\n",
    "            json_response = json.loads(response_line)\n",
    "            col.insert_many(json.dumps(json_response, indent=4, sort_keys=True))\n",
    "            print(json.dumps(json_response, indent=4, sort_keys=True))\n",
    "\n",
    "\n",
    "def main():\n",
    "    bearer_token = os.environ.get(\"BEARER_TOKEN\")\n",
    "    headers = create_headers(bearer_token)\n",
    "    rules = get_rules(headers, bearer_token)\n",
    "    delete = delete_all_rules(headers, bearer_token, rules)\n",
    "    set = set_rules(headers, delete, bearer_token)\n",
    "    get_stream(headers, set, bearer_token)\n",
    "\n",
    "\n",
    "if __name__ == \"__main__\":\n",
    "    main()"
   ]
  },
  {
   "cell_type": "markdown",
   "metadata": {},
   "source": [
    "## MY WAY"
   ]
  },
  {
   "cell_type": "code",
   "execution_count": 39,
   "metadata": {
    "ExecuteTime": {
     "end_time": "2021-06-16T15:33:04.461233Z",
     "start_time": "2021-06-16T15:33:04.458683Z"
    }
   },
   "outputs": [],
   "source": [
    "rules = [{\"value\": \"(formula1 OR #f1 OR 'formula one' OR 'formula 1') -indycar \\\n",
    "                    -'indy car' -is:retweet -is:reply -is:quote\",\n",
    "          \"value\": '-indycar -\"indy car\" -is:nullcast -is:retweeted -is:replied_to \\\n",
    "                    -is:quoted ((gasly OR hamilton OR verstappen OR perez OR norris OR leclerc \\\n",
    "                    OR bottas OR sainz OR gasly OR vettel OR ricciardo OR alonso OR ocon OR \\\n",
    "                    stroll OR tsunoda OR raikkonen OR giovinazzi OR schumacher OR russell \\\n",
    "                    OR mazepin OR latifi) (f1 OR formula1 OR \"french grand prix\" OR ricard OR \\\n",
    "                    \"french GP\" OR \"grand prix\" OR \"formula 1\" OR frenchgp)) -indycar \\\n",
    "                    -\"indy car\" -is:nullcast -is:retweet -is:reply -is:quote'}]\n",
    "params = {\n",
    "    'tweet.fields': 'created_at,public_metrics',\n",
    "    'expansions': 'author_id,referenced_tweets.id,geo.place_id',\n",
    "    'user.fields': 'created_at,location'\n",
    "}"
   ]
  },
  {
   "cell_type": "code",
   "execution_count": 38,
   "metadata": {
    "ExecuteTime": {
     "end_time": "2021-06-16T15:29:48.994050Z",
     "start_time": "2021-06-16T15:28:18.880215Z"
    },
    "collapsed": true
   },
   "outputs": [
    {
     "name": "stdout",
     "output_type": "stream",
     "text": [
      "GETTING RULES:  {\"data\":[{\"id\":\"1405185357482762243\",\"value\":\" -is:retweet -is:reply -is:quote ((gasly OR hamilton OR verstappen OR perez OR norris OR leclerc OR bottas OR sainz OR gasly OR vettel OR ricciardo OR alonso OR ocon OR stroll OR tsunoda OR raikkonen OR giovinazzi OR schumacher OR russell OR mazepin OR latifi) (f1 OR formula1 OR \\\"french grand prix\\\" OR ricard OR \\\"french GP\\\" OR \\\"grand prix\\\" OR \\\"formula 1\\\" OR frenchgp))\"}],\"meta\":{\"sent\":\"2021-06-16T15:28:19.317Z\"}}\n",
      "DELETING RULES\n",
      "SET RULES:  {\"data\":[{\"value\":\" -is:retweet -is:reply -is:quote ((gasly OR hamilton OR verstappen OR perez OR norris OR leclerc OR bottas OR sainz OR gasly OR vettel OR ricciardo OR alonso OR ocon OR stroll OR tsunoda OR raikkonen OR giovinazzi OR schumacher OR russell OR mazepin OR latifi) (f1 OR formula1 OR \\\"french grand prix\\\" OR ricard OR \\\"french GP\\\" OR \\\"grand prix\\\" OR \\\"formula 1\\\" OR frenchgp))\",\"id\":\"1405185482108157953\"}],\"meta\":{\"sent\":\"2021-06-16T15:28:22.115Z\",\"summary\":{\"created\":1,\"not_created\":0,\"valid\":1,\"invalid\":0}}}\n",
      "GETTING RULES:  {\"data\":[{\"id\":\"1405185482108157953\",\"value\":\" -is:retweet -is:reply -is:quote ((gasly OR hamilton OR verstappen OR perez OR norris OR leclerc OR bottas OR sainz OR gasly OR vettel OR ricciardo OR alonso OR ocon OR stroll OR tsunoda OR raikkonen OR giovinazzi OR schumacher OR russell OR mazepin OR latifi) (f1 OR formula1 OR \\\"french grand prix\\\" OR ricard OR \\\"french GP\\\" OR \\\"grand prix\\\" OR \\\"formula 1\\\" OR frenchgp))\"}],\"meta\":{\"sent\":\"2021-06-16T15:28:22.354Z\"}}\n",
      "<Response [200]>\n",
      "{\n",
      "    \"data\": {\n",
      "        \"author_id\": \"1364879051438002176\",\n",
      "        \"created_at\": \"2021-06-16T15:28:19.000Z\",\n",
      "        \"geo\": {},\n",
      "        \"id\": \"1405185477834051584\",\n",
      "        \"public_metrics\": {\n",
      "            \"like_count\": 0,\n",
      "            \"quote_count\": 0,\n",
      "            \"reply_count\": 0,\n",
      "            \"retweet_count\": 0\n",
      "        },\n",
      "        \"text\": \"Esteban Ocon signs new Alpine F1 deal until\\u00a02024 https://t.co/zBA9Wr0YTt\"\n",
      "    },\n",
      "    \"includes\": {\n",
      "        \"users\": [\n",
      "            {\n",
      "                \"created_at\": \"2021-02-25T10:05:11.000Z\",\n",
      "                \"id\": \"1364879051438002176\",\n",
      "                \"location\": \"India\",\n",
      "                \"name\": \"Khel \\u0916\\u093c\\u092c\\u0930\",\n",
      "                \"username\": \"Khel17934254\"\n",
      "            }\n",
      "        ]\n",
      "    },\n",
      "    \"matching_rules\": [\n",
      "        {\n",
      "            \"id\": 1405185482108157953,\n",
      "            \"tag\": \"\"\n",
      "        }\n",
      "    ]\n",
      "}\n"
     ]
    },
    {
     "name": "stderr",
     "output_type": "stream",
     "text": [
      "/Users/iiyakhruschev/opt/anaconda3/lib/python3.7/site-packages/ipykernel_launcher.py:49: DeprecationWarning: insert is deprecated. Use insert_one or insert_many instead.\n"
     ]
    },
    {
     "name": "stdout",
     "output_type": "stream",
     "text": [
      "{\n",
      "    \"data\": {\n",
      "        \"author_id\": \"1350309702\",\n",
      "        \"created_at\": \"2021-06-16T15:28:43.000Z\",\n",
      "        \"geo\": {},\n",
      "        \"id\": \"1405185576085733380\",\n",
      "        \"public_metrics\": {\n",
      "            \"like_count\": 0,\n",
      "            \"quote_count\": 0,\n",
      "            \"reply_count\": 1,\n",
      "            \"retweet_count\": 0\n",
      "        },\n",
      "        \"text\": \"BIG UP TO ESTEBAN OCON WHOSE SIGNED A NEW 3 YEAR DEAL FOR ALPINE F1\\nWHERE HE'S BEEN SINCE THE START OF 2020\\nThis Following his debut at 2016 Belgian GP, 2 yrs at Force India, (Aston Martin), in 17 &amp; 18 with a year out in 19 as Mercedes 3rd Driver \\nhas he earned that New contract?\"\n",
      "    },\n",
      "    \"includes\": {\n",
      "        \"users\": [\n",
      "            {\n",
      "                \"created_at\": \"2013-04-13T21:55:37.000Z\",\n",
      "                \"id\": \"1350309702\",\n",
      "                \"location\": \"Stoke Ash, England\",\n",
      "                \"name\": \"Steven Featley\",\n",
      "                \"username\": \"SFeatley\"\n",
      "            }\n",
      "        ]\n",
      "    },\n",
      "    \"matching_rules\": [\n",
      "        {\n",
      "            \"id\": 1405185482108157953,\n",
      "            \"tag\": \"\"\n",
      "        }\n",
      "    ]\n",
      "}\n",
      "{\n",
      "    \"data\": {\n",
      "        \"author_id\": \"1368546012067995650\",\n",
      "        \"created_at\": \"2021-06-16T15:28:48.000Z\",\n",
      "        \"geo\": {},\n",
      "        \"id\": \"1405185596771995653\",\n",
      "        \"public_metrics\": {\n",
      "            \"like_count\": 0,\n",
      "            \"quote_count\": 0,\n",
      "            \"reply_count\": 0,\n",
      "            \"retweet_count\": 0\n",
      "        },\n",
      "        \"text\": \"Neuer Dreijahresvertrag: Esteban Ocon verl\\u00e4ngert mit Alpine bis 2024. \\n#skyf1 #f1 #alpine #ocon2024 https://t.co/GDqyfJmqjb\"\n",
      "    },\n",
      "    \"includes\": {\n",
      "        \"users\": [\n",
      "            {\n",
      "                \"created_at\": \"2021-03-07T12:56:52.000Z\",\n",
      "                \"id\": \"1368546012067995650\",\n",
      "                \"location\": \"Unterf\\u00f6hring, Deutschland\",\n",
      "                \"name\": \"Sky Sport Formel 1\",\n",
      "                \"username\": \"skysportformel1\"\n",
      "            }\n",
      "        ]\n",
      "    },\n",
      "    \"matching_rules\": [\n",
      "        {\n",
      "            \"id\": 1405185482108157953,\n",
      "            \"tag\": \"\"\n",
      "        }\n",
      "    ]\n",
      "}\n",
      "{\n",
      "    \"data\": {\n",
      "        \"author_id\": \"4843529163\",\n",
      "        \"created_at\": \"2021-06-16T15:29:08.000Z\",\n",
      "        \"geo\": {},\n",
      "        \"id\": \"1405185683753422851\",\n",
      "        \"public_metrics\": {\n",
      "            \"like_count\": 0,\n",
      "            \"quote_count\": 0,\n",
      "            \"reply_count\": 0,\n",
      "            \"retweet_count\": 0\n",
      "        },\n",
      "        \"text\": \"#Formula1 , Esteban #Ocon rinnova con #Alpine fino al 2024\\n\\nhttps://t.co/qETmvFzNhI\"\n",
      "    },\n",
      "    \"includes\": {\n",
      "        \"users\": [\n",
      "            {\n",
      "                \"created_at\": \"2016-01-24T22:43:30.000Z\",\n",
      "                \"id\": \"4843529163\",\n",
      "                \"location\": \"Italia\",\n",
      "                \"name\": \"Sportface\",\n",
      "                \"username\": \"sportface2016\"\n",
      "            }\n",
      "        ]\n",
      "    },\n",
      "    \"matching_rules\": [\n",
      "        {\n",
      "            \"id\": 1405185482108157953,\n",
      "            \"tag\": \"\"\n",
      "        }\n",
      "    ]\n",
      "}\n",
      "{\n",
      "    \"data\": {\n",
      "        \"author_id\": \"493042610\",\n",
      "        \"created_at\": \"2021-06-16T15:29:14.000Z\",\n",
      "        \"geo\": {},\n",
      "        \"id\": \"1405185708323741697\",\n",
      "        \"public_metrics\": {\n",
      "            \"like_count\": 0,\n",
      "            \"quote_count\": 0,\n",
      "            \"reply_count\": 0,\n",
      "            \"retweet_count\": 0\n",
      "        },\n",
      "        \"text\": \"#F1: ufficiale, #Ocon pilota #Alpine fino al 2024 https://t.co/gftAgCmHOa\"\n",
      "    },\n",
      "    \"includes\": {\n",
      "        \"users\": [\n",
      "            {\n",
      "                \"created_at\": \"2012-02-15T11:38:09.000Z\",\n",
      "                \"id\": \"493042610\",\n",
      "                \"name\": \"FormulaPassion.it\",\n",
      "                \"username\": \"FormulaPassion\"\n",
      "            }\n",
      "        ]\n",
      "    },\n",
      "    \"matching_rules\": [\n",
      "        {\n",
      "            \"id\": 1405185482108157953,\n",
      "            \"tag\": \"\"\n",
      "        }\n",
      "    ]\n",
      "}\n",
      "{\n",
      "    \"data\": {\n",
      "        \"author_id\": \"831236353585246210\",\n",
      "        \"created_at\": \"2021-06-16T15:29:19.000Z\",\n",
      "        \"geo\": {},\n",
      "        \"id\": \"1405185726921252866\",\n",
      "        \"public_metrics\": {\n",
      "            \"like_count\": 0,\n",
      "            \"quote_count\": 0,\n",
      "            \"reply_count\": 0,\n",
      "            \"retweet_count\": 0\n",
      "        },\n",
      "        \"text\": \"Alpine heeft de line-up voor volgend jaar rond. Alonso had al meerjarige deal op zak en Ocon ligt nu zelfs vast t/m 2024. Logische zet, vanuit beide partijen bezien. Eneh geruchten over Gasly in Franse dienst kunnen bij deze ook mooi de prullenbak in #F1\"\n",
      "    },\n",
      "    \"includes\": {\n",
      "        \"users\": [\n",
      "            {\n",
      "                \"created_at\": \"2017-02-13T20:19:25.000Z\",\n",
      "                \"id\": \"831236353585246210\",\n",
      "                \"name\": \"Ronald Vording\",\n",
      "                \"username\": \"RonaldVording\"\n",
      "            }\n",
      "        ]\n",
      "    },\n",
      "    \"matching_rules\": [\n",
      "        {\n",
      "            \"id\": 1405185482108157953,\n",
      "            \"tag\": \"\"\n",
      "        }\n",
      "    ]\n",
      "}\n",
      "{\n",
      "    \"data\": {\n",
      "        \"author_id\": \"1357714434265915393\",\n",
      "        \"created_at\": \"2021-06-16T15:29:22.000Z\",\n",
      "        \"geo\": {},\n",
      "        \"id\": \"1405185742696075265\",\n",
      "        \"public_metrics\": {\n",
      "            \"like_count\": 0,\n",
      "            \"quote_count\": 0,\n",
      "            \"reply_count\": 0,\n",
      "            \"retweet_count\": 0\n",
      "        },\n",
      "        \"text\": \"French driver signs contract extension with a french f1 team before the french GP.......\\n\\nDid someone say triple header? \\ud83d\\ude0f\\n\\nhttps://t.co/sXuZvqwBqr\\n\\n#estebanocon #alpinef1 #formula1 #FrenchGP #F1 #f1ramble\"\n",
      "    },\n",
      "    \"includes\": {\n",
      "        \"users\": [\n",
      "            {\n",
      "                \"created_at\": \"2021-02-05T15:35:34.000Z\",\n",
      "                \"id\": \"1357714434265915393\",\n",
      "                \"name\": \"F1 Ramble\",\n",
      "                \"username\": \"F1Ramble\"\n",
      "            }\n",
      "        ]\n",
      "    },\n",
      "    \"matching_rules\": [\n",
      "        {\n",
      "            \"id\": 1405185482108157953,\n",
      "            \"tag\": \"\"\n",
      "        }\n",
      "    ]\n",
      "}\n",
      "{\n",
      "    \"data\": {\n",
      "        \"author_id\": \"1129878879143911426\",\n",
      "        \"created_at\": \"2021-06-16T15:29:26.000Z\",\n",
      "        \"geo\": {},\n",
      "        \"id\": \"1405185757149605888\",\n",
      "        \"public_metrics\": {\n",
      "            \"like_count\": 0,\n",
      "            \"quote_count\": 0,\n",
      "            \"reply_count\": 0,\n",
      "            \"retweet_count\": 0\n",
      "        },\n",
      "        \"text\": \"OFICIAL: Esteban Ocon seguir\\u00e1 con @AlpineF1Team hasta 2024 tras firmar una extensi\\u00f3n de su contrato por tres a\\u00f1os m\\u00e1s #F1 https://t.co/8iKFIExQsJ\"\n",
      "    },\n",
      "    \"includes\": {\n",
      "        \"users\": [\n",
      "            {\n",
      "                \"created_at\": \"2019-05-18T22:38:11.000Z\",\n",
      "                \"id\": \"1129878879143911426\",\n",
      "                \"location\": \"Bogot\\u00e1, D.C., Colombia\",\n",
      "                \"name\": \"Valentina Pe\\u00f1a Orozco\",\n",
      "                \"username\": \"valentinapena98\"\n",
      "            },\n",
      "            {\n",
      "                \"created_at\": \"2009-04-02T07:08:31.000Z\",\n",
      "                \"id\": \"28297965\",\n",
      "                \"name\": \"Alpine F1 Team\",\n",
      "                \"username\": \"AlpineF1Team\"\n",
      "            }\n",
      "        ]\n",
      "    },\n",
      "    \"matching_rules\": [\n",
      "        {\n",
      "            \"id\": 1405185482108157953,\n",
      "            \"tag\": \"\"\n",
      "        }\n",
      "    ]\n",
      "}\n",
      "{\n",
      "    \"data\": {\n",
      "        \"author_id\": \"1318271660307472385\",\n",
      "        \"created_at\": \"2021-06-16T15:29:27.000Z\",\n",
      "        \"geo\": {},\n",
      "        \"id\": \"1405185763189301248\",\n",
      "        \"public_metrics\": {\n",
      "            \"like_count\": 0,\n",
      "            \"quote_count\": 0,\n",
      "            \"reply_count\": 0,\n",
      "            \"retweet_count\": 0\n",
      "        },\n",
      "        \"text\": \"Esteban Ocon has signed a 3-year deal with Alpine, to take him to the end of 2024. #F1 2022 is beginning to take shape! #FrenchGP https://t.co/SUA6Ha5umS\"\n",
      "    },\n",
      "    \"includes\": {\n",
      "        \"users\": [\n",
      "            {\n",
      "                \"created_at\": \"2020-10-19T19:23:56.000Z\",\n",
      "                \"id\": \"1318271660307472385\",\n",
      "                \"location\": \"Worldwide\",\n",
      "                \"name\": \"ASN Motorsports\",\n",
      "                \"username\": \"AsnMotorsports\"\n",
      "            }\n",
      "        ]\n",
      "    },\n",
      "    \"matching_rules\": [\n",
      "        {\n",
      "            \"id\": 1405185482108157953,\n",
      "            \"tag\": \"\"\n",
      "        }\n",
      "    ]\n",
      "}\n",
      "{\n",
      "    \"data\": {\n",
      "        \"author_id\": \"3308385844\",\n",
      "        \"created_at\": \"2021-06-16T15:29:31.000Z\",\n",
      "        \"geo\": {},\n",
      "        \"id\": \"1405185780444712960\",\n",
      "        \"public_metrics\": {\n",
      "            \"like_count\": 0,\n",
      "            \"quote_count\": 0,\n",
      "            \"reply_count\": 0,\n",
      "            \"retweet_count\": 0\n",
      "        },\n",
      "        \"text\": \"Will Esteban Ocon ever be good enough to fight for a World Drivers Championship in F1? #F1 #FrenchGP #Ocon\"\n",
      "    },\n",
      "    \"includes\": {\n",
      "        \"users\": [\n",
      "            {\n",
      "                \"created_at\": \"2015-06-04T16:01:06.000Z\",\n",
      "                \"id\": \"3308385844\",\n",
      "                \"location\": \"UK\",\n",
      "                \"name\": \"Formula Motorsport\",\n",
      "                \"username\": \"Formulamspt\"\n",
      "            }\n",
      "        ]\n",
      "    },\n",
      "    \"matching_rules\": [\n",
      "        {\n",
      "            \"id\": 1405185482108157953,\n",
      "            \"tag\": \"\"\n",
      "        }\n",
      "    ]\n",
      "}\n"
     ]
    },
    {
     "ename": "KeyboardInterrupt",
     "evalue": "",
     "output_type": "error",
     "traceback": [
      "\u001b[0;31m---------------------------------------------------------------------------\u001b[0m",
      "\u001b[0;31mKeyboardInterrupt\u001b[0m                         Traceback (most recent call last)",
      "\u001b[0;32m<ipython-input-38-61510c1ca27f>\u001b[0m in \u001b[0;36m<module>\u001b[0;34m\u001b[0m\n\u001b[1;32m     62\u001b[0m \u001b[0;34m\u001b[0m\u001b[0m\n\u001b[1;32m     63\u001b[0m \u001b[0;32mif\u001b[0m \u001b[0m__name__\u001b[0m \u001b[0;34m==\u001b[0m \u001b[0;34m\"__main__\"\u001b[0m\u001b[0;34m:\u001b[0m\u001b[0;34m\u001b[0m\u001b[0;34m\u001b[0m\u001b[0m\n\u001b[0;32m---> 64\u001b[0;31m     \u001b[0mmain\u001b[0m\u001b[0;34m(\u001b[0m\u001b[0;34m)\u001b[0m\u001b[0;34m\u001b[0m\u001b[0;34m\u001b[0m\u001b[0m\n\u001b[0m",
      "\u001b[0;32m<ipython-input-38-61510c1ca27f>\u001b[0m in \u001b[0;36mmain\u001b[0;34m()\u001b[0m\n\u001b[1;32m     57\u001b[0m     \u001b[0mgetRules\u001b[0m\u001b[0;34m(\u001b[0m\u001b[0;34m)\u001b[0m\u001b[0;34m\u001b[0m\u001b[0;34m\u001b[0m\u001b[0m\n\u001b[1;32m     58\u001b[0m     \u001b[0;32mwhile\u001b[0m \u001b[0;32mTrue\u001b[0m\u001b[0;34m:\u001b[0m\u001b[0;34m\u001b[0m\u001b[0;34m\u001b[0m\u001b[0m\n\u001b[0;32m---> 59\u001b[0;31m         \u001b[0mgetStream\u001b[0m\u001b[0;34m(\u001b[0m\u001b[0mheaders\u001b[0m\u001b[0;34m)\u001b[0m\u001b[0;34m\u001b[0m\u001b[0;34m\u001b[0m\u001b[0m\n\u001b[0m\u001b[1;32m     60\u001b[0m         \u001b[0mtimeout\u001b[0m \u001b[0;34m+=\u001b[0m \u001b[0;36m1\u001b[0m\u001b[0;34m\u001b[0m\u001b[0;34m\u001b[0m\u001b[0m\n\u001b[1;32m     61\u001b[0m \u001b[0;34m\u001b[0m\u001b[0m\n",
      "\u001b[0;32m<ipython-input-38-61510c1ca27f>\u001b[0m in \u001b[0;36mgetStream\u001b[0;34m(headers)\u001b[0m\n\u001b[1;32m     43\u001b[0m                       stream=True) as response:\n\u001b[1;32m     44\u001b[0m         \u001b[0mprint\u001b[0m\u001b[0;34m(\u001b[0m\u001b[0mresponse\u001b[0m\u001b[0;34m)\u001b[0m\u001b[0;34m\u001b[0m\u001b[0;34m\u001b[0m\u001b[0m\n\u001b[0;32m---> 45\u001b[0;31m         \u001b[0;32mfor\u001b[0m \u001b[0mresponse_line\u001b[0m \u001b[0;32min\u001b[0m \u001b[0mresponse\u001b[0m\u001b[0;34m.\u001b[0m\u001b[0miter_lines\u001b[0m\u001b[0;34m(\u001b[0m\u001b[0;34m)\u001b[0m\u001b[0;34m:\u001b[0m\u001b[0;34m\u001b[0m\u001b[0;34m\u001b[0m\u001b[0m\n\u001b[0m\u001b[1;32m     46\u001b[0m             \u001b[0;32mif\u001b[0m \u001b[0mresponse_line\u001b[0m\u001b[0;34m:\u001b[0m\u001b[0;34m\u001b[0m\u001b[0;34m\u001b[0m\u001b[0m\n\u001b[1;32m     47\u001b[0m                 \u001b[0mjson_response\u001b[0m \u001b[0;34m=\u001b[0m \u001b[0mjson\u001b[0m\u001b[0;34m.\u001b[0m\u001b[0mloads\u001b[0m\u001b[0;34m(\u001b[0m\u001b[0mresponse_line\u001b[0m\u001b[0;34m)\u001b[0m\u001b[0;34m\u001b[0m\u001b[0;34m\u001b[0m\u001b[0m\n",
      "\u001b[0;32m~/opt/anaconda3/lib/python3.7/site-packages/requests/models.py\u001b[0m in \u001b[0;36miter_lines\u001b[0;34m(self, chunk_size, decode_unicode, delimiter)\u001b[0m\n\u001b[1;32m    793\u001b[0m         \u001b[0mpending\u001b[0m \u001b[0;34m=\u001b[0m \u001b[0;32mNone\u001b[0m\u001b[0;34m\u001b[0m\u001b[0;34m\u001b[0m\u001b[0m\n\u001b[1;32m    794\u001b[0m \u001b[0;34m\u001b[0m\u001b[0m\n\u001b[0;32m--> 795\u001b[0;31m         \u001b[0;32mfor\u001b[0m \u001b[0mchunk\u001b[0m \u001b[0;32min\u001b[0m \u001b[0mself\u001b[0m\u001b[0;34m.\u001b[0m\u001b[0miter_content\u001b[0m\u001b[0;34m(\u001b[0m\u001b[0mchunk_size\u001b[0m\u001b[0;34m=\u001b[0m\u001b[0mchunk_size\u001b[0m\u001b[0;34m,\u001b[0m \u001b[0mdecode_unicode\u001b[0m\u001b[0;34m=\u001b[0m\u001b[0mdecode_unicode\u001b[0m\u001b[0;34m)\u001b[0m\u001b[0;34m:\u001b[0m\u001b[0;34m\u001b[0m\u001b[0;34m\u001b[0m\u001b[0m\n\u001b[0m\u001b[1;32m    796\u001b[0m \u001b[0;34m\u001b[0m\u001b[0m\n\u001b[1;32m    797\u001b[0m             \u001b[0;32mif\u001b[0m \u001b[0mpending\u001b[0m \u001b[0;32mis\u001b[0m \u001b[0;32mnot\u001b[0m \u001b[0;32mNone\u001b[0m\u001b[0;34m:\u001b[0m\u001b[0;34m\u001b[0m\u001b[0;34m\u001b[0m\u001b[0m\n",
      "\u001b[0;32m~/opt/anaconda3/lib/python3.7/site-packages/requests/models.py\u001b[0m in \u001b[0;36mgenerate\u001b[0;34m()\u001b[0m\n\u001b[1;32m    749\u001b[0m             \u001b[0;32mif\u001b[0m \u001b[0mhasattr\u001b[0m\u001b[0;34m(\u001b[0m\u001b[0mself\u001b[0m\u001b[0;34m.\u001b[0m\u001b[0mraw\u001b[0m\u001b[0;34m,\u001b[0m \u001b[0;34m'stream'\u001b[0m\u001b[0;34m)\u001b[0m\u001b[0;34m:\u001b[0m\u001b[0;34m\u001b[0m\u001b[0;34m\u001b[0m\u001b[0m\n\u001b[1;32m    750\u001b[0m                 \u001b[0;32mtry\u001b[0m\u001b[0;34m:\u001b[0m\u001b[0;34m\u001b[0m\u001b[0;34m\u001b[0m\u001b[0m\n\u001b[0;32m--> 751\u001b[0;31m                     \u001b[0;32mfor\u001b[0m \u001b[0mchunk\u001b[0m \u001b[0;32min\u001b[0m \u001b[0mself\u001b[0m\u001b[0;34m.\u001b[0m\u001b[0mraw\u001b[0m\u001b[0;34m.\u001b[0m\u001b[0mstream\u001b[0m\u001b[0;34m(\u001b[0m\u001b[0mchunk_size\u001b[0m\u001b[0;34m,\u001b[0m \u001b[0mdecode_content\u001b[0m\u001b[0;34m=\u001b[0m\u001b[0;32mTrue\u001b[0m\u001b[0;34m)\u001b[0m\u001b[0;34m:\u001b[0m\u001b[0;34m\u001b[0m\u001b[0;34m\u001b[0m\u001b[0m\n\u001b[0m\u001b[1;32m    752\u001b[0m                         \u001b[0;32myield\u001b[0m \u001b[0mchunk\u001b[0m\u001b[0;34m\u001b[0m\u001b[0;34m\u001b[0m\u001b[0m\n\u001b[1;32m    753\u001b[0m                 \u001b[0;32mexcept\u001b[0m \u001b[0mProtocolError\u001b[0m \u001b[0;32mas\u001b[0m \u001b[0me\u001b[0m\u001b[0;34m:\u001b[0m\u001b[0;34m\u001b[0m\u001b[0;34m\u001b[0m\u001b[0m\n",
      "\u001b[0;32m~/opt/anaconda3/lib/python3.7/site-packages/urllib3/response.py\u001b[0m in \u001b[0;36mstream\u001b[0;34m(self, amt, decode_content)\u001b[0m\n\u001b[1;32m    569\u001b[0m         \"\"\"\n\u001b[1;32m    570\u001b[0m         \u001b[0;32mif\u001b[0m \u001b[0mself\u001b[0m\u001b[0;34m.\u001b[0m\u001b[0mchunked\u001b[0m \u001b[0;32mand\u001b[0m \u001b[0mself\u001b[0m\u001b[0;34m.\u001b[0m\u001b[0msupports_chunked_reads\u001b[0m\u001b[0;34m(\u001b[0m\u001b[0;34m)\u001b[0m\u001b[0;34m:\u001b[0m\u001b[0;34m\u001b[0m\u001b[0;34m\u001b[0m\u001b[0m\n\u001b[0;32m--> 571\u001b[0;31m             \u001b[0;32mfor\u001b[0m \u001b[0mline\u001b[0m \u001b[0;32min\u001b[0m \u001b[0mself\u001b[0m\u001b[0;34m.\u001b[0m\u001b[0mread_chunked\u001b[0m\u001b[0;34m(\u001b[0m\u001b[0mamt\u001b[0m\u001b[0;34m,\u001b[0m \u001b[0mdecode_content\u001b[0m\u001b[0;34m=\u001b[0m\u001b[0mdecode_content\u001b[0m\u001b[0;34m)\u001b[0m\u001b[0;34m:\u001b[0m\u001b[0;34m\u001b[0m\u001b[0;34m\u001b[0m\u001b[0m\n\u001b[0m\u001b[1;32m    572\u001b[0m                 \u001b[0;32myield\u001b[0m \u001b[0mline\u001b[0m\u001b[0;34m\u001b[0m\u001b[0;34m\u001b[0m\u001b[0m\n\u001b[1;32m    573\u001b[0m         \u001b[0;32melse\u001b[0m\u001b[0;34m:\u001b[0m\u001b[0;34m\u001b[0m\u001b[0;34m\u001b[0m\u001b[0m\n",
      "\u001b[0;32m~/opt/anaconda3/lib/python3.7/site-packages/urllib3/response.py\u001b[0m in \u001b[0;36mread_chunked\u001b[0;34m(self, amt, decode_content)\u001b[0m\n\u001b[1;32m    761\u001b[0m \u001b[0;34m\u001b[0m\u001b[0m\n\u001b[1;32m    762\u001b[0m             \u001b[0;32mwhile\u001b[0m \u001b[0;32mTrue\u001b[0m\u001b[0;34m:\u001b[0m\u001b[0;34m\u001b[0m\u001b[0;34m\u001b[0m\u001b[0m\n\u001b[0;32m--> 763\u001b[0;31m                 \u001b[0mself\u001b[0m\u001b[0;34m.\u001b[0m\u001b[0m_update_chunk_length\u001b[0m\u001b[0;34m(\u001b[0m\u001b[0;34m)\u001b[0m\u001b[0;34m\u001b[0m\u001b[0;34m\u001b[0m\u001b[0m\n\u001b[0m\u001b[1;32m    764\u001b[0m                 \u001b[0;32mif\u001b[0m \u001b[0mself\u001b[0m\u001b[0;34m.\u001b[0m\u001b[0mchunk_left\u001b[0m \u001b[0;34m==\u001b[0m \u001b[0;36m0\u001b[0m\u001b[0;34m:\u001b[0m\u001b[0;34m\u001b[0m\u001b[0;34m\u001b[0m\u001b[0m\n\u001b[1;32m    765\u001b[0m                     \u001b[0;32mbreak\u001b[0m\u001b[0;34m\u001b[0m\u001b[0;34m\u001b[0m\u001b[0m\n",
      "\u001b[0;32m~/opt/anaconda3/lib/python3.7/site-packages/urllib3/response.py\u001b[0m in \u001b[0;36m_update_chunk_length\u001b[0;34m(self)\u001b[0m\n\u001b[1;32m    691\u001b[0m         \u001b[0;32mif\u001b[0m \u001b[0mself\u001b[0m\u001b[0;34m.\u001b[0m\u001b[0mchunk_left\u001b[0m \u001b[0;32mis\u001b[0m \u001b[0;32mnot\u001b[0m \u001b[0;32mNone\u001b[0m\u001b[0;34m:\u001b[0m\u001b[0;34m\u001b[0m\u001b[0;34m\u001b[0m\u001b[0m\n\u001b[1;32m    692\u001b[0m             \u001b[0;32mreturn\u001b[0m\u001b[0;34m\u001b[0m\u001b[0;34m\u001b[0m\u001b[0m\n\u001b[0;32m--> 693\u001b[0;31m         \u001b[0mline\u001b[0m \u001b[0;34m=\u001b[0m \u001b[0mself\u001b[0m\u001b[0;34m.\u001b[0m\u001b[0m_fp\u001b[0m\u001b[0;34m.\u001b[0m\u001b[0mfp\u001b[0m\u001b[0;34m.\u001b[0m\u001b[0mreadline\u001b[0m\u001b[0;34m(\u001b[0m\u001b[0;34m)\u001b[0m\u001b[0;34m\u001b[0m\u001b[0;34m\u001b[0m\u001b[0m\n\u001b[0m\u001b[1;32m    694\u001b[0m         \u001b[0mline\u001b[0m \u001b[0;34m=\u001b[0m \u001b[0mline\u001b[0m\u001b[0;34m.\u001b[0m\u001b[0msplit\u001b[0m\u001b[0;34m(\u001b[0m\u001b[0;34mb\";\"\u001b[0m\u001b[0;34m,\u001b[0m \u001b[0;36m1\u001b[0m\u001b[0;34m)\u001b[0m\u001b[0;34m[\u001b[0m\u001b[0;36m0\u001b[0m\u001b[0;34m]\u001b[0m\u001b[0;34m\u001b[0m\u001b[0;34m\u001b[0m\u001b[0m\n\u001b[1;32m    695\u001b[0m         \u001b[0;32mtry\u001b[0m\u001b[0;34m:\u001b[0m\u001b[0;34m\u001b[0m\u001b[0;34m\u001b[0m\u001b[0m\n",
      "\u001b[0;32m~/opt/anaconda3/lib/python3.7/socket.py\u001b[0m in \u001b[0;36mreadinto\u001b[0;34m(self, b)\u001b[0m\n\u001b[1;32m    587\u001b[0m         \u001b[0;32mwhile\u001b[0m \u001b[0;32mTrue\u001b[0m\u001b[0;34m:\u001b[0m\u001b[0;34m\u001b[0m\u001b[0;34m\u001b[0m\u001b[0m\n\u001b[1;32m    588\u001b[0m             \u001b[0;32mtry\u001b[0m\u001b[0;34m:\u001b[0m\u001b[0;34m\u001b[0m\u001b[0;34m\u001b[0m\u001b[0m\n\u001b[0;32m--> 589\u001b[0;31m                 \u001b[0;32mreturn\u001b[0m \u001b[0mself\u001b[0m\u001b[0;34m.\u001b[0m\u001b[0m_sock\u001b[0m\u001b[0;34m.\u001b[0m\u001b[0mrecv_into\u001b[0m\u001b[0;34m(\u001b[0m\u001b[0mb\u001b[0m\u001b[0;34m)\u001b[0m\u001b[0;34m\u001b[0m\u001b[0;34m\u001b[0m\u001b[0m\n\u001b[0m\u001b[1;32m    590\u001b[0m             \u001b[0;32mexcept\u001b[0m \u001b[0mtimeout\u001b[0m\u001b[0;34m:\u001b[0m\u001b[0;34m\u001b[0m\u001b[0;34m\u001b[0m\u001b[0m\n\u001b[1;32m    591\u001b[0m                 \u001b[0mself\u001b[0m\u001b[0;34m.\u001b[0m\u001b[0m_timeout_occurred\u001b[0m \u001b[0;34m=\u001b[0m \u001b[0;32mTrue\u001b[0m\u001b[0;34m\u001b[0m\u001b[0;34m\u001b[0m\u001b[0m\n",
      "\u001b[0;32m~/opt/anaconda3/lib/python3.7/ssl.py\u001b[0m in \u001b[0;36mrecv_into\u001b[0;34m(self, buffer, nbytes, flags)\u001b[0m\n\u001b[1;32m   1069\u001b[0m                   \u001b[0;34m\"non-zero flags not allowed in calls to recv_into() on %s\"\u001b[0m \u001b[0;34m%\u001b[0m\u001b[0;34m\u001b[0m\u001b[0;34m\u001b[0m\u001b[0m\n\u001b[1;32m   1070\u001b[0m                   self.__class__)\n\u001b[0;32m-> 1071\u001b[0;31m             \u001b[0;32mreturn\u001b[0m \u001b[0mself\u001b[0m\u001b[0;34m.\u001b[0m\u001b[0mread\u001b[0m\u001b[0;34m(\u001b[0m\u001b[0mnbytes\u001b[0m\u001b[0;34m,\u001b[0m \u001b[0mbuffer\u001b[0m\u001b[0;34m)\u001b[0m\u001b[0;34m\u001b[0m\u001b[0;34m\u001b[0m\u001b[0m\n\u001b[0m\u001b[1;32m   1072\u001b[0m         \u001b[0;32melse\u001b[0m\u001b[0;34m:\u001b[0m\u001b[0;34m\u001b[0m\u001b[0;34m\u001b[0m\u001b[0m\n\u001b[1;32m   1073\u001b[0m             \u001b[0;32mreturn\u001b[0m \u001b[0msuper\u001b[0m\u001b[0;34m(\u001b[0m\u001b[0;34m)\u001b[0m\u001b[0;34m.\u001b[0m\u001b[0mrecv_into\u001b[0m\u001b[0;34m(\u001b[0m\u001b[0mbuffer\u001b[0m\u001b[0;34m,\u001b[0m \u001b[0mnbytes\u001b[0m\u001b[0;34m,\u001b[0m \u001b[0mflags\u001b[0m\u001b[0;34m)\u001b[0m\u001b[0;34m\u001b[0m\u001b[0;34m\u001b[0m\u001b[0m\n",
      "\u001b[0;32m~/opt/anaconda3/lib/python3.7/ssl.py\u001b[0m in \u001b[0;36mread\u001b[0;34m(self, len, buffer)\u001b[0m\n\u001b[1;32m    927\u001b[0m         \u001b[0;32mtry\u001b[0m\u001b[0;34m:\u001b[0m\u001b[0;34m\u001b[0m\u001b[0;34m\u001b[0m\u001b[0m\n\u001b[1;32m    928\u001b[0m             \u001b[0;32mif\u001b[0m \u001b[0mbuffer\u001b[0m \u001b[0;32mis\u001b[0m \u001b[0;32mnot\u001b[0m \u001b[0;32mNone\u001b[0m\u001b[0;34m:\u001b[0m\u001b[0;34m\u001b[0m\u001b[0;34m\u001b[0m\u001b[0m\n\u001b[0;32m--> 929\u001b[0;31m                 \u001b[0;32mreturn\u001b[0m \u001b[0mself\u001b[0m\u001b[0;34m.\u001b[0m\u001b[0m_sslobj\u001b[0m\u001b[0;34m.\u001b[0m\u001b[0mread\u001b[0m\u001b[0;34m(\u001b[0m\u001b[0mlen\u001b[0m\u001b[0;34m,\u001b[0m \u001b[0mbuffer\u001b[0m\u001b[0;34m)\u001b[0m\u001b[0;34m\u001b[0m\u001b[0;34m\u001b[0m\u001b[0m\n\u001b[0m\u001b[1;32m    930\u001b[0m             \u001b[0;32melse\u001b[0m\u001b[0;34m:\u001b[0m\u001b[0;34m\u001b[0m\u001b[0;34m\u001b[0m\u001b[0m\n\u001b[1;32m    931\u001b[0m                 \u001b[0;32mreturn\u001b[0m \u001b[0mself\u001b[0m\u001b[0;34m.\u001b[0m\u001b[0m_sslobj\u001b[0m\u001b[0;34m.\u001b[0m\u001b[0mread\u001b[0m\u001b[0;34m(\u001b[0m\u001b[0mlen\u001b[0m\u001b[0;34m)\u001b[0m\u001b[0;34m\u001b[0m\u001b[0;34m\u001b[0m\u001b[0m\n",
      "\u001b[0;31mKeyboardInterrupt\u001b[0m: "
     ]
    }
   ],
   "source": [
    "def create_headers(bearer_token):\n",
    "    headers = {\"Authorization\": \"Bearer {}\".format(bearer_token)}\n",
    "    return headers\n",
    "\n",
    "\n",
    "def getRules():\n",
    "    response2 = requests.get(\n",
    "        \"https://api.twitter.com/2/tweets/search/stream/rules\",\n",
    "        headers=create_headers(bearer_token))\n",
    "    print(\"GETTING RULES: \", response2.text)\n",
    "    return response2.json()\n",
    "\n",
    "\n",
    "def deleteRules():\n",
    "    try:\n",
    "        response2 = getRules()\n",
    "        ids = [i['id'] for i in response2['data']]\n",
    "        payload = {\"delete\": {\"ids\": ids}}\n",
    "        response = requests.post(\n",
    "            \"https://api.twitter.com/2/tweets/search/stream/rules\",\n",
    "            headers=headers,\n",
    "            json=payload)\n",
    "        print(\"DELETING RULES\")\n",
    "    except:\n",
    "#         print(\"NOT DELETED: \", response.text)\n",
    "        pass\n",
    "\n",
    "\n",
    "def setRules():\n",
    "    payload = {\"add\": rules}\n",
    "    response = requests.post(\n",
    "        \"https://api.twitter.com/2/tweets/search/stream/rules\",\n",
    "        headers=create_headers(bearer_token),\n",
    "        json=payload,\n",
    "    )\n",
    "    print(\"SET RULES: \", response.text)\n",
    "\n",
    "\n",
    "def getStream(headers):\n",
    "    with requests.get(\"https://api.twitter.com/2/tweets/search/stream\",\n",
    "                      headers=headers,\n",
    "                      params=params,\n",
    "                      stream=True) as response:\n",
    "        print(response)\n",
    "        for response_line in response.iter_lines():\n",
    "            if response_line:\n",
    "                json_response = json.loads(response_line)\n",
    "                print(json.dumps(json_response, indent=4, sort_keys=True))\n",
    "                col.insert(json.loads(response_line))\n",
    "                \n",
    "            \n",
    "\n",
    "def main():\n",
    "    headers = create_headers(bearer_token)\n",
    "    deleteRules()\n",
    "    setRules()\n",
    "    getRules()\n",
    "    while True:\n",
    "        getStream(headers)\n",
    "        timeout += 1\n",
    "\n",
    "\n",
    "if __name__ == \"__main__\":\n",
    "    main()"
   ]
  },
  {
   "cell_type": "code",
   "execution_count": 20,
   "metadata": {
    "ExecuteTime": {
     "end_time": "2021-06-16T15:14:40.891555Z",
     "start_time": "2021-06-16T15:14:40.645038Z"
    }
   },
   "outputs": [],
   "source": [
    "headers = create_headers(bearer_token)\n",
    "r = requests.get(\"https://api.twitter.com/2/tweets/search/stream/rules\",\n",
    "                      headers=headers,\n",
    "                      params=params,\n",
    "                      stream=True)"
   ]
  },
  {
   "cell_type": "code",
   "execution_count": 34,
   "metadata": {
    "ExecuteTime": {
     "end_time": "2021-06-16T15:20:41.872376Z",
     "start_time": "2021-06-16T15:20:41.869731Z"
    }
   },
   "outputs": [],
   "source": [
    "rules = [{#\"value\": \"(formula1 OR #f1) -indycar -'indy car' -is:nullcast -is:retweet -is:reply -is:quote\",\n",
    "          \"value\": ' -is:retweet -is:reply -is:quote ((gasly OR hamilton OR verstappen OR perez OR norris OR leclerc OR bottas OR sainz OR gasly OR vettel OR ricciardo OR alonso OR ocon OR stroll OR tsunoda OR raikkonen OR giovinazzi OR schumacher OR russell OR mazepin OR latifi) (f1 OR formula1 OR \"french grand prix\" OR ricard OR \"french GP\" OR \"grand prix\" OR \"formula 1\" OR frenchgp))'}]\n",
    "params = {\n",
    "    'tweet.fields': 'created_at,public_metrics',\n",
    "    'expansions': 'author_id,referenced_tweets.id,geo.place_id',\n",
    "    'user.fields': 'created_at,location'\n",
    "}"
   ]
  },
  {
   "cell_type": "code",
   "execution_count": 35,
   "metadata": {
    "ExecuteTime": {
     "end_time": "2021-06-16T15:20:44.274434Z",
     "start_time": "2021-06-16T15:20:42.789166Z"
    }
   },
   "outputs": [
    {
     "data": {
      "text/plain": [
       "'{\"data\":[{\"value\":\" -is:retweet -is:reply -is:quote ((gasly OR hamilton OR verstappen OR perez OR norris OR leclerc OR bottas OR sainz OR gasly OR vettel OR ricciardo OR alonso OR ocon OR stroll OR tsunoda OR raikkonen OR giovinazzi OR schumacher OR russell OR mazepin OR latifi) (f1 OR formula1 OR \\\\\"french grand prix\\\\\" OR ricard OR \\\\\"french GP\\\\\" OR \\\\\"grand prix\\\\\" OR \\\\\"formula 1\\\\\" OR frenchgp))\",\"id\":\"1405183563151073280\"}],\"meta\":{\"sent\":\"2021-06-16T15:20:44.132Z\",\"summary\":{\"created\":1,\"not_created\":0,\"valid\":1,\"invalid\":0}}}'"
      ]
     },
     "execution_count": 35,
     "metadata": {},
     "output_type": "execute_result"
    }
   ],
   "source": [
    "payload = {\"add\": rules}\n",
    "response = requests.post(\n",
    "        \"https://api.twitter.com/2/tweets/search/stream/rules\",\n",
    "        headers=create_headers(bearer_token),\n",
    "        json=payload,\n",
    "    )\n",
    "response.text"
   ]
  },
  {
   "cell_type": "code",
   "execution_count": 36,
   "metadata": {
    "ExecuteTime": {
     "end_time": "2021-06-16T15:21:00.760299Z",
     "start_time": "2021-06-16T15:21:00.325803Z"
    }
   },
   "outputs": [
    {
     "name": "stdout",
     "output_type": "stream",
     "text": [
      "GETTING RULES:  {\"data\":[{\"id\":\"1404970790316130308\",\"value\":\"formula1 OR #f1\"},{\"id\":\"1405183354400645122\",\"value\":\"((gasly OR hamilton OR verstappen OR perez OR norris OR leclerc OR bottas OR sainz OR gasly OR vettel OR ricciardo OR alonso OR ocon OR stroll OR tsunoda OR raikkonen OR giovinazzi OR schumacher OR russell OR mazepin OR latifi) (f1 OR formula1 OR \\\"french grand prix\\\" OR ricard OR \\\"french GP\\\" OR \\\"grand prix\\\" OR \\\"formula 1\\\" OR frenchgp))\"},{\"id\":\"1405183563151073280\",\"value\":\" -is:retweet -is:reply -is:quote ((gasly OR hamilton OR verstappen OR perez OR norris OR leclerc OR bottas OR sainz OR gasly OR vettel OR ricciardo OR alonso OR ocon OR stroll OR tsunoda OR raikkonen OR giovinazzi OR schumacher OR russell OR mazepin OR latifi) (f1 OR formula1 OR \\\"french grand prix\\\" OR ricard OR \\\"french GP\\\" OR \\\"grand prix\\\" OR \\\"formula 1\\\" OR frenchgp))\"}],\"meta\":{\"sent\":\"2021-06-16T15:21:00.540Z\"}}\n"
     ]
    },
    {
     "data": {
      "text/plain": [
       "{'data': [{'id': '1404970790316130308', 'value': 'formula1 OR #f1'},\n",
       "  {'id': '1405183354400645122',\n",
       "   'value': '((gasly OR hamilton OR verstappen OR perez OR norris OR leclerc OR bottas OR sainz OR gasly OR vettel OR ricciardo OR alonso OR ocon OR stroll OR tsunoda OR raikkonen OR giovinazzi OR schumacher OR russell OR mazepin OR latifi) (f1 OR formula1 OR \"french grand prix\" OR ricard OR \"french GP\" OR \"grand prix\" OR \"formula 1\" OR frenchgp))'},\n",
       "  {'id': '1405183563151073280',\n",
       "   'value': ' -is:retweet -is:reply -is:quote ((gasly OR hamilton OR verstappen OR perez OR norris OR leclerc OR bottas OR sainz OR gasly OR vettel OR ricciardo OR alonso OR ocon OR stroll OR tsunoda OR raikkonen OR giovinazzi OR schumacher OR russell OR mazepin OR latifi) (f1 OR formula1 OR \"french grand prix\" OR ricard OR \"french GP\" OR \"grand prix\" OR \"formula 1\" OR frenchgp))'}],\n",
       " 'meta': {'sent': '2021-06-16T15:21:00.540Z'}}"
      ]
     },
     "execution_count": 36,
     "metadata": {},
     "output_type": "execute_result"
    }
   ],
   "source": [
    "getRules()"
   ]
  },
  {
   "cell_type": "markdown",
   "metadata": {
    "heading_collapsed": true
   },
   "source": [
    "## Get Historic"
   ]
  },
  {
   "cell_type": "code",
   "execution_count": null,
   "metadata": {
    "hidden": true
   },
   "outputs": [],
   "source": []
  },
  {
   "cell_type": "code",
   "execution_count": 53,
   "metadata": {
    "ExecuteTime": {
     "end_time": "2021-06-15T23:00:14.506034Z",
     "start_time": "2021-06-15T23:00:14.083876Z"
    },
    "hidden": true
   },
   "outputs": [
    {
     "name": "stdout",
     "output_type": "stream",
     "text": [
      "401\n"
     ]
    },
    {
     "ename": "Exception",
     "evalue": "Request returned an error: 401 {\"title\":\"Unauthorized\",\"type\":\"about:blank\",\"status\":401,\"detail\":\"Unauthorized\"}",
     "output_type": "error",
     "traceback": [
      "\u001b[0;31m---------------------------------------------------------------------------\u001b[0m",
      "\u001b[0;31mException\u001b[0m                                 Traceback (most recent call last)",
      "\u001b[0;32m<ipython-input-53-66412f58729e>\u001b[0m in \u001b[0;36m<module>\u001b[0;34m\u001b[0m\n\u001b[1;32m     53\u001b[0m \u001b[0;34m\u001b[0m\u001b[0m\n\u001b[1;32m     54\u001b[0m \u001b[0;32mif\u001b[0m \u001b[0m__name__\u001b[0m \u001b[0;34m==\u001b[0m \u001b[0;34m\"__main__\"\u001b[0m\u001b[0;34m:\u001b[0m\u001b[0;34m\u001b[0m\u001b[0;34m\u001b[0m\u001b[0m\n\u001b[0;32m---> 55\u001b[0;31m     \u001b[0mmain\u001b[0m\u001b[0;34m(\u001b[0m\u001b[0;34m)\u001b[0m\u001b[0;34m\u001b[0m\u001b[0;34m\u001b[0m\u001b[0m\n\u001b[0m",
      "\u001b[0;32m<ipython-input-53-66412f58729e>\u001b[0m in \u001b[0;36mmain\u001b[0;34m()\u001b[0m\n\u001b[1;32m     48\u001b[0m     \u001b[0murl\u001b[0m \u001b[0;34m=\u001b[0m \u001b[0mcreate_url\u001b[0m\u001b[0;34m(\u001b[0m\u001b[0;34m)\u001b[0m\u001b[0;34m\u001b[0m\u001b[0;34m\u001b[0m\u001b[0m\n\u001b[1;32m     49\u001b[0m     \u001b[0mheaders\u001b[0m \u001b[0;34m=\u001b[0m \u001b[0mcreate_headers\u001b[0m\u001b[0;34m(\u001b[0m\u001b[0mbearer_token\u001b[0m\u001b[0;34m)\u001b[0m\u001b[0;34m\u001b[0m\u001b[0;34m\u001b[0m\u001b[0m\n\u001b[0;32m---> 50\u001b[0;31m     \u001b[0mjson_response\u001b[0m \u001b[0;34m=\u001b[0m \u001b[0mconnect_to_endpoint\u001b[0m\u001b[0;34m(\u001b[0m\u001b[0murl\u001b[0m\u001b[0;34m,\u001b[0m \u001b[0mheaders\u001b[0m\u001b[0;34m)\u001b[0m\u001b[0;34m\u001b[0m\u001b[0;34m\u001b[0m\u001b[0m\n\u001b[0m\u001b[1;32m     51\u001b[0m     \u001b[0mprint\u001b[0m\u001b[0;34m(\u001b[0m\u001b[0mjson\u001b[0m\u001b[0;34m.\u001b[0m\u001b[0mdumps\u001b[0m\u001b[0;34m(\u001b[0m\u001b[0mjson_response\u001b[0m\u001b[0;34m,\u001b[0m \u001b[0mindent\u001b[0m\u001b[0;34m=\u001b[0m\u001b[0;36m4\u001b[0m\u001b[0;34m,\u001b[0m \u001b[0msort_keys\u001b[0m\u001b[0;34m=\u001b[0m\u001b[0;32mTrue\u001b[0m\u001b[0;34m)\u001b[0m\u001b[0;34m)\u001b[0m\u001b[0;34m\u001b[0m\u001b[0;34m\u001b[0m\u001b[0m\n\u001b[1;32m     52\u001b[0m \u001b[0;34m\u001b[0m\u001b[0m\n",
      "\u001b[0;32m<ipython-input-53-66412f58729e>\u001b[0m in \u001b[0;36mconnect_to_endpoint\u001b[0;34m(url, headers)\u001b[0m\n\u001b[1;32m     38\u001b[0m         raise Exception(\n\u001b[1;32m     39\u001b[0m             \"Request returned an error: {} {}\".format(\n\u001b[0;32m---> 40\u001b[0;31m                 \u001b[0mresponse\u001b[0m\u001b[0;34m.\u001b[0m\u001b[0mstatus_code\u001b[0m\u001b[0;34m,\u001b[0m \u001b[0mresponse\u001b[0m\u001b[0;34m.\u001b[0m\u001b[0mtext\u001b[0m\u001b[0;34m\u001b[0m\u001b[0;34m\u001b[0m\u001b[0m\n\u001b[0m\u001b[1;32m     41\u001b[0m             )\n\u001b[1;32m     42\u001b[0m         )\n",
      "\u001b[0;31mException\u001b[0m: Request returned an error: 401 {\"title\":\"Unauthorized\",\"type\":\"about:blank\",\"status\":401,\"detail\":\"Unauthorized\"}"
     ]
    }
   ],
   "source": [
    "  \n",
    "import requests\n",
    "import os\n",
    "import json\n",
    "\n",
    "# To set your enviornment variables in your terminal run the following line:\n",
    "# export 'BEARER_TOKEN'='<your_bearer_token>'\n",
    "\n",
    "\n",
    "def auth():\n",
    "    return os.environ.get(\"BEARER_TOKEN\")\n",
    "\n",
    "\n",
    "def create_url():\n",
    "    tweet_fields = \"tweet.fields=lang,author_id\"\n",
    "    # Tweet fields are adjustable.\n",
    "    # Options include:\n",
    "    # attachments, author_id, context_annotations,\n",
    "    # conversation_id, created_at, entities, geo, id,\n",
    "    # in_reply_to_user_id, lang, non_public_metrics, organic_metrics,\n",
    "    # possibly_sensitive, promoted_metrics, public_metrics, referenced_tweets,\n",
    "    # source, text, and withheld\n",
    "    ids = \"ids=1278747501642657792,1255542774432063488\"\n",
    "    # You can adjust ids to include a single Tweets.\n",
    "    # Or you can add to up to 100 comma-separated IDs\n",
    "    url = \"https://api.twitter.com/2/tweets?{}&{}\".format(ids, tweet_fields)\n",
    "    return url\n",
    "\n",
    "\n",
    "def create_headers(bearer_token):\n",
    "    headers = {\"Authorization\": \"Bearer {}\".format(bearer_token)}\n",
    "    return headers\n",
    "\n",
    "\n",
    "def connect_to_endpoint(url, headers):\n",
    "    response = requests.request(\"GET\", url, headers=headers)\n",
    "    print(response.status_code)\n",
    "    if response.status_code != 200:\n",
    "        raise Exception(\n",
    "            \"Request returned an error: {} {}\".format(\n",
    "                response.status_code, response.text\n",
    "            )\n",
    "        )\n",
    "    return response.json()\n",
    "\n",
    "\n",
    "def main():\n",
    "    bearer_token = auth()\n",
    "    url = create_url()\n",
    "    headers = create_headers(bearer_token)\n",
    "    json_response = connect_to_endpoint(url, headers)\n",
    "    print(json.dumps(json_response, indent=4, sort_keys=True))\n",
    "\n",
    "\n",
    "if __name__ == \"__main__\":\n",
    "    main()"
   ]
  },
  {
   "cell_type": "markdown",
   "metadata": {
    "heading_collapsed": true
   },
   "source": [
    "## Get User"
   ]
  },
  {
   "cell_type": "code",
   "execution_count": 54,
   "metadata": {
    "ExecuteTime": {
     "end_time": "2021-06-15T23:00:27.069841Z",
     "start_time": "2021-06-15T23:00:26.515569Z"
    },
    "hidden": true
   },
   "outputs": [
    {
     "name": "stdout",
     "output_type": "stream",
     "text": [
      "200\n",
      "{\n",
      "    \"data\": [\n",
      "        {\n",
      "            \"created_at\": \"2020-10-26T13:00:43.000Z\",\n",
      "            \"description\": \"\",\n",
      "            \"id\": \"1320711922581463043\",\n",
      "            \"name\": \"ik629\",\n",
      "            \"public_metrics\": {\n",
      "                \"followers_count\": 0,\n",
      "                \"following_count\": 35,\n",
      "                \"listed_count\": 0,\n",
      "                \"tweet_count\": 3\n",
      "            },\n",
      "            \"username\": \"ik6292\"\n",
      "        }\n",
      "    ]\n",
      "}\n"
     ]
    }
   ],
   "source": [
    "import requests\n",
    "import os\n",
    "import json\n",
    "\n",
    "# To set your enviornment variables in your terminal run the following line:\n",
    "# export 'BEARER_TOKEN'='<your_bearer_token>'\n",
    "\n",
    "\n",
    "def auth():\n",
    "    return bearer_token\n",
    "\n",
    "\n",
    "def create_url():\n",
    "    # Specify the usernames that you want to lookup below\n",
    "    # You can enter up to 100 comma-separated values.\n",
    "    usernames = \"usernames=ik6292\" #TwitterDev,TwitterAPI\"\n",
    "    user_fields = \"user.fields=description,created_at\"\n",
    "    # User fields are adjustable, options include:\n",
    "    # created_at, description, entities, id, location, name,\n",
    "    # pinned_tweet_id, profile_image_url, protected,\n",
    "    # public_metrics, url, username, verified, and withheld\n",
    "    url = \"https://api.twitter.com/2/users/by\"\n",
    "    return url\n",
    "\n",
    "def create_params():\n",
    "    params = {\"usernames\": \"ik6292\",\n",
    "              \"user.fields\": \"description,created_at,public_metrics\"}\n",
    "    return params\n",
    "\n",
    "def create_headers(bearer_token):\n",
    "    headers = {\"Authorization\": \"Bearer {}\".format(bearer_token)}\n",
    "    return headers\n",
    "\n",
    "\n",
    "def connect_to_endpoint(url, headers):\n",
    "    response = requests.request(\"GET\", url, params=create_params(), headers=headers)\n",
    "    print(response.status_code)\n",
    "    if response.status_code != 200:\n",
    "        raise Exception(\n",
    "            \"Request returned an error: {} {}\".format(\n",
    "                response.status_code, response.text\n",
    "            )\n",
    "        )\n",
    "    return response.json()\n",
    "\n",
    "\n",
    "def main():\n",
    "    bearer_token = auth()\n",
    "    url = create_url()\n",
    "    headers = create_headers(bearer_token)\n",
    "    json_response = connect_to_endpoint(url, headers)\n",
    "    print(json.dumps(json_response, indent=4, sort_keys=True))\n",
    "\n",
    "\n",
    "if __name__ == \"__main__\":\n",
    "    main()"
   ]
  },
  {
   "cell_type": "code",
   "execution_count": null,
   "metadata": {
    "hidden": true
   },
   "outputs": [],
   "source": []
  }
 ],
 "metadata": {
  "interpreter": {
   "hash": "de137705ccbb8ef5a15d6733b12ab375f600c743dd5804f8b45c499184dc2805"
  },
  "kernelspec": {
   "display_name": "Python 3",
   "language": "python",
   "name": "python3"
  },
  "language_info": {
   "codemirror_mode": {
    "name": "ipython",
    "version": 3
   },
   "file_extension": ".py",
   "mimetype": "text/x-python",
   "name": "python",
   "nbconvert_exporter": "python",
   "pygments_lexer": "ipython3",
   "version": "3.7.7"
  }
 },
 "nbformat": 4,
 "nbformat_minor": 2
}
