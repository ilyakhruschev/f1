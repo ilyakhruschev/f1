{
 "cells": [
  {
   "cell_type": "code",
   "execution_count": 53,
   "metadata": {
    "ExecuteTime": {
     "end_time": "2021-06-18T15:29:18.981026Z",
     "start_time": "2021-06-18T15:29:18.976342Z"
    }
   },
   "outputs": [],
   "source": [
    "import tweepy\n",
    "import pandas as pd\n",
    "import os\n",
    "import sys\n",
    "import pymongo\n",
    "import requests\n",
    "import translators as ts\n",
    "from langdetect import detect\n",
    "from json_parsers import *\n",
    "from sqlalchemy import create_engine\n",
    "import translators as ts"
   ]
  },
  {
   "cell_type": "code",
   "execution_count": 39,
   "metadata": {},
   "outputs": [],
   "source": [
    "engine = create_engine('postgresql://postgres@localhost:5432/frenchgp')\n",
    "data_df.to_sql('zzztest', engine)"
   ]
  },
  {
   "cell_type": "code",
   "execution_count": 30,
   "metadata": {
    "ExecuteTime": {
     "end_time": "2021-06-18T15:22:42.831348Z",
     "start_time": "2021-06-18T15:22:42.825847Z"
    }
   },
   "outputs": [],
   "source": [
    "MONGO_URI = os.getenv(\"MONGO_URI\")\n",
    "from pymongo import MongoClient\n",
    "client_db =  'stream'\n",
    "client_col = 'frenchgp' #args.collection\n",
    "\n",
    "# source and target connections\n",
    "client = MongoClient(MONGO_URI)\n",
    "\n",
    "# batch size\n",
    "batch_size = 1000\n",
    "\n",
    "# database and collection names\n",
    "db = client[client_db]\n",
    "col = db[client_col]"
   ]
  },
  {
   "source": [
    "# IMPORT"
   ],
   "cell_type": "markdown",
   "metadata": {}
  },
  {
   "cell_type": "code",
   "execution_count": 110,
   "metadata": {
    "ExecuteTime": {
     "end_time": "2021-06-18T15:23:46.975683Z",
     "start_time": "2021-06-18T15:23:46.967933Z"
    }
   },
   "outputs": [],
   "source": [
    "df_in = pd.DataFrame(list(col.find({})))\n",
    "df_in = df_in.drop(['matching_rules'],1)"
   ]
  },
  {
   "source": [
    "# DEFINE FUNCTIONS"
   ],
   "cell_type": "markdown",
   "metadata": {}
  },
  {
   "cell_type": "code",
   "execution_count": 99,
   "metadata": {
    "ExecuteTime": {
     "end_time": "2021-06-18T15:31:19.559283Z",
     "start_time": "2021-06-18T15:31:19.554900Z"
    }
   },
   "outputs": [
    {
     "output_type": "execute_result",
     "data": {
      "text/plain": [
       "              tweet_id            author_id                created_at  \\\n",
       "0  1405185477834051584  1364879051438002176  2021-06-16T15:28:19.000Z   \n",
       "1  1405185576085733380           1350309702  2021-06-16T15:28:43.000Z   \n",
       "2  1405185596771995653  1368546012067995650  2021-06-16T15:28:48.000Z   \n",
       "3  1405185683753422851           4843529163  2021-06-16T15:29:08.000Z   \n",
       "4  1405185708323741697            493042610  2021-06-16T15:29:14.000Z   \n",
       "5  1405185726921252866   831236353585246210  2021-06-16T15:29:19.000Z   \n",
       "6  1405185742696075265  1357714434265915393  2021-06-16T15:29:22.000Z   \n",
       "7  1405185757149605888  1129878879143911426  2021-06-16T15:29:26.000Z   \n",
       "8  1405185763189301248  1318271660307472385  2021-06-16T15:29:27.000Z   \n",
       "9  1405185780444712960           3308385844  2021-06-16T15:29:31.000Z   \n",
       "\n",
       "                                            raw_text  \n",
       "0  Esteban Ocon signs new Alpine F1 deal until 20...  \n",
       "1  BIG UP TO ESTEBAN OCON WHOSE SIGNED A NEW 3 YE...  \n",
       "2  Neuer Dreijahresvertrag: Esteban Ocon verlänge...  \n",
       "3  #Formula1 , Esteban #Ocon rinnova con #Alpine ...  \n",
       "4  #F1: ufficiale, #Ocon pilota #Alpine fino al 2...  \n",
       "5  Alpine heeft de line-up voor volgend jaar rond...  \n",
       "6  French driver signs contract extension with a ...  \n",
       "7  OFICIAL: Esteban Ocon seguirá con @AlpineF1Tea...  \n",
       "8  Esteban Ocon has signed a 3-year deal with Alp...  \n",
       "9  Will Esteban Ocon ever be good enough to fight...  "
      ],
      "text/html": "<div>\n<style scoped>\n    .dataframe tbody tr th:only-of-type {\n        vertical-align: middle;\n    }\n\n    .dataframe tbody tr th {\n        vertical-align: top;\n    }\n\n    .dataframe thead th {\n        text-align: right;\n    }\n</style>\n<table border=\"1\" class=\"dataframe\">\n  <thead>\n    <tr style=\"text-align: right;\">\n      <th></th>\n      <th>tweet_id</th>\n      <th>author_id</th>\n      <th>created_at</th>\n      <th>raw_text</th>\n    </tr>\n  </thead>\n  <tbody>\n    <tr>\n      <th>0</th>\n      <td>1405185477834051584</td>\n      <td>1364879051438002176</td>\n      <td>2021-06-16T15:28:19.000Z</td>\n      <td>Esteban Ocon signs new Alpine F1 deal until 20...</td>\n    </tr>\n    <tr>\n      <th>1</th>\n      <td>1405185576085733380</td>\n      <td>1350309702</td>\n      <td>2021-06-16T15:28:43.000Z</td>\n      <td>BIG UP TO ESTEBAN OCON WHOSE SIGNED A NEW 3 YE...</td>\n    </tr>\n    <tr>\n      <th>2</th>\n      <td>1405185596771995653</td>\n      <td>1368546012067995650</td>\n      <td>2021-06-16T15:28:48.000Z</td>\n      <td>Neuer Dreijahresvertrag: Esteban Ocon verlänge...</td>\n    </tr>\n    <tr>\n      <th>3</th>\n      <td>1405185683753422851</td>\n      <td>4843529163</td>\n      <td>2021-06-16T15:29:08.000Z</td>\n      <td>#Formula1 , Esteban #Ocon rinnova con #Alpine ...</td>\n    </tr>\n    <tr>\n      <th>4</th>\n      <td>1405185708323741697</td>\n      <td>493042610</td>\n      <td>2021-06-16T15:29:14.000Z</td>\n      <td>#F1: ufficiale, #Ocon pilota #Alpine fino al 2...</td>\n    </tr>\n    <tr>\n      <th>5</th>\n      <td>1405185726921252866</td>\n      <td>831236353585246210</td>\n      <td>2021-06-16T15:29:19.000Z</td>\n      <td>Alpine heeft de line-up voor volgend jaar rond...</td>\n    </tr>\n    <tr>\n      <th>6</th>\n      <td>1405185742696075265</td>\n      <td>1357714434265915393</td>\n      <td>2021-06-16T15:29:22.000Z</td>\n      <td>French driver signs contract extension with a ...</td>\n    </tr>\n    <tr>\n      <th>7</th>\n      <td>1405185757149605888</td>\n      <td>1129878879143911426</td>\n      <td>2021-06-16T15:29:26.000Z</td>\n      <td>OFICIAL: Esteban Ocon seguirá con @AlpineF1Tea...</td>\n    </tr>\n    <tr>\n      <th>8</th>\n      <td>1405185763189301248</td>\n      <td>1318271660307472385</td>\n      <td>2021-06-16T15:29:27.000Z</td>\n      <td>Esteban Ocon has signed a 3-year deal with Alp...</td>\n    </tr>\n    <tr>\n      <th>9</th>\n      <td>1405185780444712960</td>\n      <td>3308385844</td>\n      <td>2021-06-16T15:29:31.000Z</td>\n      <td>Will Esteban Ocon ever be good enough to fight...</td>\n    </tr>\n  </tbody>\n</table>\n</div>"
     },
     "metadata": {},
     "execution_count": 99
    }
   ],
   "source": [
    "def getData(df):\n",
    "    \"\"\"\n",
    "    Convert the nexted json inside the data column to its own dataframe\n",
    "    \"\"\"\n",
    "    df['author_id'] = df.apply(lambda df: parse_json(df, 'data', 'author_id'), 1)\n",
    "    df['created_at'] = df.apply(lambda df: parse_json(df, 'data', 'created_at'), 1)\n",
    "    df['geo'] = df.apply(lambda df: parse_json(df, 'data', 'geo'), 1)\n",
    "    df['tweet_id'] = df.apply(lambda df: parse_json_exact(df, 'data', 'id'), 1)\n",
    "    df['raw_text'] = df.apply(lambda df: parse_json(df, 'data', 'text'), 1)\n",
    "    df = df[['tweet_id','author_id','created_at','raw_text']]\n",
    "    return df\n",
    "\n",
    "\n",
    " def getTranslation(df):\n",
    "    clean_text = df['clean_text']\n",
    "    translated_text = ts.google(clean_text, if_use_cn_host=True)\n",
    "    return translated_text\n",
    "\n",
    "\n",
    "def getCleanText(df):\n",
    "    clean_text = ''.join(e for e in df['raw_text'] if e.isascii())\n",
    "    clean_text = ''.join(e for e in clean_text if e not in [\"!\", \"@\", \"#\"])\n",
    "    return clean_text\n",
    "\n",
    "\n",
    "def getLanguage(df):\n",
    "    clean_text = ''.join(e for e in df['raw_text'] if e.isascii())\n",
    "    clean_text = ''.join(e for e in clean_text if e not in [\"!\", \"@\", \"#\"])\n",
    "    language = detect(clean_text)\n",
    "    return language   \n",
    "\n",
    "\n",
    "def getUsers(df):\n",
    "    users = df['includes']['users']\n",
    "    return users\n",
    "\n",
    "\n",
    "def getUserDataframe(df):\n",
    "    df['user_created_at'] = df.apply(lambda df: parse_json(df, 'users', 'created_at'), 1)\n",
    "    df['user_id'] = df.apply(lambda df: parse_json(df, 'users', 'id'), 1)\n",
    "    df['location'] = df.apply(lambda df: parse_json(df, 'users', 'location'), 1)\n",
    "    df['name'] = df.apply(lambda df: parse_json_exact(df, 'users', 'name'), 1)\n",
    "    df['username'] = df.apply(lambda df: parse_json(df, 'users', 'username'), 1)\n",
    "    df = df.drop(['users'],1)\n",
    "    return df"
   ]
  },
  {
   "source": [
    "# CLEAN TWEET DATA / TRANSLATE"
   ],
   "cell_type": "markdown",
   "metadata": {}
  },
  {
   "cell_type": "code",
   "execution_count": 111,
   "metadata": {},
   "outputs": [
    {
     "output_type": "stream",
     "name": "stderr",
     "text": [
      "/Users/iiyakhruschev/opt/anaconda3/lib/python3.7/site-packages/ipykernel_launcher.py:2: SettingWithCopyWarning: \n",
      "A value is trying to be set on a copy of a slice from a DataFrame.\n",
      "Try using .loc[row_indexer,col_indexer] = value instead\n",
      "\n",
      "See the caveats in the documentation: https://pandas.pydata.org/pandas-docs/stable/user_guide/indexing.html#returning-a-view-versus-a-copy\n",
      "  \n",
      "/Users/iiyakhruschev/opt/anaconda3/lib/python3.7/site-packages/ipykernel_launcher.py:3: SettingWithCopyWarning: \n",
      "A value is trying to be set on a copy of a slice from a DataFrame.\n",
      "Try using .loc[row_indexer,col_indexer] = value instead\n",
      "\n",
      "See the caveats in the documentation: https://pandas.pydata.org/pandas-docs/stable/user_guide/indexing.html#returning-a-view-versus-a-copy\n",
      "  This is separate from the ipykernel package so we can avoid doing imports until\n",
      "CPU times: user 239 ms, sys: 16 ms, total: 255 ms\n",
      "Wall time: 5.01 s\n"
     ]
    }
   ],
   "source": [
    "%%time\n",
    "data_df = getData(df_in)\n",
    "data_df['clean_text'] = data_df.apply(lambda data_df: getCleanText(data_df), 1)\n",
    "data_df['language'] = data_df.apply(lambda data_df: getLanguage(data_df), 1)\n",
    "data_df_translate = data_df[data_df['language'] != 'en'][['tweet_id','clean_text']]\n",
    "data_df_translate['translated_text'] = data_df_translate.apply(lambda data_df_translate: getTranslation(data_df_translate), 1)\n",
    "data_df = data_df \\\n",
    "            .merge(data_df_translate, on='tweet_id', how='left') \\\n",
    "            .rename(index=str, columns={'clean_text_x': 'clean_text'}) \\\n",
    "            .drop('clean_text_y', 1)\n",
    "data_df['translated_text'] = data_df['translated_text'].fillna(data_df['clean_text'])"
   ]
  },
  {
   "cell_type": "code",
   "execution_count": 112,
   "metadata": {},
   "outputs": [
    {
     "output_type": "execute_result",
     "data": {
      "text/plain": [
       "              tweet_id            author_id                created_at  \\\n",
       "0  1405185477834051584  1364879051438002176  2021-06-16T15:28:19.000Z   \n",
       "1  1405185576085733380           1350309702  2021-06-16T15:28:43.000Z   \n",
       "2  1405185596771995653  1368546012067995650  2021-06-16T15:28:48.000Z   \n",
       "3  1405185683753422851           4843529163  2021-06-16T15:29:08.000Z   \n",
       "4  1405185708323741697            493042610  2021-06-16T15:29:14.000Z   \n",
       "5  1405185726921252866   831236353585246210  2021-06-16T15:29:19.000Z   \n",
       "6  1405185742696075265  1357714434265915393  2021-06-16T15:29:22.000Z   \n",
       "7  1405185757149605888  1129878879143911426  2021-06-16T15:29:26.000Z   \n",
       "8  1405185763189301248  1318271660307472385  2021-06-16T15:29:27.000Z   \n",
       "9  1405185780444712960           3308385844  2021-06-16T15:29:31.000Z   \n",
       "\n",
       "                                            raw_text  \\\n",
       "0  Esteban Ocon signs new Alpine F1 deal until 20...   \n",
       "1  BIG UP TO ESTEBAN OCON WHOSE SIGNED A NEW 3 YE...   \n",
       "2  Neuer Dreijahresvertrag: Esteban Ocon verlänge...   \n",
       "3  #Formula1 , Esteban #Ocon rinnova con #Alpine ...   \n",
       "4  #F1: ufficiale, #Ocon pilota #Alpine fino al 2...   \n",
       "5  Alpine heeft de line-up voor volgend jaar rond...   \n",
       "6  French driver signs contract extension with a ...   \n",
       "7  OFICIAL: Esteban Ocon seguirá con @AlpineF1Tea...   \n",
       "8  Esteban Ocon has signed a 3-year deal with Alp...   \n",
       "9  Will Esteban Ocon ever be good enough to fight...   \n",
       "\n",
       "                                          clean_text language  \\\n",
       "0  Esteban Ocon signs new Alpine F1 deal until202...       it   \n",
       "1  BIG UP TO ESTEBAN OCON WHOSE SIGNED A NEW 3 YE...       en   \n",
       "2  Neuer Dreijahresvertrag: Esteban Ocon verlnger...       de   \n",
       "3  Formula1 , Esteban Ocon rinnova con Alpine fin...       it   \n",
       "4  F1: ufficiale, Ocon pilota Alpine fino al 2024...       it   \n",
       "5  Alpine heeft de line-up voor volgend jaar rond...       nl   \n",
       "6  French driver signs contract extension with a ...       en   \n",
       "7  OFICIAL: Esteban Ocon seguir con AlpineF1Team ...       pt   \n",
       "8  Esteban Ocon has signed a 3-year deal with Alp...       en   \n",
       "9  Will Esteban Ocon ever be good enough to fight...       en   \n",
       "\n",
       "                                     translated_text  \n",
       "0  Esteban Ocon signs new Alpine F1 deal until202...  \n",
       "1  BIG UP TO ESTEBAN OCON WHOSE SIGNED A NEW 3 YE...  \n",
       "2  New three-year contract: Esteban Ocon renewed ...  \n",
       "3  Formula1, Esteban Ocon renews with Alpine up t...  \n",
       "4  F1: official, Ocon Alpine pilot up to 2024 htt...  \n",
       "5  Alpine has the line-up for next year around.Al...  \n",
       "6  French driver signs contract extension with a ...  \n",
       "7  Official: Esteban Ocon Follow Alpinef1team unt...  \n",
       "8  Esteban Ocon has signed a 3-year deal with Alp...  \n",
       "9  Will Esteban Ocon ever be good enough to fight...  "
      ],
      "text/html": "<div>\n<style scoped>\n    .dataframe tbody tr th:only-of-type {\n        vertical-align: middle;\n    }\n\n    .dataframe tbody tr th {\n        vertical-align: top;\n    }\n\n    .dataframe thead th {\n        text-align: right;\n    }\n</style>\n<table border=\"1\" class=\"dataframe\">\n  <thead>\n    <tr style=\"text-align: right;\">\n      <th></th>\n      <th>tweet_id</th>\n      <th>author_id</th>\n      <th>created_at</th>\n      <th>raw_text</th>\n      <th>clean_text</th>\n      <th>language</th>\n      <th>translated_text</th>\n    </tr>\n  </thead>\n  <tbody>\n    <tr>\n      <th>0</th>\n      <td>1405185477834051584</td>\n      <td>1364879051438002176</td>\n      <td>2021-06-16T15:28:19.000Z</td>\n      <td>Esteban Ocon signs new Alpine F1 deal until 20...</td>\n      <td>Esteban Ocon signs new Alpine F1 deal until202...</td>\n      <td>it</td>\n      <td>Esteban Ocon signs new Alpine F1 deal until202...</td>\n    </tr>\n    <tr>\n      <th>1</th>\n      <td>1405185576085733380</td>\n      <td>1350309702</td>\n      <td>2021-06-16T15:28:43.000Z</td>\n      <td>BIG UP TO ESTEBAN OCON WHOSE SIGNED A NEW 3 YE...</td>\n      <td>BIG UP TO ESTEBAN OCON WHOSE SIGNED A NEW 3 YE...</td>\n      <td>en</td>\n      <td>BIG UP TO ESTEBAN OCON WHOSE SIGNED A NEW 3 YE...</td>\n    </tr>\n    <tr>\n      <th>2</th>\n      <td>1405185596771995653</td>\n      <td>1368546012067995650</td>\n      <td>2021-06-16T15:28:48.000Z</td>\n      <td>Neuer Dreijahresvertrag: Esteban Ocon verlänge...</td>\n      <td>Neuer Dreijahresvertrag: Esteban Ocon verlnger...</td>\n      <td>de</td>\n      <td>New three-year contract: Esteban Ocon renewed ...</td>\n    </tr>\n    <tr>\n      <th>3</th>\n      <td>1405185683753422851</td>\n      <td>4843529163</td>\n      <td>2021-06-16T15:29:08.000Z</td>\n      <td>#Formula1 , Esteban #Ocon rinnova con #Alpine ...</td>\n      <td>Formula1 , Esteban Ocon rinnova con Alpine fin...</td>\n      <td>it</td>\n      <td>Formula1, Esteban Ocon renews with Alpine up t...</td>\n    </tr>\n    <tr>\n      <th>4</th>\n      <td>1405185708323741697</td>\n      <td>493042610</td>\n      <td>2021-06-16T15:29:14.000Z</td>\n      <td>#F1: ufficiale, #Ocon pilota #Alpine fino al 2...</td>\n      <td>F1: ufficiale, Ocon pilota Alpine fino al 2024...</td>\n      <td>it</td>\n      <td>F1: official, Ocon Alpine pilot up to 2024 htt...</td>\n    </tr>\n    <tr>\n      <th>5</th>\n      <td>1405185726921252866</td>\n      <td>831236353585246210</td>\n      <td>2021-06-16T15:29:19.000Z</td>\n      <td>Alpine heeft de line-up voor volgend jaar rond...</td>\n      <td>Alpine heeft de line-up voor volgend jaar rond...</td>\n      <td>nl</td>\n      <td>Alpine has the line-up for next year around.Al...</td>\n    </tr>\n    <tr>\n      <th>6</th>\n      <td>1405185742696075265</td>\n      <td>1357714434265915393</td>\n      <td>2021-06-16T15:29:22.000Z</td>\n      <td>French driver signs contract extension with a ...</td>\n      <td>French driver signs contract extension with a ...</td>\n      <td>en</td>\n      <td>French driver signs contract extension with a ...</td>\n    </tr>\n    <tr>\n      <th>7</th>\n      <td>1405185757149605888</td>\n      <td>1129878879143911426</td>\n      <td>2021-06-16T15:29:26.000Z</td>\n      <td>OFICIAL: Esteban Ocon seguirá con @AlpineF1Tea...</td>\n      <td>OFICIAL: Esteban Ocon seguir con AlpineF1Team ...</td>\n      <td>pt</td>\n      <td>Official: Esteban Ocon Follow Alpinef1team unt...</td>\n    </tr>\n    <tr>\n      <th>8</th>\n      <td>1405185763189301248</td>\n      <td>1318271660307472385</td>\n      <td>2021-06-16T15:29:27.000Z</td>\n      <td>Esteban Ocon has signed a 3-year deal with Alp...</td>\n      <td>Esteban Ocon has signed a 3-year deal with Alp...</td>\n      <td>en</td>\n      <td>Esteban Ocon has signed a 3-year deal with Alp...</td>\n    </tr>\n    <tr>\n      <th>9</th>\n      <td>1405185780444712960</td>\n      <td>3308385844</td>\n      <td>2021-06-16T15:29:31.000Z</td>\n      <td>Will Esteban Ocon ever be good enough to fight...</td>\n      <td>Will Esteban Ocon ever be good enough to fight...</td>\n      <td>en</td>\n      <td>Will Esteban Ocon ever be good enough to fight...</td>\n    </tr>\n  </tbody>\n</table>\n</div>"
     },
     "metadata": {},
     "execution_count": 112
    }
   ],
   "source": [
    "data_df"
   ]
  },
  {
   "cell_type": "code",
   "execution_count": 33,
   "metadata": {},
   "outputs": [],
   "source": [
    "\n",
    "\n",
    "df_in['users'] = df_in.apply(lambda df_in: getUsers(df_in), 1)"
   ]
  },
  {
   "cell_type": "code",
   "execution_count": 48,
   "metadata": {
    "ExecuteTime": {
     "end_time": "2021-06-18T15:25:02.602836Z",
     "start_time": "2021-06-18T15:25:02.586178Z"
    }
   },
   "outputs": [],
   "source": [
    "users_exploded = df_in[['tweet_id','users']].explode('users')\n",
    "\n",
    "\n",
    "\n",
    "users_df = getUserDataframe(users_exploded)"
   ]
  },
  {
   "cell_type": "code",
   "execution_count": 49,
   "metadata": {},
   "outputs": [
    {
     "output_type": "execute_result",
     "data": {
      "text/plain": [
       "              tweet_id                created_at              user_id  \\\n",
       "0  1405185477834051584  2021-02-25T10:05:11.000Z  1364879051438002176   \n",
       "1  1405185576085733380  2013-04-13T21:55:37.000Z           1350309702   \n",
       "2  1405185596771995653  2021-03-07T12:56:52.000Z  1368546012067995650   \n",
       "3  1405185683753422851  2016-01-24T22:43:30.000Z           4843529163   \n",
       "4  1405185708323741697  2012-02-15T11:38:09.000Z            493042610   \n",
       "5  1405185726921252866  2017-02-13T20:19:25.000Z   831236353585246210   \n",
       "6  1405185742696075265  2021-02-05T15:35:34.000Z  1357714434265915393   \n",
       "7  1405185757149605888  2019-05-18T22:38:11.000Z  1129878879143911426   \n",
       "7  1405185757149605888  2009-04-02T07:08:31.000Z             28297965   \n",
       "8  1405185763189301248  2020-10-19T19:23:56.000Z  1318271660307472385   \n",
       "9  1405185780444712960  2015-06-04T16:01:06.000Z           3308385844   \n",
       "\n",
       "                    location                   name         username  \n",
       "0                      India              Khel ख़बर     Khel17934254  \n",
       "1         Stoke Ash, England         Steven Featley         SFeatley  \n",
       "2  Unterföhring, Deutschland     Sky Sport Formel 1  skysportformel1  \n",
       "3                     Italia              Sportface    sportface2016  \n",
       "4                         []      FormulaPassion.it   FormulaPassion  \n",
       "5                         []         Ronald Vording    RonaldVording  \n",
       "6                         []              F1 Ramble         F1Ramble  \n",
       "7     Bogotá, D.C., Colombia  Valentina Peña Orozco  valentinapena98  \n",
       "7                         []         Alpine F1 Team     AlpineF1Team  \n",
       "8                  Worldwide        ASN Motorsports   AsnMotorsports  \n",
       "9                         UK     Formula Motorsport      Formulamspt  "
      ],
      "text/html": "<div>\n<style scoped>\n    .dataframe tbody tr th:only-of-type {\n        vertical-align: middle;\n    }\n\n    .dataframe tbody tr th {\n        vertical-align: top;\n    }\n\n    .dataframe thead th {\n        text-align: right;\n    }\n</style>\n<table border=\"1\" class=\"dataframe\">\n  <thead>\n    <tr style=\"text-align: right;\">\n      <th></th>\n      <th>tweet_id</th>\n      <th>created_at</th>\n      <th>user_id</th>\n      <th>location</th>\n      <th>name</th>\n      <th>username</th>\n    </tr>\n  </thead>\n  <tbody>\n    <tr>\n      <th>0</th>\n      <td>1405185477834051584</td>\n      <td>2021-02-25T10:05:11.000Z</td>\n      <td>1364879051438002176</td>\n      <td>India</td>\n      <td>Khel ख़बर</td>\n      <td>Khel17934254</td>\n    </tr>\n    <tr>\n      <th>1</th>\n      <td>1405185576085733380</td>\n      <td>2013-04-13T21:55:37.000Z</td>\n      <td>1350309702</td>\n      <td>Stoke Ash, England</td>\n      <td>Steven Featley</td>\n      <td>SFeatley</td>\n    </tr>\n    <tr>\n      <th>2</th>\n      <td>1405185596771995653</td>\n      <td>2021-03-07T12:56:52.000Z</td>\n      <td>1368546012067995650</td>\n      <td>Unterföhring, Deutschland</td>\n      <td>Sky Sport Formel 1</td>\n      <td>skysportformel1</td>\n    </tr>\n    <tr>\n      <th>3</th>\n      <td>1405185683753422851</td>\n      <td>2016-01-24T22:43:30.000Z</td>\n      <td>4843529163</td>\n      <td>Italia</td>\n      <td>Sportface</td>\n      <td>sportface2016</td>\n    </tr>\n    <tr>\n      <th>4</th>\n      <td>1405185708323741697</td>\n      <td>2012-02-15T11:38:09.000Z</td>\n      <td>493042610</td>\n      <td>[]</td>\n      <td>FormulaPassion.it</td>\n      <td>FormulaPassion</td>\n    </tr>\n    <tr>\n      <th>5</th>\n      <td>1405185726921252866</td>\n      <td>2017-02-13T20:19:25.000Z</td>\n      <td>831236353585246210</td>\n      <td>[]</td>\n      <td>Ronald Vording</td>\n      <td>RonaldVording</td>\n    </tr>\n    <tr>\n      <th>6</th>\n      <td>1405185742696075265</td>\n      <td>2021-02-05T15:35:34.000Z</td>\n      <td>1357714434265915393</td>\n      <td>[]</td>\n      <td>F1 Ramble</td>\n      <td>F1Ramble</td>\n    </tr>\n    <tr>\n      <th>7</th>\n      <td>1405185757149605888</td>\n      <td>2019-05-18T22:38:11.000Z</td>\n      <td>1129878879143911426</td>\n      <td>Bogotá, D.C., Colombia</td>\n      <td>Valentina Peña Orozco</td>\n      <td>valentinapena98</td>\n    </tr>\n    <tr>\n      <th>7</th>\n      <td>1405185757149605888</td>\n      <td>2009-04-02T07:08:31.000Z</td>\n      <td>28297965</td>\n      <td>[]</td>\n      <td>Alpine F1 Team</td>\n      <td>AlpineF1Team</td>\n    </tr>\n    <tr>\n      <th>8</th>\n      <td>1405185763189301248</td>\n      <td>2020-10-19T19:23:56.000Z</td>\n      <td>1318271660307472385</td>\n      <td>Worldwide</td>\n      <td>ASN Motorsports</td>\n      <td>AsnMotorsports</td>\n    </tr>\n    <tr>\n      <th>9</th>\n      <td>1405185780444712960</td>\n      <td>2015-06-04T16:01:06.000Z</td>\n      <td>3308385844</td>\n      <td>UK</td>\n      <td>Formula Motorsport</td>\n      <td>Formulamspt</td>\n    </tr>\n  </tbody>\n</table>\n</div>"
     },
     "metadata": {},
     "execution_count": 49
    }
   ],
   "source": [
    "users_df"
   ]
  },
  {
   "cell_type": "code",
   "execution_count": null,
   "metadata": {},
   "outputs": [],
   "source": [
    "\n"
   ]
  },
  {
   "cell_type": "code",
   "execution_count": 29,
   "metadata": {
    "ExecuteTime": {
     "end_time": "2021-06-18T15:18:29.392512Z",
     "start_time": "2021-06-18T15:18:18.178351Z"
    },
    "collapsed": true
   },
   "outputs": [
    {
     "name": "stdout",
     "output_type": "stream",
     "text": [
      "0 \n",
      " original:  Esteban Ocon signs new Alpine F1 deal until 2024 https://t.co/zBA9Wr0YTt\n",
      "clean:  Esteban Ocon signs new Alpine F1 deal until2024 https://t.co/zBA9Wr0YTt\n",
      "original language:  ca\n",
      "translation:  Esteban Ocon signs new Alpine F1 deal until2024 https://t.co/zBA9Wr0YTt\n",
      "1 \n",
      " original:  BIG UP TO ESTEBAN OCON WHOSE SIGNED A NEW 3 YEAR DEAL FOR ALPINE F1\n",
      "WHERE HE'S BEEN SINCE THE START OF 2020\n",
      "This Following his debut at 2016 Belgian GP, 2 yrs at Force India, (Aston Martin), in 17 &amp; 18 with a year out in 19 as Mercedes 3rd Driver \n",
      "has he earned that New contract?\n",
      "clean:  BIG UP TO ESTEBAN OCON WHOSE SIGNED A NEW 3 YEAR DEAL FOR ALPINE F1\n",
      "WHERE HE'S BEEN SINCE THE START OF 2020\n",
      "This Following his debut at 2016 Belgian GP, 2 yrs at Force India, (Aston Martin), in 17 &amp; 18 with a year out in 19 as Mercedes 3rd Driver \n",
      "has he earned that New contract?\n",
      "original language:  en\n",
      "translation:  BIG UP TO ESTEBAN OCON WHOSE SIGNED A NEW 3 YEAR DEAL FOR ALPINE F1\n",
      "WHERE HE'S BEEN SINCE THE START OF 2020\n",
      "This Following his debut at 2016 Belgian GP, 2 yrs at Force India, (Aston Martin), in 17 &amp; 18 with a year out in 19 as Mercedes 3rd Driver \n",
      "has he earned that New contract?\n",
      "2 \n",
      " original:  Neuer Dreijahresvertrag: Esteban Ocon verlängert mit Alpine bis 2024. \n",
      "#skyf1 #f1 #alpine #ocon2024 https://t.co/GDqyfJmqjb\n",
      "clean:  Neuer Dreijahresvertrag: Esteban Ocon verlngert mit Alpine bis 2024. \n",
      "skyf1 f1 alpine ocon2024 https://t.co/GDqyfJmqjb\n",
      "original language:  de\n",
      "translation:  New three-year contract: Esteban Ocon renewed with Alpine until 2024.\n",
      "SKYF1 F1 Alpine Ocon2024 https://t.co/gdqyfjmqjb\n",
      "3 \n",
      " original:  #Formula1 , Esteban #Ocon rinnova con #Alpine fino al 2024\n",
      "\n",
      "https://t.co/qETmvFzNhI\n",
      "clean:  Formula1 , Esteban Ocon rinnova con Alpine fino al 2024\n",
      "\n",
      "https://t.co/qETmvFzNhI\n",
      "original language:  it\n",
      "translation:  Formula1, Esteban Ocon renews with Alpine up to 2024\n",
      "\n",
      "https://t.co/qetmvfznhi\n",
      "4 \n",
      " original:  #F1: ufficiale, #Ocon pilota #Alpine fino al 2024 https://t.co/gftAgCmHOa\n",
      "clean:  F1: ufficiale, Ocon pilota Alpine fino al 2024 https://t.co/gftAgCmHOa\n",
      "original language:  it\n",
      "translation:  F1: official, Ocon Alpine pilot up to 2024 https://t.co/GftagCMhoa\n",
      "5 \n",
      " original:  Alpine heeft de line-up voor volgend jaar rond. Alonso had al meerjarige deal op zak en Ocon ligt nu zelfs vast t/m 2024. Logische zet, vanuit beide partijen bezien. Eneh geruchten over Gasly in Franse dienst kunnen bij deze ook mooi de prullenbak in #F1\n",
      "clean:  Alpine heeft de line-up voor volgend jaar rond. Alonso had al meerjarige deal op zak en Ocon ligt nu zelfs vast t/m 2024. Logische zet, vanuit beide partijen bezien. Eneh geruchten over Gasly in Franse dienst kunnen bij deze ook mooi de prullenbak in F1\n",
      "original language:  nl\n",
      "translation:  Alpine has the line-up for next year around.Alonso had already a multi-year deal in pocket and Ocon is now even fixed up to 2024. Logic move, viewed from both parties.Eneh rumors about Gasly in French service can also be beautiful in the trash in F1\n",
      "6 \n",
      " original:  French driver signs contract extension with a french f1 team before the french GP.......\n",
      "\n",
      "Did someone say triple header? 😏\n",
      "\n",
      "https://t.co/sXuZvqwBqr\n",
      "\n",
      "#estebanocon #alpinef1 #formula1 #FrenchGP #F1 #f1ramble\n",
      "clean:  French driver signs contract extension with a french f1 team before the french GP.......\n",
      "\n",
      "Did someone say triple header? \n",
      "\n",
      "https://t.co/sXuZvqwBqr\n",
      "\n",
      "estebanocon alpinef1 formula1 FrenchGP F1 f1ramble\n",
      "original language:  en\n",
      "translation:  French driver signs contract extension with a french f1 team before the french GP.......\n",
      "Did someone say triple header?\n",
      "https://t.co/sXuZvqwBqr\n",
      "esteban ocon alpine f1 formula 1 French GP F1 f1ramble\n",
      "7 \n",
      " original:  OFICIAL: Esteban Ocon seguirá con @AlpineF1Team hasta 2024 tras firmar una extensión de su contrato por tres años más #F1 https://t.co/8iKFIExQsJ\n",
      "clean:  OFICIAL: Esteban Ocon seguir con AlpineF1Team hasta 2024 tras firmar una extensin de su contrato por tres aos ms F1 https://t.co/8iKFIExQsJ\n",
      "original language:  es\n",
      "translation:  Official: Esteban Ocon Follow Alpinef1team until 2024 after signing an extension of his contract for three years MS F1 https://t.co/8ikfiexqsj\n",
      "8 \n",
      " original:  Esteban Ocon has signed a 3-year deal with Alpine, to take him to the end of 2024. #F1 2022 is beginning to take shape! #FrenchGP https://t.co/SUA6Ha5umS\n",
      "clean:  Esteban Ocon has signed a 3-year deal with Alpine, to take him to the end of 2024. F1 2022 is beginning to take shape FrenchGP https://t.co/SUA6Ha5umS\n",
      "original language:  en\n",
      "translation:  Esteban Ocon has signed a 3-year deal with Alpine, to take him to the end of 2024. F1 2022 is beginning to take shape FrenchGP https://t.co/SUA6Ha5umS\n",
      "9 \n",
      " original:  Will Esteban Ocon ever be good enough to fight for a World Drivers Championship in F1? #F1 #FrenchGP #Ocon\n",
      "clean:  Will Esteban Ocon ever be good enough to fight for a World Drivers Championship in F1? F1 FrenchGP Ocon\n",
      "original language:  en\n",
      "translation:  Will Esteban Ocon ever be good enough to fight for a World Drivers Championship in F1? F1 French GP Ocon\n"
     ]
    }
   ],
   "source": [
    "translator = Translator()\n",
    "for i in range(len(df)):\n",
    "    original_text = df['data'][i]['text']\n",
    "    clean_text = ''.join(e for e in original_text if e.isascii())\n",
    "    clean_text = ''.join(e for e in clean_text if e not in [\"!\", \"@\", \"#\"])\n",
    "    \n",
    "    print(i, '\\n original: ', original_text)\n",
    "    print('clean: ', clean_text)\n",
    "    print('original language: ', detect(clean_text))\n",
    "    try:\n",
    "        print('translation: ',ts.google(clean_text, if_use_cn_host=True))\n",
    "    except Exception:\n",
    "        pass"
   ]
  },
  {
   "cell_type": "code",
   "execution_count": null,
   "metadata": {},
   "outputs": [],
   "source": [
    "def cleanText(df):\n",
    "    "
   ]
  },
  {
   "cell_type": "code",
   "execution_count": 13,
   "metadata": {
    "ExecuteTime": {
     "end_time": "2021-06-18T14:56:51.995776Z",
     "start_time": "2021-06-18T14:56:51.195966Z"
    }
   },
   "outputs": [
    {
     "name": "stdout",
     "output_type": "stream",
     "text": [
      "# F1: official, #Con pilot #alpine up to 2024 https://t.co/GftagCMhoa\n"
     ]
    }
   ],
   "source": [
    "import translators as ts\n",
    "\n",
    "wyw_text = df['data'][4]['text']\n",
    "# chs_text = '季姬感到寂寞，罗集了一些鸡来养，鸡是那种出自荆棘丛中的野鸡。野鸡饿了唧唧叫，季姬就拿竹箕中的谷物喂鸡。'\n",
    "\n",
    "# input languages\n",
    "# print(ts.deepl(wyw_text)) # default: from_language='auto', to_language='en'\n",
    "\n",
    "## output language_map\n",
    "# print(ts._deepl.language_map)\n",
    "\n",
    "# professional field\n",
    "# print(ts.alibaba(wyw_text, professional_field='general')) # (\"general\",\"message\",\"offer\")\n",
    "# print(ts.baidu(wyw_text, professional_field='common')) # ('common','medicine','electronics','mechanics')\n",
    "\n",
    "# # property\n",
    "# # rs = [ts.tencent(x) for x in [wyw_text, chs_text]]\n",
    "# print(ts._tencent.query_count)\n",
    "# print(dir(ts._tencent))\n",
    "\n",
    "# # requests\n",
    "# print(ts.youdao(wyw_text, sleep_seconds=5, proxies={}))\n",
    "\n",
    "# host service\n",
    "print(ts.google(wyw_text, if_use_cn_host=True))"
   ]
  },
  {
   "cell_type": "code",
   "execution_count": 23,
   "metadata": {
    "ExecuteTime": {
     "end_time": "2021-06-18T15:08:22.446359Z",
     "start_time": "2021-06-18T15:08:22.411757Z"
    }
   },
   "outputs": [
    {
     "data": {
      "text/html": [
       "<div>\n",
       "<style scoped>\n",
       "    .dataframe tbody tr th:only-of-type {\n",
       "        vertical-align: middle;\n",
       "    }\n",
       "\n",
       "    .dataframe tbody tr th {\n",
       "        vertical-align: top;\n",
       "    }\n",
       "\n",
       "    .dataframe thead th {\n",
       "        text-align: right;\n",
       "    }\n",
       "</style>\n",
       "<table border=\"1\" class=\"dataframe\">\n",
       "  <thead>\n",
       "    <tr style=\"text-align: right;\">\n",
       "      <th></th>\n",
       "      <th>_id</th>\n",
       "      <th>data</th>\n",
       "      <th>includes</th>\n",
       "      <th>matching_rules</th>\n",
       "    </tr>\n",
       "  </thead>\n",
       "  <tbody>\n",
       "    <tr>\n",
       "      <th>0</th>\n",
       "      <td>60ca189ef88ecb49d22d0ab3</td>\n",
       "      <td>{'author_id': '1364879051438002176', 'created_...</td>\n",
       "      <td>{'users': [{'created_at': '2021-02-25T10:05:11...</td>\n",
       "      <td>[{'id': 1405185482108157953, 'tag': ''}]</td>\n",
       "    </tr>\n",
       "    <tr>\n",
       "      <th>1</th>\n",
       "      <td>60ca18b5f88ecb49d22d0ab4</td>\n",
       "      <td>{'author_id': '1350309702', 'created_at': '202...</td>\n",
       "      <td>{'users': [{'created_at': '2013-04-13T21:55:37...</td>\n",
       "      <td>[{'id': 1405185482108157953, 'tag': ''}]</td>\n",
       "    </tr>\n",
       "    <tr>\n",
       "      <th>2</th>\n",
       "      <td>60ca18baf88ecb49d22d0ab5</td>\n",
       "      <td>{'author_id': '1368546012067995650', 'created_...</td>\n",
       "      <td>{'users': [{'created_at': '2021-03-07T12:56:52...</td>\n",
       "      <td>[{'id': 1405185482108157953, 'tag': ''}]</td>\n",
       "    </tr>\n",
       "    <tr>\n",
       "      <th>3</th>\n",
       "      <td>60ca18cff88ecb49d22d0ab6</td>\n",
       "      <td>{'author_id': '4843529163', 'created_at': '202...</td>\n",
       "      <td>{'users': [{'created_at': '2016-01-24T22:43:30...</td>\n",
       "      <td>[{'id': 1405185482108157953, 'tag': ''}]</td>\n",
       "    </tr>\n",
       "    <tr>\n",
       "      <th>4</th>\n",
       "      <td>60ca18d5f88ecb49d22d0ab7</td>\n",
       "      <td>{'author_id': '493042610', 'created_at': '2021...</td>\n",
       "      <td>{'users': [{'created_at': '2012-02-15T11:38:09...</td>\n",
       "      <td>[{'id': 1405185482108157953, 'tag': ''}]</td>\n",
       "    </tr>\n",
       "    <tr>\n",
       "      <th>5</th>\n",
       "      <td>60ca18d9f88ecb49d22d0ab8</td>\n",
       "      <td>{'author_id': '831236353585246210', 'created_a...</td>\n",
       "      <td>{'users': [{'created_at': '2017-02-13T20:19:25...</td>\n",
       "      <td>[{'id': 1405185482108157953, 'tag': ''}]</td>\n",
       "    </tr>\n",
       "    <tr>\n",
       "      <th>6</th>\n",
       "      <td>60ca18ddf88ecb49d22d0ab9</td>\n",
       "      <td>{'author_id': '1357714434265915393', 'created_...</td>\n",
       "      <td>{'users': [{'created_at': '2021-02-05T15:35:34...</td>\n",
       "      <td>[{'id': 1405185482108157953, 'tag': ''}]</td>\n",
       "    </tr>\n",
       "    <tr>\n",
       "      <th>7</th>\n",
       "      <td>60ca18e1f88ecb49d22d0aba</td>\n",
       "      <td>{'author_id': '1129878879143911426', 'created_...</td>\n",
       "      <td>{'users': [{'created_at': '2019-05-18T22:38:11...</td>\n",
       "      <td>[{'id': 1405185482108157953, 'tag': ''}]</td>\n",
       "    </tr>\n",
       "    <tr>\n",
       "      <th>8</th>\n",
       "      <td>60ca18e2f88ecb49d22d0abb</td>\n",
       "      <td>{'author_id': '1318271660307472385', 'created_...</td>\n",
       "      <td>{'users': [{'created_at': '2020-10-19T19:23:56...</td>\n",
       "      <td>[{'id': 1405185482108157953, 'tag': ''}]</td>\n",
       "    </tr>\n",
       "    <tr>\n",
       "      <th>9</th>\n",
       "      <td>60ca18e6f88ecb49d22d0abc</td>\n",
       "      <td>{'author_id': '3308385844', 'created_at': '202...</td>\n",
       "      <td>{'users': [{'created_at': '2015-06-04T16:01:06...</td>\n",
       "      <td>[{'id': 1405185482108157953, 'tag': ''}]</td>\n",
       "    </tr>\n",
       "  </tbody>\n",
       "</table>\n",
       "</div>"
      ],
      "text/plain": [
       "                        _id  \\\n",
       "0  60ca189ef88ecb49d22d0ab3   \n",
       "1  60ca18b5f88ecb49d22d0ab4   \n",
       "2  60ca18baf88ecb49d22d0ab5   \n",
       "3  60ca18cff88ecb49d22d0ab6   \n",
       "4  60ca18d5f88ecb49d22d0ab7   \n",
       "5  60ca18d9f88ecb49d22d0ab8   \n",
       "6  60ca18ddf88ecb49d22d0ab9   \n",
       "7  60ca18e1f88ecb49d22d0aba   \n",
       "8  60ca18e2f88ecb49d22d0abb   \n",
       "9  60ca18e6f88ecb49d22d0abc   \n",
       "\n",
       "                                                data  \\\n",
       "0  {'author_id': '1364879051438002176', 'created_...   \n",
       "1  {'author_id': '1350309702', 'created_at': '202...   \n",
       "2  {'author_id': '1368546012067995650', 'created_...   \n",
       "3  {'author_id': '4843529163', 'created_at': '202...   \n",
       "4  {'author_id': '493042610', 'created_at': '2021...   \n",
       "5  {'author_id': '831236353585246210', 'created_a...   \n",
       "6  {'author_id': '1357714434265915393', 'created_...   \n",
       "7  {'author_id': '1129878879143911426', 'created_...   \n",
       "8  {'author_id': '1318271660307472385', 'created_...   \n",
       "9  {'author_id': '3308385844', 'created_at': '202...   \n",
       "\n",
       "                                            includes  \\\n",
       "0  {'users': [{'created_at': '2021-02-25T10:05:11...   \n",
       "1  {'users': [{'created_at': '2013-04-13T21:55:37...   \n",
       "2  {'users': [{'created_at': '2021-03-07T12:56:52...   \n",
       "3  {'users': [{'created_at': '2016-01-24T22:43:30...   \n",
       "4  {'users': [{'created_at': '2012-02-15T11:38:09...   \n",
       "5  {'users': [{'created_at': '2017-02-13T20:19:25...   \n",
       "6  {'users': [{'created_at': '2021-02-05T15:35:34...   \n",
       "7  {'users': [{'created_at': '2019-05-18T22:38:11...   \n",
       "8  {'users': [{'created_at': '2020-10-19T19:23:56...   \n",
       "9  {'users': [{'created_at': '2015-06-04T16:01:06...   \n",
       "\n",
       "                             matching_rules  \n",
       "0  [{'id': 1405185482108157953, 'tag': ''}]  \n",
       "1  [{'id': 1405185482108157953, 'tag': ''}]  \n",
       "2  [{'id': 1405185482108157953, 'tag': ''}]  \n",
       "3  [{'id': 1405185482108157953, 'tag': ''}]  \n",
       "4  [{'id': 1405185482108157953, 'tag': ''}]  \n",
       "5  [{'id': 1405185482108157953, 'tag': ''}]  \n",
       "6  [{'id': 1405185482108157953, 'tag': ''}]  \n",
       "7  [{'id': 1405185482108157953, 'tag': ''}]  \n",
       "8  [{'id': 1405185482108157953, 'tag': ''}]  \n",
       "9  [{'id': 1405185482108157953, 'tag': ''}]  "
      ]
     },
     "execution_count": 23,
     "metadata": {},
     "output_type": "execute_result"
    }
   ],
   "source": [
    "df"
   ]
  },
  {
   "cell_type": "code",
   "execution_count": null,
   "metadata": {},
   "outputs": [],
   "source": []
  }
 ],
 "metadata": {
  "kernelspec": {
   "name": "python3",
   "display_name": "Python 3.7.7 64-bit ('base': conda)"
  },
  "language_info": {
   "codemirror_mode": {
    "name": "ipython",
    "version": 3
   },
   "file_extension": ".py",
   "mimetype": "text/x-python",
   "name": "python",
   "nbconvert_exporter": "python",
   "pygments_lexer": "ipython3",
   "version": "3.7.7"
  },
  "interpreter": {
   "hash": "de137705ccbb8ef5a15d6733b12ab375f600c743dd5804f8b45c499184dc2805"
  }
 },
 "nbformat": 4,
 "nbformat_minor": 4
}