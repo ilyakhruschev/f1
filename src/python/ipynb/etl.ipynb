{
 "cells": [
  {
   "cell_type": "code",
   "execution_count": 37,
   "metadata": {
    "ExecuteTime": {
     "end_time": "2021-06-18T15:29:18.981026Z",
     "start_time": "2021-06-18T15:29:18.976342Z"
    }
   },
   "outputs": [],
   "source": [
    "import tweepy\n",
    "import pandas as pd\n",
    "import os\n",
    "import sys\n",
    "import pymongo\n",
    "import requests\n",
    "import translators as ts\n",
    "from langdetect import detect\n",
    "from json_parsers import *"
   ]
  },
  {
   "cell_type": "code",
   "execution_count": 30,
   "metadata": {
    "ExecuteTime": {
     "end_time": "2021-06-18T15:22:42.831348Z",
     "start_time": "2021-06-18T15:22:42.825847Z"
    }
   },
   "outputs": [],
   "source": [
    "MONGO_URI = os.getenv(\"MONGO_URI\")\n",
    "from pymongo import MongoClient\n",
    "client_db =  'stream'\n",
    "client_col = 'frenchgp' #args.collection\n",
    "\n",
    "# source and target connections\n",
    "client = MongoClient(MONGO_URI)\n",
    "\n",
    "# batch size\n",
    "batch_size = 1000\n",
    "\n",
    "# database and collection names\n",
    "db = client[client_db]\n",
    "col = db[client_col]"
   ]
  },
  {
   "cell_type": "code",
   "execution_count": 34,
   "metadata": {
    "ExecuteTime": {
     "end_time": "2021-06-18T15:23:46.975683Z",
     "start_time": "2021-06-18T15:23:46.967933Z"
    }
   },
   "outputs": [],
   "source": [
    "df = pd.DataFrame(list(col.find({})))\n",
    "df = df.drop(['matching_rules'],1)"
   ]
  },
  {
   "cell_type": "code",
   "execution_count": 39,
   "metadata": {
    "ExecuteTime": {
     "end_time": "2021-06-18T15:29:57.932413Z",
     "start_time": "2021-06-18T15:29:57.929034Z"
    }
   },
   "outputs": [
    {
     "data": {
      "text/plain": [
       "{'author_id': '1364879051438002176',\n",
       " 'created_at': '2021-06-16T15:28:19.000Z',\n",
       " 'geo': {},\n",
       " 'id': '1405185477834051584',\n",
       " 'public_metrics': {'retweet_count': 0,\n",
       "  'reply_count': 0,\n",
       "  'like_count': 0,\n",
       "  'quote_count': 0},\n",
       " 'text': 'Esteban Ocon signs new Alpine F1 deal until\\xa02024 https://t.co/zBA9Wr0YTt'}"
      ]
     },
     "execution_count": 39,
     "metadata": {},
     "output_type": "execute_result"
    }
   ],
   "source": [
    "df['data'][0]"
   ]
  },
  {
   "cell_type": "code",
   "execution_count": 40,
   "metadata": {
    "ExecuteTime": {
     "end_time": "2021-06-18T15:31:19.559283Z",
     "start_time": "2021-06-18T15:31:19.554900Z"
    }
   },
   "outputs": [
    {
     "data": {
      "text/plain": [
       "array([], dtype=float64)"
      ]
     },
     "execution_count": 40,
     "metadata": {},
     "output_type": "execute_result"
    }
   ],
   "source": [
    "df['author_id'] = df.apply(lambda df: parse_json(df, 'data', 'author_id')"
   ]
  },
  {
   "cell_type": "code",
   "execution_count": 36,
   "metadata": {
    "ExecuteTime": {
     "end_time": "2021-06-18T15:25:02.602836Z",
     "start_time": "2021-06-18T15:25:02.586178Z"
    }
   },
   "outputs": [
    {
     "ename": "KeyError",
     "evalue": "'author_id'",
     "output_type": "error",
     "traceback": [
      "\u001b[0;31m---------------------------------------------------------------------------\u001b[0m",
      "\u001b[0;31mKeyError\u001b[0m                                  Traceback (most recent call last)",
      "\u001b[0;32m<ipython-input-36-7871e24db855>\u001b[0m in \u001b[0;36m<module>\u001b[0;34m\u001b[0m\n\u001b[0;32m----> 1\u001b[0;31m \u001b[0mdf\u001b[0m\u001b[0;34m[\u001b[0m\u001b[0;34m'author_id'\u001b[0m\u001b[0;34m]\u001b[0m \u001b[0;34m=\u001b[0m \u001b[0mdf\u001b[0m\u001b[0;34m[\u001b[0m\u001b[0;34m'data'\u001b[0m\u001b[0;34m]\u001b[0m\u001b[0;34m[\u001b[0m\u001b[0;34m'author_id'\u001b[0m\u001b[0;34m]\u001b[0m\u001b[0;34m\u001b[0m\u001b[0;34m\u001b[0m\u001b[0m\n\u001b[0m\u001b[1;32m      2\u001b[0m \u001b[0mdf\u001b[0m\u001b[0;34m[\u001b[0m\u001b[0;34m'created_at'\u001b[0m\u001b[0;34m]\u001b[0m \u001b[0;34m=\u001b[0m \u001b[0mdf\u001b[0m\u001b[0;34m[\u001b[0m\u001b[0;34m'data'\u001b[0m\u001b[0;34m]\u001b[0m\u001b[0;34m[\u001b[0m\u001b[0;34m'created_at'\u001b[0m\u001b[0;34m]\u001b[0m\u001b[0;34m\u001b[0m\u001b[0;34m\u001b[0m\u001b[0m\n\u001b[1;32m      3\u001b[0m \u001b[0mdf\u001b[0m\u001b[0;34m[\u001b[0m\u001b[0;34m'geo'\u001b[0m\u001b[0;34m]\u001b[0m \u001b[0;34m=\u001b[0m \u001b[0mdf\u001b[0m\u001b[0;34m[\u001b[0m\u001b[0;34m'data'\u001b[0m\u001b[0;34m]\u001b[0m\u001b[0;34m[\u001b[0m\u001b[0;36m0\u001b[0m\u001b[0;34m]\u001b[0m\u001b[0;34m[\u001b[0m\u001b[0;34m'geo'\u001b[0m\u001b[0;34m]\u001b[0m\u001b[0;34m\u001b[0m\u001b[0;34m\u001b[0m\u001b[0m\n\u001b[1;32m      4\u001b[0m \u001b[0mdf\u001b[0m\u001b[0;34m[\u001b[0m\u001b[0;34m'id'\u001b[0m\u001b[0;34m]\u001b[0m \u001b[0;34m=\u001b[0m \u001b[0mdf\u001b[0m\u001b[0;34m[\u001b[0m\u001b[0;34m'data'\u001b[0m\u001b[0;34m]\u001b[0m\u001b[0;34m[\u001b[0m\u001b[0;36m0\u001b[0m\u001b[0;34m]\u001b[0m\u001b[0;34m[\u001b[0m\u001b[0;34m'id'\u001b[0m\u001b[0;34m]\u001b[0m\u001b[0;34m\u001b[0m\u001b[0;34m\u001b[0m\u001b[0m\n\u001b[1;32m      5\u001b[0m \u001b[0mdf\u001b[0m\u001b[0;34m[\u001b[0m\u001b[0;34m'retweet_count'\u001b[0m\u001b[0;34m]\u001b[0m \u001b[0;34m=\u001b[0m \u001b[0mdf\u001b[0m\u001b[0;34m[\u001b[0m\u001b[0;34m'data'\u001b[0m\u001b[0;34m]\u001b[0m\u001b[0;34m[\u001b[0m\u001b[0;36m0\u001b[0m\u001b[0;34m]\u001b[0m\u001b[0;34m[\u001b[0m\u001b[0;34m'public_metrics'\u001b[0m\u001b[0;34m]\u001b[0m\u001b[0;34m[\u001b[0m\u001b[0;34m'retweet_count'\u001b[0m\u001b[0;34m]\u001b[0m\u001b[0;34m\u001b[0m\u001b[0;34m\u001b[0m\u001b[0m\n",
      "\u001b[0;32m~/opt/anaconda3/lib/python3.7/site-packages/pandas/core/series.py\u001b[0m in \u001b[0;36m__getitem__\u001b[0;34m(self, key)\u001b[0m\n\u001b[1;32m    851\u001b[0m \u001b[0;34m\u001b[0m\u001b[0m\n\u001b[1;32m    852\u001b[0m         \u001b[0;32melif\u001b[0m \u001b[0mkey_is_scalar\u001b[0m\u001b[0;34m:\u001b[0m\u001b[0;34m\u001b[0m\u001b[0;34m\u001b[0m\u001b[0m\n\u001b[0;32m--> 853\u001b[0;31m             \u001b[0;32mreturn\u001b[0m \u001b[0mself\u001b[0m\u001b[0;34m.\u001b[0m\u001b[0m_get_value\u001b[0m\u001b[0;34m(\u001b[0m\u001b[0mkey\u001b[0m\u001b[0;34m)\u001b[0m\u001b[0;34m\u001b[0m\u001b[0;34m\u001b[0m\u001b[0m\n\u001b[0m\u001b[1;32m    854\u001b[0m \u001b[0;34m\u001b[0m\u001b[0m\n\u001b[1;32m    855\u001b[0m         \u001b[0;32mif\u001b[0m \u001b[0mis_hashable\u001b[0m\u001b[0;34m(\u001b[0m\u001b[0mkey\u001b[0m\u001b[0;34m)\u001b[0m\u001b[0;34m:\u001b[0m\u001b[0;34m\u001b[0m\u001b[0;34m\u001b[0m\u001b[0m\n",
      "\u001b[0;32m~/opt/anaconda3/lib/python3.7/site-packages/pandas/core/series.py\u001b[0m in \u001b[0;36m_get_value\u001b[0;34m(self, label, takeable)\u001b[0m\n\u001b[1;32m    959\u001b[0m \u001b[0;34m\u001b[0m\u001b[0m\n\u001b[1;32m    960\u001b[0m         \u001b[0;31m# Similar to Index.get_value, but we do not fall back to positional\u001b[0m\u001b[0;34m\u001b[0m\u001b[0;34m\u001b[0m\u001b[0;34m\u001b[0m\u001b[0m\n\u001b[0;32m--> 961\u001b[0;31m         \u001b[0mloc\u001b[0m \u001b[0;34m=\u001b[0m \u001b[0mself\u001b[0m\u001b[0;34m.\u001b[0m\u001b[0mindex\u001b[0m\u001b[0;34m.\u001b[0m\u001b[0mget_loc\u001b[0m\u001b[0;34m(\u001b[0m\u001b[0mlabel\u001b[0m\u001b[0;34m)\u001b[0m\u001b[0;34m\u001b[0m\u001b[0;34m\u001b[0m\u001b[0m\n\u001b[0m\u001b[1;32m    962\u001b[0m         \u001b[0;32mreturn\u001b[0m \u001b[0mself\u001b[0m\u001b[0;34m.\u001b[0m\u001b[0mindex\u001b[0m\u001b[0;34m.\u001b[0m\u001b[0m_get_values_for_loc\u001b[0m\u001b[0;34m(\u001b[0m\u001b[0mself\u001b[0m\u001b[0;34m,\u001b[0m \u001b[0mloc\u001b[0m\u001b[0;34m,\u001b[0m \u001b[0mlabel\u001b[0m\u001b[0;34m)\u001b[0m\u001b[0;34m\u001b[0m\u001b[0;34m\u001b[0m\u001b[0m\n\u001b[1;32m    963\u001b[0m \u001b[0;34m\u001b[0m\u001b[0m\n",
      "\u001b[0;32m~/opt/anaconda3/lib/python3.7/site-packages/pandas/core/indexes/range.py\u001b[0m in \u001b[0;36mget_loc\u001b[0;34m(self, key, method, tolerance)\u001b[0m\n\u001b[1;32m    352\u001b[0m                 \u001b[0;32mexcept\u001b[0m \u001b[0mValueError\u001b[0m \u001b[0;32mas\u001b[0m \u001b[0merr\u001b[0m\u001b[0;34m:\u001b[0m\u001b[0;34m\u001b[0m\u001b[0;34m\u001b[0m\u001b[0m\n\u001b[1;32m    353\u001b[0m                     \u001b[0;32mraise\u001b[0m \u001b[0mKeyError\u001b[0m\u001b[0;34m(\u001b[0m\u001b[0mkey\u001b[0m\u001b[0;34m)\u001b[0m \u001b[0;32mfrom\u001b[0m \u001b[0merr\u001b[0m\u001b[0;34m\u001b[0m\u001b[0;34m\u001b[0m\u001b[0m\n\u001b[0;32m--> 354\u001b[0;31m             \u001b[0;32mraise\u001b[0m \u001b[0mKeyError\u001b[0m\u001b[0;34m(\u001b[0m\u001b[0mkey\u001b[0m\u001b[0;34m)\u001b[0m\u001b[0;34m\u001b[0m\u001b[0;34m\u001b[0m\u001b[0m\n\u001b[0m\u001b[1;32m    355\u001b[0m         \u001b[0;32mreturn\u001b[0m \u001b[0msuper\u001b[0m\u001b[0;34m(\u001b[0m\u001b[0;34m)\u001b[0m\u001b[0;34m.\u001b[0m\u001b[0mget_loc\u001b[0m\u001b[0;34m(\u001b[0m\u001b[0mkey\u001b[0m\u001b[0;34m,\u001b[0m \u001b[0mmethod\u001b[0m\u001b[0;34m=\u001b[0m\u001b[0mmethod\u001b[0m\u001b[0;34m,\u001b[0m \u001b[0mtolerance\u001b[0m\u001b[0;34m=\u001b[0m\u001b[0mtolerance\u001b[0m\u001b[0;34m)\u001b[0m\u001b[0;34m\u001b[0m\u001b[0;34m\u001b[0m\u001b[0m\n\u001b[1;32m    356\u001b[0m \u001b[0;34m\u001b[0m\u001b[0m\n",
      "\u001b[0;31mKeyError\u001b[0m: 'author_id'"
     ]
    }
   ],
   "source": [
    "df['author_id'] = df['data']['author_id']\n",
    "df['created_at'] = df['data']['created_at']\n",
    "df['geo'] = df['data'][0]['geo']\n",
    "df['id'] = df['data'][0]['id']\n",
    "df['retweet_count'] = df['data'][0]['public_metrics']['retweet_count']\n",
    "df['reply_count'] = df['data'][0]['public_metrics']['reply_count']\n",
    "df['like_count'] = df['data'][0]['public_metrics']['like_count']\n",
    "df['quote_count'] = df['data'][0]['public_metrics']['quote_count']\n",
    "df['text'] = df['data'][0]['text']"
   ]
  },
  {
   "cell_type": "code",
   "execution_count": null,
   "metadata": {},
   "outputs": [],
   "source": [
    "df"
   ]
  },
  {
   "cell_type": "code",
   "execution_count": 29,
   "metadata": {
    "ExecuteTime": {
     "end_time": "2021-06-18T15:18:29.392512Z",
     "start_time": "2021-06-18T15:18:18.178351Z"
    },
    "collapsed": true
   },
   "outputs": [
    {
     "name": "stdout",
     "output_type": "stream",
     "text": [
      "0 \n",
      " original:  Esteban Ocon signs new Alpine F1 deal until 2024 https://t.co/zBA9Wr0YTt\n",
      "clean:  Esteban Ocon signs new Alpine F1 deal until2024 https://t.co/zBA9Wr0YTt\n",
      "original language:  ca\n",
      "translation:  Esteban Ocon signs new Alpine F1 deal until2024 https://t.co/zBA9Wr0YTt\n",
      "1 \n",
      " original:  BIG UP TO ESTEBAN OCON WHOSE SIGNED A NEW 3 YEAR DEAL FOR ALPINE F1\n",
      "WHERE HE'S BEEN SINCE THE START OF 2020\n",
      "This Following his debut at 2016 Belgian GP, 2 yrs at Force India, (Aston Martin), in 17 &amp; 18 with a year out in 19 as Mercedes 3rd Driver \n",
      "has he earned that New contract?\n",
      "clean:  BIG UP TO ESTEBAN OCON WHOSE SIGNED A NEW 3 YEAR DEAL FOR ALPINE F1\n",
      "WHERE HE'S BEEN SINCE THE START OF 2020\n",
      "This Following his debut at 2016 Belgian GP, 2 yrs at Force India, (Aston Martin), in 17 &amp; 18 with a year out in 19 as Mercedes 3rd Driver \n",
      "has he earned that New contract?\n",
      "original language:  en\n",
      "translation:  BIG UP TO ESTEBAN OCON WHOSE SIGNED A NEW 3 YEAR DEAL FOR ALPINE F1\n",
      "WHERE HE'S BEEN SINCE THE START OF 2020\n",
      "This Following his debut at 2016 Belgian GP, 2 yrs at Force India, (Aston Martin), in 17 &amp; 18 with a year out in 19 as Mercedes 3rd Driver \n",
      "has he earned that New contract?\n",
      "2 \n",
      " original:  Neuer Dreijahresvertrag: Esteban Ocon verlängert mit Alpine bis 2024. \n",
      "#skyf1 #f1 #alpine #ocon2024 https://t.co/GDqyfJmqjb\n",
      "clean:  Neuer Dreijahresvertrag: Esteban Ocon verlngert mit Alpine bis 2024. \n",
      "skyf1 f1 alpine ocon2024 https://t.co/GDqyfJmqjb\n",
      "original language:  de\n",
      "translation:  New three-year contract: Esteban Ocon renewed with Alpine until 2024.\n",
      "SKYF1 F1 Alpine Ocon2024 https://t.co/gdqyfjmqjb\n",
      "3 \n",
      " original:  #Formula1 , Esteban #Ocon rinnova con #Alpine fino al 2024\n",
      "\n",
      "https://t.co/qETmvFzNhI\n",
      "clean:  Formula1 , Esteban Ocon rinnova con Alpine fino al 2024\n",
      "\n",
      "https://t.co/qETmvFzNhI\n",
      "original language:  it\n",
      "translation:  Formula1, Esteban Ocon renews with Alpine up to 2024\n",
      "\n",
      "https://t.co/qetmvfznhi\n",
      "4 \n",
      " original:  #F1: ufficiale, #Ocon pilota #Alpine fino al 2024 https://t.co/gftAgCmHOa\n",
      "clean:  F1: ufficiale, Ocon pilota Alpine fino al 2024 https://t.co/gftAgCmHOa\n",
      "original language:  it\n",
      "translation:  F1: official, Ocon Alpine pilot up to 2024 https://t.co/GftagCMhoa\n",
      "5 \n",
      " original:  Alpine heeft de line-up voor volgend jaar rond. Alonso had al meerjarige deal op zak en Ocon ligt nu zelfs vast t/m 2024. Logische zet, vanuit beide partijen bezien. Eneh geruchten over Gasly in Franse dienst kunnen bij deze ook mooi de prullenbak in #F1\n",
      "clean:  Alpine heeft de line-up voor volgend jaar rond. Alonso had al meerjarige deal op zak en Ocon ligt nu zelfs vast t/m 2024. Logische zet, vanuit beide partijen bezien. Eneh geruchten over Gasly in Franse dienst kunnen bij deze ook mooi de prullenbak in F1\n",
      "original language:  nl\n",
      "translation:  Alpine has the line-up for next year around.Alonso had already a multi-year deal in pocket and Ocon is now even fixed up to 2024. Logic move, viewed from both parties.Eneh rumors about Gasly in French service can also be beautiful in the trash in F1\n",
      "6 \n",
      " original:  French driver signs contract extension with a french f1 team before the french GP.......\n",
      "\n",
      "Did someone say triple header? 😏\n",
      "\n",
      "https://t.co/sXuZvqwBqr\n",
      "\n",
      "#estebanocon #alpinef1 #formula1 #FrenchGP #F1 #f1ramble\n",
      "clean:  French driver signs contract extension with a french f1 team before the french GP.......\n",
      "\n",
      "Did someone say triple header? \n",
      "\n",
      "https://t.co/sXuZvqwBqr\n",
      "\n",
      "estebanocon alpinef1 formula1 FrenchGP F1 f1ramble\n",
      "original language:  en\n",
      "translation:  French driver signs contract extension with a french f1 team before the french GP.......\n",
      "Did someone say triple header?\n",
      "https://t.co/sXuZvqwBqr\n",
      "esteban ocon alpine f1 formula 1 French GP F1 f1ramble\n",
      "7 \n",
      " original:  OFICIAL: Esteban Ocon seguirá con @AlpineF1Team hasta 2024 tras firmar una extensión de su contrato por tres años más #F1 https://t.co/8iKFIExQsJ\n",
      "clean:  OFICIAL: Esteban Ocon seguir con AlpineF1Team hasta 2024 tras firmar una extensin de su contrato por tres aos ms F1 https://t.co/8iKFIExQsJ\n",
      "original language:  es\n",
      "translation:  Official: Esteban Ocon Follow Alpinef1team until 2024 after signing an extension of his contract for three years MS F1 https://t.co/8ikfiexqsj\n",
      "8 \n",
      " original:  Esteban Ocon has signed a 3-year deal with Alpine, to take him to the end of 2024. #F1 2022 is beginning to take shape! #FrenchGP https://t.co/SUA6Ha5umS\n",
      "clean:  Esteban Ocon has signed a 3-year deal with Alpine, to take him to the end of 2024. F1 2022 is beginning to take shape FrenchGP https://t.co/SUA6Ha5umS\n",
      "original language:  en\n",
      "translation:  Esteban Ocon has signed a 3-year deal with Alpine, to take him to the end of 2024. F1 2022 is beginning to take shape FrenchGP https://t.co/SUA6Ha5umS\n",
      "9 \n",
      " original:  Will Esteban Ocon ever be good enough to fight for a World Drivers Championship in F1? #F1 #FrenchGP #Ocon\n",
      "clean:  Will Esteban Ocon ever be good enough to fight for a World Drivers Championship in F1? F1 FrenchGP Ocon\n",
      "original language:  en\n",
      "translation:  Will Esteban Ocon ever be good enough to fight for a World Drivers Championship in F1? F1 French GP Ocon\n"
     ]
    }
   ],
   "source": [
    "translator = Translator()\n",
    "for i in range(len(df)):\n",
    "    original_text = df['data'][i]['text']\n",
    "    clean_text = ''.join(e for e in original_text if e.isascii())\n",
    "    clean_text = ''.join(e for e in clean_text if e not in [\"!\", \"@\", \"#\"])\n",
    "    \n",
    "    print(i, '\\n original: ', original_text)\n",
    "    print('clean: ', clean_text)\n",
    "    print('original language: ', detect(clean_text))\n",
    "    try:\n",
    "        print('translation: ',ts.google(clean_text, if_use_cn_host=True))\n",
    "    except Exception:\n",
    "        pass"
   ]
  },
  {
   "cell_type": "code",
   "execution_count": null,
   "metadata": {},
   "outputs": [],
   "source": [
    "def cleanText(df):\n",
    "    "
   ]
  },
  {
   "cell_type": "code",
   "execution_count": 13,
   "metadata": {
    "ExecuteTime": {
     "end_time": "2021-06-18T14:56:51.995776Z",
     "start_time": "2021-06-18T14:56:51.195966Z"
    }
   },
   "outputs": [
    {
     "name": "stdout",
     "output_type": "stream",
     "text": [
      "# F1: official, #Con pilot #alpine up to 2024 https://t.co/GftagCMhoa\n"
     ]
    }
   ],
   "source": [
    "import translators as ts\n",
    "\n",
    "wyw_text = df['data'][4]['text']\n",
    "# chs_text = '季姬感到寂寞，罗集了一些鸡来养，鸡是那种出自荆棘丛中的野鸡。野鸡饿了唧唧叫，季姬就拿竹箕中的谷物喂鸡。'\n",
    "\n",
    "# input languages\n",
    "# print(ts.deepl(wyw_text)) # default: from_language='auto', to_language='en'\n",
    "\n",
    "## output language_map\n",
    "# print(ts._deepl.language_map)\n",
    "\n",
    "# professional field\n",
    "# print(ts.alibaba(wyw_text, professional_field='general')) # (\"general\",\"message\",\"offer\")\n",
    "# print(ts.baidu(wyw_text, professional_field='common')) # ('common','medicine','electronics','mechanics')\n",
    "\n",
    "# # property\n",
    "# # rs = [ts.tencent(x) for x in [wyw_text, chs_text]]\n",
    "# print(ts._tencent.query_count)\n",
    "# print(dir(ts._tencent))\n",
    "\n",
    "# # requests\n",
    "# print(ts.youdao(wyw_text, sleep_seconds=5, proxies={}))\n",
    "\n",
    "# host service\n",
    "print(ts.google(wyw_text, if_use_cn_host=True))"
   ]
  },
  {
   "cell_type": "code",
   "execution_count": 23,
   "metadata": {
    "ExecuteTime": {
     "end_time": "2021-06-18T15:08:22.446359Z",
     "start_time": "2021-06-18T15:08:22.411757Z"
    }
   },
   "outputs": [
    {
     "data": {
      "text/html": [
       "<div>\n",
       "<style scoped>\n",
       "    .dataframe tbody tr th:only-of-type {\n",
       "        vertical-align: middle;\n",
       "    }\n",
       "\n",
       "    .dataframe tbody tr th {\n",
       "        vertical-align: top;\n",
       "    }\n",
       "\n",
       "    .dataframe thead th {\n",
       "        text-align: right;\n",
       "    }\n",
       "</style>\n",
       "<table border=\"1\" class=\"dataframe\">\n",
       "  <thead>\n",
       "    <tr style=\"text-align: right;\">\n",
       "      <th></th>\n",
       "      <th>_id</th>\n",
       "      <th>data</th>\n",
       "      <th>includes</th>\n",
       "      <th>matching_rules</th>\n",
       "    </tr>\n",
       "  </thead>\n",
       "  <tbody>\n",
       "    <tr>\n",
       "      <th>0</th>\n",
       "      <td>60ca189ef88ecb49d22d0ab3</td>\n",
       "      <td>{'author_id': '1364879051438002176', 'created_...</td>\n",
       "      <td>{'users': [{'created_at': '2021-02-25T10:05:11...</td>\n",
       "      <td>[{'id': 1405185482108157953, 'tag': ''}]</td>\n",
       "    </tr>\n",
       "    <tr>\n",
       "      <th>1</th>\n",
       "      <td>60ca18b5f88ecb49d22d0ab4</td>\n",
       "      <td>{'author_id': '1350309702', 'created_at': '202...</td>\n",
       "      <td>{'users': [{'created_at': '2013-04-13T21:55:37...</td>\n",
       "      <td>[{'id': 1405185482108157953, 'tag': ''}]</td>\n",
       "    </tr>\n",
       "    <tr>\n",
       "      <th>2</th>\n",
       "      <td>60ca18baf88ecb49d22d0ab5</td>\n",
       "      <td>{'author_id': '1368546012067995650', 'created_...</td>\n",
       "      <td>{'users': [{'created_at': '2021-03-07T12:56:52...</td>\n",
       "      <td>[{'id': 1405185482108157953, 'tag': ''}]</td>\n",
       "    </tr>\n",
       "    <tr>\n",
       "      <th>3</th>\n",
       "      <td>60ca18cff88ecb49d22d0ab6</td>\n",
       "      <td>{'author_id': '4843529163', 'created_at': '202...</td>\n",
       "      <td>{'users': [{'created_at': '2016-01-24T22:43:30...</td>\n",
       "      <td>[{'id': 1405185482108157953, 'tag': ''}]</td>\n",
       "    </tr>\n",
       "    <tr>\n",
       "      <th>4</th>\n",
       "      <td>60ca18d5f88ecb49d22d0ab7</td>\n",
       "      <td>{'author_id': '493042610', 'created_at': '2021...</td>\n",
       "      <td>{'users': [{'created_at': '2012-02-15T11:38:09...</td>\n",
       "      <td>[{'id': 1405185482108157953, 'tag': ''}]</td>\n",
       "    </tr>\n",
       "    <tr>\n",
       "      <th>5</th>\n",
       "      <td>60ca18d9f88ecb49d22d0ab8</td>\n",
       "      <td>{'author_id': '831236353585246210', 'created_a...</td>\n",
       "      <td>{'users': [{'created_at': '2017-02-13T20:19:25...</td>\n",
       "      <td>[{'id': 1405185482108157953, 'tag': ''}]</td>\n",
       "    </tr>\n",
       "    <tr>\n",
       "      <th>6</th>\n",
       "      <td>60ca18ddf88ecb49d22d0ab9</td>\n",
       "      <td>{'author_id': '1357714434265915393', 'created_...</td>\n",
       "      <td>{'users': [{'created_at': '2021-02-05T15:35:34...</td>\n",
       "      <td>[{'id': 1405185482108157953, 'tag': ''}]</td>\n",
       "    </tr>\n",
       "    <tr>\n",
       "      <th>7</th>\n",
       "      <td>60ca18e1f88ecb49d22d0aba</td>\n",
       "      <td>{'author_id': '1129878879143911426', 'created_...</td>\n",
       "      <td>{'users': [{'created_at': '2019-05-18T22:38:11...</td>\n",
       "      <td>[{'id': 1405185482108157953, 'tag': ''}]</td>\n",
       "    </tr>\n",
       "    <tr>\n",
       "      <th>8</th>\n",
       "      <td>60ca18e2f88ecb49d22d0abb</td>\n",
       "      <td>{'author_id': '1318271660307472385', 'created_...</td>\n",
       "      <td>{'users': [{'created_at': '2020-10-19T19:23:56...</td>\n",
       "      <td>[{'id': 1405185482108157953, 'tag': ''}]</td>\n",
       "    </tr>\n",
       "    <tr>\n",
       "      <th>9</th>\n",
       "      <td>60ca18e6f88ecb49d22d0abc</td>\n",
       "      <td>{'author_id': '3308385844', 'created_at': '202...</td>\n",
       "      <td>{'users': [{'created_at': '2015-06-04T16:01:06...</td>\n",
       "      <td>[{'id': 1405185482108157953, 'tag': ''}]</td>\n",
       "    </tr>\n",
       "  </tbody>\n",
       "</table>\n",
       "</div>"
      ],
      "text/plain": [
       "                        _id  \\\n",
       "0  60ca189ef88ecb49d22d0ab3   \n",
       "1  60ca18b5f88ecb49d22d0ab4   \n",
       "2  60ca18baf88ecb49d22d0ab5   \n",
       "3  60ca18cff88ecb49d22d0ab6   \n",
       "4  60ca18d5f88ecb49d22d0ab7   \n",
       "5  60ca18d9f88ecb49d22d0ab8   \n",
       "6  60ca18ddf88ecb49d22d0ab9   \n",
       "7  60ca18e1f88ecb49d22d0aba   \n",
       "8  60ca18e2f88ecb49d22d0abb   \n",
       "9  60ca18e6f88ecb49d22d0abc   \n",
       "\n",
       "                                                data  \\\n",
       "0  {'author_id': '1364879051438002176', 'created_...   \n",
       "1  {'author_id': '1350309702', 'created_at': '202...   \n",
       "2  {'author_id': '1368546012067995650', 'created_...   \n",
       "3  {'author_id': '4843529163', 'created_at': '202...   \n",
       "4  {'author_id': '493042610', 'created_at': '2021...   \n",
       "5  {'author_id': '831236353585246210', 'created_a...   \n",
       "6  {'author_id': '1357714434265915393', 'created_...   \n",
       "7  {'author_id': '1129878879143911426', 'created_...   \n",
       "8  {'author_id': '1318271660307472385', 'created_...   \n",
       "9  {'author_id': '3308385844', 'created_at': '202...   \n",
       "\n",
       "                                            includes  \\\n",
       "0  {'users': [{'created_at': '2021-02-25T10:05:11...   \n",
       "1  {'users': [{'created_at': '2013-04-13T21:55:37...   \n",
       "2  {'users': [{'created_at': '2021-03-07T12:56:52...   \n",
       "3  {'users': [{'created_at': '2016-01-24T22:43:30...   \n",
       "4  {'users': [{'created_at': '2012-02-15T11:38:09...   \n",
       "5  {'users': [{'created_at': '2017-02-13T20:19:25...   \n",
       "6  {'users': [{'created_at': '2021-02-05T15:35:34...   \n",
       "7  {'users': [{'created_at': '2019-05-18T22:38:11...   \n",
       "8  {'users': [{'created_at': '2020-10-19T19:23:56...   \n",
       "9  {'users': [{'created_at': '2015-06-04T16:01:06...   \n",
       "\n",
       "                             matching_rules  \n",
       "0  [{'id': 1405185482108157953, 'tag': ''}]  \n",
       "1  [{'id': 1405185482108157953, 'tag': ''}]  \n",
       "2  [{'id': 1405185482108157953, 'tag': ''}]  \n",
       "3  [{'id': 1405185482108157953, 'tag': ''}]  \n",
       "4  [{'id': 1405185482108157953, 'tag': ''}]  \n",
       "5  [{'id': 1405185482108157953, 'tag': ''}]  \n",
       "6  [{'id': 1405185482108157953, 'tag': ''}]  \n",
       "7  [{'id': 1405185482108157953, 'tag': ''}]  \n",
       "8  [{'id': 1405185482108157953, 'tag': ''}]  \n",
       "9  [{'id': 1405185482108157953, 'tag': ''}]  "
      ]
     },
     "execution_count": 23,
     "metadata": {},
     "output_type": "execute_result"
    }
   ],
   "source": [
    "df"
   ]
  },
  {
   "cell_type": "code",
   "execution_count": null,
   "metadata": {},
   "outputs": [],
   "source": []
  }
 ],
 "metadata": {
  "kernelspec": {
   "display_name": "Python 3",
   "language": "python",
   "name": "python3"
  },
  "language_info": {
   "codemirror_mode": {
    "name": "ipython",
    "version": 3
   },
   "file_extension": ".py",
   "mimetype": "text/x-python",
   "name": "python",
   "nbconvert_exporter": "python",
   "pygments_lexer": "ipython3",
   "version": "3.7.7"
  }
 },
 "nbformat": 4,
 "nbformat_minor": 4
}
