{
 "cells": [
  {
   "cell_type": "code",
   "execution_count": 53,
   "metadata": {
    "ExecuteTime": {
     "end_time": "2021-06-18T15:29:18.981026Z",
     "start_time": "2021-06-18T15:29:18.976342Z"
    }
   },
   "outputs": [],
   "source": [
    "import pandas as pd\n",
    "import os\n",
    "import sys\n",
    "import pymongo\n",
    "import requests\n",
    "import translators as ts\n",
    "from langdetect import detect\n",
    "from json_parsers import *\n",
    "from sqlalchemy import create_engine\n",
    "from pymongo import MongoClient\n"
   ]
  },
  {
   "cell_type": "code",
   "execution_count": 30,
   "metadata": {
    "ExecuteTime": {
     "end_time": "2021-06-18T15:22:42.831348Z",
     "start_time": "2021-06-18T15:22:42.825847Z"
    }
   },
   "outputs": [],
   "source": [
    "MONGO_URI = os.getenv(\"MONGO_URI\")\n",
    "\n",
    "client_db =  'stream'\n",
    "client_col = 'frenchgp' #args.collection\n",
    "\n",
    "# source and target connections\n",
    "client = MongoClient(MONGO_URI)\n",
    "\n",
    "# batch size\n",
    "batch_size = 1000\n",
    "\n",
    "# database and collection names\n",
    "db = client[client_db]\n",
    "col = db[client_col]"
   ]
  },
  {
   "cell_type": "markdown",
   "metadata": {},
   "source": [
    "# IMPORT"
   ]
  },
  {
   "cell_type": "code",
   "execution_count": 110,
   "metadata": {
    "ExecuteTime": {
     "end_time": "2021-06-18T15:23:46.975683Z",
     "start_time": "2021-06-18T15:23:46.967933Z"
    }
   },
   "outputs": [],
   "source": [
    "df_in = pd.DataFrame(list(col.find({})))\n",
    "df_in = df_in.drop(['matching_rules'],1)"
   ]
  },
  {
   "cell_type": "markdown",
   "metadata": {},
   "source": [
    "# DEFINE FUNCTIONS"
   ]
  },
  {
   "cell_type": "code",
   "execution_count": 99,
   "metadata": {
    "ExecuteTime": {
     "end_time": "2021-06-18T15:31:19.559283Z",
     "start_time": "2021-06-18T15:31:19.554900Z"
    }
   },
   "outputs": [
    {
     "data": {
      "text/html": [
       "<div>\n",
       "<style scoped>\n",
       "    .dataframe tbody tr th:only-of-type {\n",
       "        vertical-align: middle;\n",
       "    }\n",
       "\n",
       "    .dataframe tbody tr th {\n",
       "        vertical-align: top;\n",
       "    }\n",
       "\n",
       "    .dataframe thead th {\n",
       "        text-align: right;\n",
       "    }\n",
       "</style>\n",
       "<table border=\"1\" class=\"dataframe\">\n",
       "  <thead>\n",
       "    <tr style=\"text-align: right;\">\n",
       "      <th></th>\n",
       "      <th>tweet_id</th>\n",
       "      <th>author_id</th>\n",
       "      <th>created_at</th>\n",
       "      <th>raw_text</th>\n",
       "    </tr>\n",
       "  </thead>\n",
       "  <tbody>\n",
       "    <tr>\n",
       "      <th>0</th>\n",
       "      <td>1405185477834051584</td>\n",
       "      <td>1364879051438002176</td>\n",
       "      <td>2021-06-16T15:28:19.000Z</td>\n",
       "      <td>Esteban Ocon signs new Alpine F1 deal until 20...</td>\n",
       "    </tr>\n",
       "    <tr>\n",
       "      <th>1</th>\n",
       "      <td>1405185576085733380</td>\n",
       "      <td>1350309702</td>\n",
       "      <td>2021-06-16T15:28:43.000Z</td>\n",
       "      <td>BIG UP TO ESTEBAN OCON WHOSE SIGNED A NEW 3 YE...</td>\n",
       "    </tr>\n",
       "    <tr>\n",
       "      <th>2</th>\n",
       "      <td>1405185596771995653</td>\n",
       "      <td>1368546012067995650</td>\n",
       "      <td>2021-06-16T15:28:48.000Z</td>\n",
       "      <td>Neuer Dreijahresvertrag: Esteban Ocon verlänge...</td>\n",
       "    </tr>\n",
       "    <tr>\n",
       "      <th>3</th>\n",
       "      <td>1405185683753422851</td>\n",
       "      <td>4843529163</td>\n",
       "      <td>2021-06-16T15:29:08.000Z</td>\n",
       "      <td>#Formula1 , Esteban #Ocon rinnova con #Alpine ...</td>\n",
       "    </tr>\n",
       "    <tr>\n",
       "      <th>4</th>\n",
       "      <td>1405185708323741697</td>\n",
       "      <td>493042610</td>\n",
       "      <td>2021-06-16T15:29:14.000Z</td>\n",
       "      <td>#F1: ufficiale, #Ocon pilota #Alpine fino al 2...</td>\n",
       "    </tr>\n",
       "    <tr>\n",
       "      <th>5</th>\n",
       "      <td>1405185726921252866</td>\n",
       "      <td>831236353585246210</td>\n",
       "      <td>2021-06-16T15:29:19.000Z</td>\n",
       "      <td>Alpine heeft de line-up voor volgend jaar rond...</td>\n",
       "    </tr>\n",
       "    <tr>\n",
       "      <th>6</th>\n",
       "      <td>1405185742696075265</td>\n",
       "      <td>1357714434265915393</td>\n",
       "      <td>2021-06-16T15:29:22.000Z</td>\n",
       "      <td>French driver signs contract extension with a ...</td>\n",
       "    </tr>\n",
       "    <tr>\n",
       "      <th>7</th>\n",
       "      <td>1405185757149605888</td>\n",
       "      <td>1129878879143911426</td>\n",
       "      <td>2021-06-16T15:29:26.000Z</td>\n",
       "      <td>OFICIAL: Esteban Ocon seguirá con @AlpineF1Tea...</td>\n",
       "    </tr>\n",
       "    <tr>\n",
       "      <th>8</th>\n",
       "      <td>1405185763189301248</td>\n",
       "      <td>1318271660307472385</td>\n",
       "      <td>2021-06-16T15:29:27.000Z</td>\n",
       "      <td>Esteban Ocon has signed a 3-year deal with Alp...</td>\n",
       "    </tr>\n",
       "    <tr>\n",
       "      <th>9</th>\n",
       "      <td>1405185780444712960</td>\n",
       "      <td>3308385844</td>\n",
       "      <td>2021-06-16T15:29:31.000Z</td>\n",
       "      <td>Will Esteban Ocon ever be good enough to fight...</td>\n",
       "    </tr>\n",
       "  </tbody>\n",
       "</table>\n",
       "</div>"
      ],
      "text/plain": [
       "              tweet_id            author_id                created_at  \\\n",
       "0  1405185477834051584  1364879051438002176  2021-06-16T15:28:19.000Z   \n",
       "1  1405185576085733380           1350309702  2021-06-16T15:28:43.000Z   \n",
       "2  1405185596771995653  1368546012067995650  2021-06-16T15:28:48.000Z   \n",
       "3  1405185683753422851           4843529163  2021-06-16T15:29:08.000Z   \n",
       "4  1405185708323741697            493042610  2021-06-16T15:29:14.000Z   \n",
       "5  1405185726921252866   831236353585246210  2021-06-16T15:29:19.000Z   \n",
       "6  1405185742696075265  1357714434265915393  2021-06-16T15:29:22.000Z   \n",
       "7  1405185757149605888  1129878879143911426  2021-06-16T15:29:26.000Z   \n",
       "8  1405185763189301248  1318271660307472385  2021-06-16T15:29:27.000Z   \n",
       "9  1405185780444712960           3308385844  2021-06-16T15:29:31.000Z   \n",
       "\n",
       "                                            raw_text  \n",
       "0  Esteban Ocon signs new Alpine F1 deal until 20...  \n",
       "1  BIG UP TO ESTEBAN OCON WHOSE SIGNED A NEW 3 YE...  \n",
       "2  Neuer Dreijahresvertrag: Esteban Ocon verlänge...  \n",
       "3  #Formula1 , Esteban #Ocon rinnova con #Alpine ...  \n",
       "4  #F1: ufficiale, #Ocon pilota #Alpine fino al 2...  \n",
       "5  Alpine heeft de line-up voor volgend jaar rond...  \n",
       "6  French driver signs contract extension with a ...  \n",
       "7  OFICIAL: Esteban Ocon seguirá con @AlpineF1Tea...  \n",
       "8  Esteban Ocon has signed a 3-year deal with Alp...  \n",
       "9  Will Esteban Ocon ever be good enough to fight...  "
      ]
     },
     "execution_count": 99,
     "metadata": {},
     "output_type": "execute_result"
    }
   ],
   "source": [
    "def getData(df):\n",
    "    \"\"\"\n",
    "    Convert the nexted json inside the data column to its own dataframe\n",
    "    \"\"\"\n",
    "    df['author_id'] = df.apply(lambda df: parse_json(df, 'data', 'author_id'), 1)\n",
    "    df['created_at'] = df.apply(lambda df: parse_json(df, 'data', 'created_at'), 1)\n",
    "    df['geo'] = df.apply(lambda df: parse_json(df, 'data', 'geo'), 1)\n",
    "    df['tweet_id'] = df.apply(lambda df: parse_json_exact(df, 'data', 'id'), 1)\n",
    "    df['raw_text'] = df.apply(lambda df: parse_json(df, 'data', 'text'), 1)\n",
    "    df = df[['tweet_id','author_id','created_at','raw_text']]\n",
    "    return df\n",
    "\n",
    "\n",
    " def getTranslation(df):\n",
    "    clean_text = df['clean_text']\n",
    "    translated_text = ts.google(clean_text, if_use_cn_host=True)\n",
    "    return translated_text\n",
    "\n",
    "\n",
    "def getCleanText(df):\n",
    "    clean_text = ''.join(e for e in df['raw_text'] if e.isascii())\n",
    "    clean_text = ''.join(e for e in clean_text if e not in [\"!\", \"@\", \"#\"])\n",
    "    return clean_text\n",
    "\n",
    "\n",
    "def getLanguage(df):\n",
    "    clean_text = ''.join(e for e in df['raw_text'] if e.isascii())\n",
    "    clean_text = ''.join(e for e in clean_text if e not in [\"!\", \"@\", \"#\"])\n",
    "    language = detect(clean_text)\n",
    "    return language   \n",
    "\n",
    "\n",
    "def getUsers(df):\n",
    "    users = df['includes']['users']\n",
    "    return users\n",
    "\n",
    "\n",
    "def getUserDataframe(df):\n",
    "    df['user_created_at'] = df.apply(lambda df: parse_json(df, 'users', 'created_at'), 1)\n",
    "    df['user_id'] = df.apply(lambda df: parse_json(df, 'users', 'id'), 1)\n",
    "    df['location'] = df.apply(lambda df: parse_json(df, 'users', 'location'), 1)\n",
    "    df['name'] = df.apply(lambda df: parse_json_exact(df, 'users', 'name'), 1)\n",
    "    df['username'] = df.apply(lambda df: parse_json(df, 'users', 'username'), 1)\n",
    "    df = df.drop(['users'],1)\n",
    "    return df"
   ]
  },
  {
   "cell_type": "markdown",
   "metadata": {},
   "source": [
    "# CLEAN TWEET DATA / TRANSLATE"
   ]
  },
  {
   "cell_type": "code",
   "execution_count": 121,
   "metadata": {},
   "outputs": [
    {
     "name": "stderr",
     "output_type": "stream",
     "text": [
      "/Users/iiyakhruschev/opt/anaconda3/lib/python3.7/site-packages/ipykernel_launcher.py:2: SettingWithCopyWarning: \n",
      "A value is trying to be set on a copy of a slice from a DataFrame.\n",
      "Try using .loc[row_indexer,col_indexer] = value instead\n",
      "\n",
      "See the caveats in the documentation: https://pandas.pydata.org/pandas-docs/stable/user_guide/indexing.html#returning-a-view-versus-a-copy\n",
      "  \n",
      "/Users/iiyakhruschev/opt/anaconda3/lib/python3.7/site-packages/ipykernel_launcher.py:3: SettingWithCopyWarning: \n",
      "A value is trying to be set on a copy of a slice from a DataFrame.\n",
      "Try using .loc[row_indexer,col_indexer] = value instead\n",
      "\n",
      "See the caveats in the documentation: https://pandas.pydata.org/pandas-docs/stable/user_guide/indexing.html#returning-a-view-versus-a-copy\n",
      "  This is separate from the ipykernel package so we can avoid doing imports until\n",
      "CPU times: user 253 ms, sys: 17.3 ms, total: 271 ms\n",
      "Wall time: 7.75 s\n"
     ]
    }
   ],
   "source": [
    "%%time\n",
    "data_df = getData(df_in)\n",
    "data_df['clean_text'] = data_df.apply(lambda data_df: getCleanText(data_df), 1)\n",
    "data_df['language'] = data_df.apply(lambda data_df: getLanguage(data_df), 1)\n",
    "data_df_translate = data_df[data_df['language'] != 'en'][['tweet_id','clean_text']]\n",
    "data_df_translate['translated_text'] = data_df_translate.apply(lambda data_df_translate: getTranslation(data_df_translate), 1)\n",
    "data_df = data_df \\\n",
    "            .merge(data_df_translate, on='tweet_id', how='left') \\\n",
    "            .rename(index=str, columns={'clean_text_x': 'clean_text'}) \\\n",
    "            .drop('clean_text_y', 1)\n",
    "data_df['translated_text'] = data_df['translated_text'].fillna(data_df['clean_text'])\n",
    "data_df = data_df[['tweet_id','author_id','created_at','language','raw_text','clean_text','translated_text']]"
   ]
  },
  {
   "cell_type": "markdown",
   "metadata": {},
   "source": [
    "# SEND TO POSTGRES"
   ]
  },
  {
   "cell_type": "code",
   "execution_count": 122,
   "metadata": {},
   "outputs": [],
   "source": [
    "engine = create_engine('postgresql://postgres@localhost:5432/frenchgp')\n",
    "data_df.to_sql('tweet', engine)"
   ]
  },
  {
   "cell_type": "markdown",
   "metadata": {},
   "source": [
    "# USERS MENTIONED"
   ]
  },
  {
   "cell_type": "code",
   "execution_count": 124,
   "metadata": {},
   "outputs": [],
   "source": [
    "df_in['users'] = df_in.apply(lambda df_in: getUsers(df_in), 1)"
   ]
  },
  {
   "cell_type": "code",
   "execution_count": 125,
   "metadata": {
    "ExecuteTime": {
     "end_time": "2021-06-18T15:25:02.602836Z",
     "start_time": "2021-06-18T15:25:02.586178Z"
    }
   },
   "outputs": [],
   "source": [
    "users_exploded = df_in[['tweet_id','users']].explode('users')\n",
    "users_df = getUserDataframe(users_exploded)"
   ]
  },
  {
   "cell_type": "code",
   "execution_count": 130,
   "metadata": {},
   "outputs": [
    {
     "data": {
      "text/html": [
       "<div>\n",
       "<style scoped>\n",
       "    .dataframe tbody tr th:only-of-type {\n",
       "        vertical-align: middle;\n",
       "    }\n",
       "\n",
       "    .dataframe tbody tr th {\n",
       "        vertical-align: top;\n",
       "    }\n",
       "\n",
       "    .dataframe thead th {\n",
       "        text-align: right;\n",
       "    }\n",
       "</style>\n",
       "<table border=\"1\" class=\"dataframe\">\n",
       "  <thead>\n",
       "    <tr style=\"text-align: right;\">\n",
       "      <th></th>\n",
       "      <th>tweet_id</th>\n",
       "      <th>created_at</th>\n",
       "      <th>user_id</th>\n",
       "      <th>location</th>\n",
       "      <th>name</th>\n",
       "      <th>username</th>\n",
       "    </tr>\n",
       "  </thead>\n",
       "  <tbody>\n",
       "    <tr>\n",
       "      <th>0</th>\n",
       "      <td>1405185477834051584</td>\n",
       "      <td>2021-02-25T10:05:11.000Z</td>\n",
       "      <td>1364879051438002176</td>\n",
       "      <td>India</td>\n",
       "      <td>Khel ख़बर</td>\n",
       "      <td>Khel17934254</td>\n",
       "    </tr>\n",
       "    <tr>\n",
       "      <th>1</th>\n",
       "      <td>1405185576085733380</td>\n",
       "      <td>2013-04-13T21:55:37.000Z</td>\n",
       "      <td>1350309702</td>\n",
       "      <td>Stoke Ash, England</td>\n",
       "      <td>Steven Featley</td>\n",
       "      <td>SFeatley</td>\n",
       "    </tr>\n",
       "    <tr>\n",
       "      <th>2</th>\n",
       "      <td>1405185596771995653</td>\n",
       "      <td>2021-03-07T12:56:52.000Z</td>\n",
       "      <td>1368546012067995650</td>\n",
       "      <td>Unterföhring, Deutschland</td>\n",
       "      <td>Sky Sport Formel 1</td>\n",
       "      <td>skysportformel1</td>\n",
       "    </tr>\n",
       "    <tr>\n",
       "      <th>3</th>\n",
       "      <td>1405185683753422851</td>\n",
       "      <td>2016-01-24T22:43:30.000Z</td>\n",
       "      <td>4843529163</td>\n",
       "      <td>Italia</td>\n",
       "      <td>Sportface</td>\n",
       "      <td>sportface2016</td>\n",
       "    </tr>\n",
       "    <tr>\n",
       "      <th>4</th>\n",
       "      <td>1405185708323741697</td>\n",
       "      <td>2012-02-15T11:38:09.000Z</td>\n",
       "      <td>493042610</td>\n",
       "      <td></td>\n",
       "      <td>FormulaPassion.it</td>\n",
       "      <td>FormulaPassion</td>\n",
       "    </tr>\n",
       "    <tr>\n",
       "      <th>5</th>\n",
       "      <td>1405185726921252866</td>\n",
       "      <td>2017-02-13T20:19:25.000Z</td>\n",
       "      <td>831236353585246210</td>\n",
       "      <td></td>\n",
       "      <td>Ronald Vording</td>\n",
       "      <td>RonaldVording</td>\n",
       "    </tr>\n",
       "    <tr>\n",
       "      <th>6</th>\n",
       "      <td>1405185742696075265</td>\n",
       "      <td>2021-02-05T15:35:34.000Z</td>\n",
       "      <td>1357714434265915393</td>\n",
       "      <td></td>\n",
       "      <td>F1 Ramble</td>\n",
       "      <td>F1Ramble</td>\n",
       "    </tr>\n",
       "    <tr>\n",
       "      <th>7</th>\n",
       "      <td>1405185757149605888</td>\n",
       "      <td>2019-05-18T22:38:11.000Z</td>\n",
       "      <td>1129878879143911426</td>\n",
       "      <td>Bogotá, D.C., Colombia</td>\n",
       "      <td>Valentina Peña Orozco</td>\n",
       "      <td>valentinapena98</td>\n",
       "    </tr>\n",
       "    <tr>\n",
       "      <th>7</th>\n",
       "      <td>1405185757149605888</td>\n",
       "      <td>2009-04-02T07:08:31.000Z</td>\n",
       "      <td>28297965</td>\n",
       "      <td></td>\n",
       "      <td>Alpine F1 Team</td>\n",
       "      <td>AlpineF1Team</td>\n",
       "    </tr>\n",
       "    <tr>\n",
       "      <th>8</th>\n",
       "      <td>1405185763189301248</td>\n",
       "      <td>2020-10-19T19:23:56.000Z</td>\n",
       "      <td>1318271660307472385</td>\n",
       "      <td>Worldwide</td>\n",
       "      <td>ASN Motorsports</td>\n",
       "      <td>AsnMotorsports</td>\n",
       "    </tr>\n",
       "    <tr>\n",
       "      <th>9</th>\n",
       "      <td>1405185780444712960</td>\n",
       "      <td>2015-06-04T16:01:06.000Z</td>\n",
       "      <td>3308385844</td>\n",
       "      <td>UK</td>\n",
       "      <td>Formula Motorsport</td>\n",
       "      <td>Formulamspt</td>\n",
       "    </tr>\n",
       "  </tbody>\n",
       "</table>\n",
       "</div>"
      ],
      "text/plain": [
       "              tweet_id                created_at              user_id  \\\n",
       "0  1405185477834051584  2021-02-25T10:05:11.000Z  1364879051438002176   \n",
       "1  1405185576085733380  2013-04-13T21:55:37.000Z           1350309702   \n",
       "2  1405185596771995653  2021-03-07T12:56:52.000Z  1368546012067995650   \n",
       "3  1405185683753422851  2016-01-24T22:43:30.000Z           4843529163   \n",
       "4  1405185708323741697  2012-02-15T11:38:09.000Z            493042610   \n",
       "5  1405185726921252866  2017-02-13T20:19:25.000Z   831236353585246210   \n",
       "6  1405185742696075265  2021-02-05T15:35:34.000Z  1357714434265915393   \n",
       "7  1405185757149605888  2019-05-18T22:38:11.000Z  1129878879143911426   \n",
       "7  1405185757149605888  2009-04-02T07:08:31.000Z             28297965   \n",
       "8  1405185763189301248  2020-10-19T19:23:56.000Z  1318271660307472385   \n",
       "9  1405185780444712960  2015-06-04T16:01:06.000Z           3308385844   \n",
       "\n",
       "                    location                   name         username  \n",
       "0                      India              Khel ख़बर     Khel17934254  \n",
       "1         Stoke Ash, England         Steven Featley         SFeatley  \n",
       "2  Unterföhring, Deutschland     Sky Sport Formel 1  skysportformel1  \n",
       "3                     Italia              Sportface    sportface2016  \n",
       "4                                 FormulaPassion.it   FormulaPassion  \n",
       "5                                    Ronald Vording    RonaldVording  \n",
       "6                                         F1 Ramble         F1Ramble  \n",
       "7     Bogotá, D.C., Colombia  Valentina Peña Orozco  valentinapena98  \n",
       "7                                    Alpine F1 Team     AlpineF1Team  \n",
       "8                  Worldwide        ASN Motorsports   AsnMotorsports  \n",
       "9                         UK     Formula Motorsport      Formulamspt  "
      ]
     },
     "execution_count": 130,
     "metadata": {},
     "output_type": "execute_result"
    }
   ],
   "source": [
    "def escapeArray(df, column):\n",
    "    if len(df[column]) == 0:\n",
    "        return ''\n",
    "    else:\n",
    "        return df[column]\n",
    "\n",
    "users_df['location'] = users_df.apply(lambda users_df: escapeArray(users_df, 'location'), 1)\n",
    "users_df"
   ]
  },
  {
   "cell_type": "markdown",
   "metadata": {},
   "source": [
    "# SEND TO POSTGRES"
   ]
  },
  {
   "cell_type": "code",
   "execution_count": null,
   "metadata": {},
   "outputs": [],
   "source": [
    "users_df.to_sql('users_mentioned', engine)"
   ]
  }
 ],
 "metadata": {
  "interpreter": {
   "hash": "de137705ccbb8ef5a15d6733b12ab375f600c743dd5804f8b45c499184dc2805"
  },
  "kernelspec": {
   "display_name": "Python 3",
   "language": "python",
   "name": "python3"
  },
  "language_info": {
   "codemirror_mode": {
    "name": "ipython",
    "version": 3
   },
   "file_extension": ".py",
   "mimetype": "text/x-python",
   "name": "python",
   "nbconvert_exporter": "python",
   "pygments_lexer": "ipython3",
   "version": "3.7.7"
  }
 },
 "nbformat": 4,
 "nbformat_minor": 4
}
