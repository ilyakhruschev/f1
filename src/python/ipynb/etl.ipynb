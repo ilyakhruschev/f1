{
 "cells": [
  {
   "cell_type": "code",
   "execution_count": 225,
   "metadata": {
    "ExecuteTime": {
     "end_time": "2021-06-19T22:31:14.566160Z",
     "start_time": "2021-06-19T22:31:14.241063Z"
    }
   },
   "outputs": [],
   "source": [
    "#!/Users/iiyakhruschev/opt/anaconda3/bin python\n",
    "# coding: utf-8\n",
    "\n",
    "import pandas as pd\n",
    "import os\n",
    "import translators as ts\n",
    "from datetime import datetime\n",
    "from langdetect import detect\n",
    "from json_parsers import *\n",
    "from sqlalchemy import create_engine\n",
    "from pymongo import MongoClient\n",
    "\n",
    "# logging\n",
    "logging.basicConfig(filename='logs/etl_{}'.format(datetime.now()), level=logging.INFO)\n",
    "# Mongo database and collection\n",
    "client_db = 'stream'\n",
    "client_col = 'frenchgp'  # args.collectionc\n",
    "\n",
    "# source and target connections\n",
    "MONGO_URI = os.getenv(\"MONGO_URI\")\n",
    "client = MongoClient(MONGO_URI)\n",
    "\n",
    "# database and collection names\n",
    "db = client[client_db]\n",
    "col = db[client_col]\n",
    "\n",
    "# IMPORT\n",
    "df_in = pd.DataFrame(list(col.find({})))\n",
    "df_in = df_in.drop(['matching_rules'], 1)\n",
    "# logging.info('{} - {} records retrieved from mongo'.format(datetime.now(), len(df_in)))\n",
    "\n",
    "\n",
    "# ~~~~~~~~~~~~~~~~~~~~~~~~~~~~~~~~~~~~~~~~~~~~~~~~~~~~~~~~~~~~~~~~~~~~~~~~~~~~~~\n",
    "# ~~~~~~~~~~~~~~~~~~~~~~~~~~~~~~ DEFINE FUNCTIONS ~~~~~~~~~~~~~~~~~~~~~~~~~~~~~~\n",
    "# ~~~~~~~~~~~~~~~~~~~~~~~~~~~~~~~~~~~~~~~~~~~~~~~~~~~~~~~~~~~~~~~~~~~~~~~~~~~~~~\n",
    "def getData(df):\n",
    "    \"\"\"\n",
    "    Convert the nexted json inside the data column to its own dataframe\n",
    "    \"\"\"\n",
    "    df['author_id'] = df.apply(\n",
    "        lambda df: parse_json(df, 'data', 'author_id'), 1)\n",
    "    df['created_at'] = df.apply(\n",
    "        lambda df: parse_json(df, 'data', 'created_at'), 1)\n",
    "    df['geo'] = df.apply(lambda df: parse_json(df, 'data', 'geo'), 1)\n",
    "    df['tweet_id'] = df.apply(lambda df: parse_json_exact(df, 'data', 'id'), 1)\n",
    "    df['raw_text'] = df.apply(lambda df: parse_json(df, 'data', 'text'), 1)\n",
    "    df = df[['tweet_id', 'author_id', 'created_at', 'raw_text']]\n",
    "    return df\n",
    "\n",
    "\n",
    "def getTranslation(df):\n",
    "    clean_text = df['clean_text']\n",
    "    try:\n",
    "        translated_text = ts.google(clean_text, if_use_cn_host=True)\n",
    "    except Exception:\n",
    "        translated_text = clean_text\n",
    "    return translated_text\n",
    "\n",
    "\n",
    "def getCleanText(df):\n",
    "    clean_text = ''.join(e for e in df['raw_text'] if e.isascii())\n",
    "    clean_text = ''.join(e for e in clean_text if e not in [\"!\", \"@\", \"#\"])\n",
    "    return clean_text\n",
    "\n",
    "def getRawText(df, column):\n",
    "    raw_text = ''.join(e for e in df[column] if e.isascii())\n",
    "    return raw_text\n",
    "\n",
    "\n",
    "def getLanguage(df):\n",
    "    clean_text = ''.join(e for e in df['raw_text'] if e.isascii())\n",
    "    clean_text = ''.join(e for e in clean_text if e not in [\"!\", \"@\", \"#\"])\n",
    "    try:\n",
    "        language = detect(clean_text)\n",
    "    except Exception:\n",
    "        language = ''\n",
    "    return language\n",
    "\n",
    "\n",
    "def getUsers(df):\n",
    "    users = df['includes']['users']\n",
    "    return users\n",
    "\n",
    "\n",
    "def getUserDataframe(df):\n",
    "    df['user_created_at'] = df.apply(lambda df: parse_json(df, 'users', 'created_at'), 1)\n",
    "    df['user_id'] = df.apply(lambda df: parse_json(df, 'users', 'id'), 1)\n",
    "    df['location'] = df.apply(lambda df: parse_json(df, 'users', 'location'), 1)\n",
    "    df['name'] = df.apply(lambda df: parse_json_exact(df, 'users', 'name'), 1)\n",
    "    df['username'] = df.apply(lambda df: parse_json(df, 'users', 'username'), 1)\n",
    "    df = df.drop(['users'], 1)\n",
    "    return df\n",
    "\n",
    "\n",
    "def escapeArray(df, column):\n",
    "    if len(df[column]) == 0:\n",
    "        return ''\n",
    "    else:\n",
    "        return df[column]\n",
    "\n",
    "# ~~~~~~~~~~~~~~~~~~~~~~~~~~~~~~~~~~~~~~~~~~~~~~~~~~~~~~~~~~~~~~~~~~~~~~~~~~~~~~~~~~~~~~~~~~\n",
    "# ~~~~~~~~~~~~~~~~~~~~~~~~~~~~~~ CLEAN TWEET DATA / TRANSLATE ~~~~~~~~~~~~~~~~~~~~~~~~~~~~~~ \n",
    "# ~~~~~~~~~~~~~~~~~~~~~~~~~~~~~~~~~~~~~~~~~~~~~~~~~~~~~~~~~~~~~~~~~~~~~~~~~~~~~~~~~~~~~~~~~~\n",
    "\n",
    "data_df = getData(df_in)"
   ]
  },
  {
   "cell_type": "code",
   "execution_count": 226,
   "metadata": {
    "ExecuteTime": {
     "end_time": "2021-06-19T22:31:28.871811Z",
     "start_time": "2021-06-19T22:31:14.567803Z"
    }
   },
   "outputs": [
    {
     "name": "stderr",
     "output_type": "stream",
     "text": [
      "/Users/iiyakhruschev/opt/anaconda3/lib/python3.7/site-packages/ipykernel_launcher.py:2: SettingWithCopyWarning: \n",
      "A value is trying to be set on a copy of a slice from a DataFrame.\n",
      "Try using .loc[row_indexer,col_indexer] = value instead\n",
      "\n",
      "See the caveats in the documentation: https://pandas.pydata.org/pandas-docs/stable/user_guide/indexing.html#returning-a-view-versus-a-copy\n",
      "  \n",
      "/Users/iiyakhruschev/opt/anaconda3/lib/python3.7/site-packages/IPython/core/interactiveshell.py:3343: SettingWithCopyWarning: \n",
      "A value is trying to be set on a copy of a slice from a DataFrame\n",
      "\n",
      "See the caveats in the documentation: https://pandas.pydata.org/pandas-docs/stable/user_guide/indexing.html#returning-a-view-versus-a-copy\n",
      "  exec(code_obj, self.user_global_ns, self.user_ns)\n",
      "/Users/iiyakhruschev/opt/anaconda3/lib/python3.7/site-packages/ipykernel_launcher.py:8: SettingWithCopyWarning: \n",
      "A value is trying to be set on a copy of a slice from a DataFrame.\n",
      "Try using .loc[row_indexer,col_indexer] = value instead\n",
      "\n",
      "See the caveats in the documentation: https://pandas.pydata.org/pandas-docs/stable/user_guide/indexing.html#returning-a-view-versus-a-copy\n",
      "  \n",
      "/Users/iiyakhruschev/opt/anaconda3/lib/python3.7/site-packages/ipykernel_launcher.py:11: SettingWithCopyWarning: \n",
      "A value is trying to be set on a copy of a slice from a DataFrame.\n",
      "Try using .loc[row_indexer,col_indexer] = value instead\n",
      "\n",
      "See the caveats in the documentation: https://pandas.pydata.org/pandas-docs/stable/user_guide/indexing.html#returning-a-view-versus-a-copy\n",
      "  # This is added back by InteractiveShellApp.init_path()\n",
      "/Users/iiyakhruschev/opt/anaconda3/lib/python3.7/site-packages/ipykernel_launcher.py:14: SettingWithCopyWarning: \n",
      "A value is trying to be set on a copy of a slice from a DataFrame.\n",
      "Try using .loc[row_indexer,col_indexer] = value instead\n",
      "\n",
      "See the caveats in the documentation: https://pandas.pydata.org/pandas-docs/stable/user_guide/indexing.html#returning-a-view-versus-a-copy\n",
      "  \n"
     ]
    }
   ],
   "source": [
    "for column in list(data_df):\n",
    "    data_df[column] = data_df.apply(lambda data_df: escapeArray(data_df, column), 1)\n",
    "\n",
    "for i,j in zip(data_df['tweet_id'], range(len(data_df))):\n",
    "    if isinstance(i, np.ndarray):\n",
    "        data_df['tweet_id'][j] = data_df['tweet_id'][j][0]\n",
    "\n",
    "data_df['clean_text'] = data_df.apply(lambda data_df: getCleanText(data_df), 1)\n",
    "logging.info('{} - text cleaned'.format(datetime.now()))\n",
    "\n",
    "data_df['raw_text'] = data_df.apply(lambda data_df: getRawText(data_df, 'raw_text'), 1)\n",
    "logging.info('{} - emojis removed from raw text'.format(datetime.now()))\n",
    "\n",
    "data_df['language'] = data_df.apply(lambda data_df: getLanguage(data_df), 1)\n",
    "logging.info('{} - languages identified '.format(datetime.now()))\n",
    "\n",
    "data_df = data_df[data_df['tweet_id'] != ''].reset_index()\n",
    "\n",
    "data_df_translate = data_df[data_df['language'] != 'en'][['tweet_id', 'clean_text']]"
   ]
  },
  {
   "cell_type": "code",
   "execution_count": null,
   "metadata": {},
   "outputs": [],
   "source": [
    "logging.info('{} - {} non-english language records detected'.format(datetime.now(), len(data_df_translate)))\n",
    "data_df_translate['translated_text'] = data_df_translate.apply(lambda data_df_translate: getTranslation(data_df_translate), 1)\n",
    "logging.info('{} - {} non-english language records translated'.format(datetime.now(), len(data_df_translate)))\n",
    "\n",
    "data_df_translate['tweet_id'] = data_df_translate['tweet_id'].astype(str)\n",
    "data_df['tweet_id'] = data_df['tweet_id'].astype(str)\n",
    "\n",
    "data_df = data_df.merge(data_df_translate, on='tweet_id', how='left')\\\n",
    "    .rename(index=str, columns={'clean_text_x': 'clean_text'})\\\n",
    "    .drop('clean_text_y', 1)\n",
    "\n",
    "data_df['translated_text'] = data_df['translated_text'].fillna(data_df['clean_text'])\n",
    "data_df = data_df[['tweet_id', 'author_id', 'created_at',\n",
    "                   'language', 'raw_text', 'clean_text', 'translated_text']]\n",
    "\n",
    "\n",
    "# SEND TO POSTGRES\n",
    "logging.info('{} - sending tweet table to postgres'.format(datetime.now()))\n",
    "engine = create_engine('postgresql://postgres@localhost:5432/frenchgp')\n",
    "data_df.to_sql('tweet', engine)\n",
    "logging.info('{} - export successful'.format(datetime.now()))"
   ]
  },
  {
   "cell_type": "code",
   "execution_count": 213,
   "metadata": {
    "ExecuteTime": {
     "end_time": "2021-06-19T22:28:46.855431Z",
     "start_time": "2021-06-19T22:28:46.533751Z"
    }
   },
   "outputs": [],
   "source": [
    "df_in['includes'] = df_in['includes'].fillna('')\n",
    "df_in = df_in[df_in['includes'] != '']\n",
    "\n",
    "# ~~~~~~~~~~~~~~~~~~~~~~~~~~~~~~~~~~~~~~~~~~~~~~~~~~~~~~~~~~~~~~~~~~~~~~~~~~~~~\n",
    "# ~~~~~~~~~~~~~~~~~~~~~~~~~~~~~~ USERS MENTIONED ~~~~~~~~~~~~~~~~~~~~~~~~~~~~~~ \n",
    "# ~~~~~~~~~~~~~~~~~~~~~~~~~~~~~~~~~~~~~~~~~~~~~~~~~~~~~~~~~~~~~~~~~~~~~~~~~~~~~\n",
    "\n",
    "\n",
    "def getUsers(df):\n",
    "    users = df['includes']['users']\n",
    "    return users\n",
    "\n",
    "\n",
    "df_in['users'] = df_in.apply(lambda df_in: getUsers(df_in), 1)\n",
    "\n",
    "users_exploded = df_in[['tweet_id', 'users']].explode('users')\n",
    "users_df = getUserDataframe(users_exploded)\n",
    "users_df['location'] = users_df.apply(\n",
    "    lambda users_df: escapeArray(users_df, 'location'), 1)"
   ]
  },
  {
   "cell_type": "code",
   "execution_count": 214,
   "metadata": {
    "ExecuteTime": {
     "end_time": "2021-06-19T22:28:47.749795Z",
     "start_time": "2021-06-19T22:28:47.725701Z"
    }
   },
   "outputs": [],
   "source": [
    "users_df['name'] = users_df.apply(lambda users_df: getRawText(users_df, 'name'), 1)"
   ]
  },
  {
   "cell_type": "code",
   "execution_count": 228,
   "metadata": {
    "ExecuteTime": {
     "end_time": "2021-06-19T22:32:13.604995Z",
     "start_time": "2021-06-19T22:32:13.602295Z"
    }
   },
   "outputs": [],
   "source": [
    "users_df = users_df.reset_index(drop=True)"
   ]
  },
  {
   "cell_type": "code",
   "execution_count": 230,
   "metadata": {
    "ExecuteTime": {
     "end_time": "2021-06-19T22:32:32.753481Z",
     "start_time": "2021-06-19T22:32:32.628254Z"
    }
   },
   "outputs": [],
   "source": [
    "for column in list(users_df):\n",
    "    users_df[column] = users_df.apply(lambda users_df: escapeArray(users_df, column), 1)\n",
    "\n",
    "for i,j in zip(users_df['tweet_id'], range(len(users_df))):\n",
    "    if isinstance(i, np.ndarray):\n",
    "        users_df['tweet_id'][j] = users_df['tweet_id'][j][0]"
   ]
  },
  {
   "cell_type": "code",
   "execution_count": 232,
   "metadata": {
    "ExecuteTime": {
     "end_time": "2021-06-19T22:32:42.148865Z",
     "start_time": "2021-06-19T22:32:41.843056Z"
    }
   },
   "outputs": [],
   "source": [
    "# SEND TO POSTGRES\n",
    "# logging.info('{} - sending users mentioned table to postgres'.format(datetime.now()))\n",
    "users_df.to_sql('users_mentioned', engine)\n",
    "# logging.info('{} - export successful'.format(datetime.now()))\n",
    "# logging.info('{} - ETL COMPLETE'.format(datetime.now()))"
   ]
  },
  {
   "cell_type": "code",
   "execution_count": null,
   "metadata": {},
   "outputs": [],
   "source": []
  }
 ],
 "metadata": {
  "interpreter": {
   "hash": "de137705ccbb8ef5a15d6733b12ab375f600c743dd5804f8b45c499184dc2805"
  },
  "kernelspec": {
   "display_name": "Python 3",
   "language": "python",
   "name": "python3"
  },
  "language_info": {
   "codemirror_mode": {
    "name": "ipython",
    "version": 3
   },
   "file_extension": ".py",
   "mimetype": "text/x-python",
   "name": "python",
   "nbconvert_exporter": "python",
   "pygments_lexer": "ipython3",
   "version": "3.7.7"
  }
 },
 "nbformat": 4,
 "nbformat_minor": 4
}
