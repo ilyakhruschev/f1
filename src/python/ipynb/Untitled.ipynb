{
 "cells": [
  {
   "cell_type": "code",
   "execution_count": 1,
   "metadata": {
    "ExecuteTime": {
     "end_time": "2021-06-19T13:28:47.845737Z",
     "start_time": "2021-06-19T13:28:47.192724Z"
    }
   },
   "outputs": [],
   "source": [
    "# import tweepy\n",
    "import pandas as pd\n",
    "import os\n",
    "import sys\n",
    "import requests\n",
    "import pymongo\n",
    "from pymongo import MongoClient"
   ]
  },
  {
   "cell_type": "code",
   "execution_count": 2,
   "metadata": {
    "ExecuteTime": {
     "end_time": "2021-06-19T13:28:47.850343Z",
     "start_time": "2021-06-19T13:28:47.847500Z"
    }
   },
   "outputs": [],
   "source": [
    "consumer_key = os.getenv(\"CONSUMER_KEY\")\n",
    "consumer_secret = os.getenv(\"CONSUMER_SECRET\")\n",
    "access_token = os.getenv(\"ACCESS_TOKEN\")\n",
    "# access_token_secret = \n",
    "os.getenv(\"ACCESS_TOKEN_SECRET\")\n",
    "bearer_token = os.getenv(\"BEARER_TOKEN\")"
   ]
  },
  {
   "cell_type": "code",
   "execution_count": 6,
   "metadata": {
    "ExecuteTime": {
     "end_time": "2021-06-19T13:29:48.050400Z",
     "start_time": "2021-06-19T13:29:48.044897Z"
    }
   },
   "outputs": [],
   "source": [
    "\n",
    "client_db =  'stream'\n",
    "client_col = 'frenchgp' #args.collection\n",
    "\n",
    "# source and target connections\n",
    "client = MongoClient('mongodb://localhost:27017')\n",
    "\n",
    "# batch size\n",
    "batch_size = 1000\n",
    "\n",
    "# database and collection names\n",
    "db = client[client_db]\n",
    "col = db[client_col]\n",
    "\n",
    "def create_headers(bearer_token):\n",
    "    headers = {\"Authorization\": \"Bearer {}\".format(bearer_token)}\n",
    "    return headers"
   ]
  },
  {
   "cell_type": "code",
   "execution_count": null,
   "metadata": {},
   "outputs": [],
   "source": [
    "payload = {\"add\": rules}\n",
    "response = requests.post(\n",
    "    \"https://api.twitter.com/2/tweets/search/stream/rules\",\n",
    "    headers=create_headers(bearer_token),\n",
    "    json=payload,\n",
    ")\n",
    "print(\"SET RULES: \", response.text)\n",
    "\n",
    "response2 = requests.get(\n",
    "    \"https://api.twitter.com/2/tweets/search/stream/rules\",\n",
    "    headers=create_headers(bearer_token))\n",
    "print(\"GETTING RULES: \", response2.text)\n",
    "return response2.json()"
   ]
  },
  {
   "cell_type": "code",
   "execution_count": 4,
   "metadata": {
    "ExecuteTime": {
     "end_time": "2021-06-19T13:29:22.135022Z",
     "start_time": "2021-06-19T13:29:22.132057Z"
    }
   },
   "outputs": [],
   "source": [
    "rules = [{\"value\": '(formula1 OR #f1 OR \"formula one\" OR \"formula 1\") -indycar \\\n",
    "-\"indy car\" -is:retweet -is:reply -is:quote'}]#,\n",
    "#           \"value\": '((gasly OR hamilton OR verstappen OR perez OR norris OR leclerc \\\n",
    "# OR bottas OR sainz OR gasly OR vettel OR ricciardo OR alonso OR ocon OR \\\n",
    "# stroll OR tsunoda OR raikkonen OR giovinazzi OR schumacher OR russell \\\n",
    "# OR mazepin OR latifi) (f1 OR formula1 OR \"french grand prix\" OR ricard OR \\\n",
    "# \"french GP\" OR \"grand prix\" OR \"formula 1\" OR frenchgp)) -indycar \\\n",
    "# -\"indy car\" -is:retweet -is:reply -is:quote'}]\n",
    "\n",
    "params = {\n",
    "    'tweet.fields': 'created_at,public_metrics',\n",
    "    'expansions': 'author_id,referenced_tweets.id,geo.place_id',\n",
    "    'user.fields': 'created_at,location'\n",
    "}"
   ]
  },
  {
   "cell_type": "code",
   "execution_count": 7,
   "metadata": {
    "ExecuteTime": {
     "end_time": "2021-06-19T13:29:51.605121Z",
     "start_time": "2021-06-19T13:29:50.500067Z"
    }
   },
   "outputs": [],
   "source": [
    "payload = {\"add\": rules}\n",
    "response = requests.post(\n",
    "    \"https://api.twitter.com/2/tweets/search/stream/rules\",\n",
    "    headers=create_headers(bearer_token),\n",
    "    json=payload,\n",
    ")"
   ]
  },
  {
   "cell_type": "code",
   "execution_count": 9,
   "metadata": {
    "ExecuteTime": {
     "end_time": "2021-06-19T13:30:08.187602Z",
     "start_time": "2021-06-19T13:30:07.741081Z"
    }
   },
   "outputs": [
    {
     "name": "stdout",
     "output_type": "stream",
     "text": [
      "GETTING RULES:  {\"data\":[{\"id\":\"1406242227882532874\",\"value\":\"((gasly OR hamilton OR verstappen OR perez OR norris OR leclerc OR bottas OR sainz OR gasly OR vettel OR ricciardo OR alonso OR ocon OR stroll OR tsunoda OR raikkonen OR giovinazzi OR schumacher OR russell OR mazepin OR latifi) (f1 OR formula1 OR \\\"french grand prix\\\" OR ricard OR \\\"french GP\\\" OR \\\"grand prix\\\" OR \\\"formula 1\\\" OR frenchgp)) -indycar -\\\"indy car\\\" -is:retweet -is:reply -is:quote\"},{\"id\":\"1406242824627044354\",\"value\":\"(formula1 OR #f1 OR \\\"formula one\\\" OR \\\"formula 1\\\") -indycar -\\\"indy car\\\" -is:retweet -is:reply -is:quote\"}],\"meta\":{\"sent\":\"2021-06-19T13:30:08.141Z\"}}\n"
     ]
    }
   ],
   "source": [
    "response2 = requests.get(\n",
    "    \"https://api.twitter.com/2/tweets/search/stream/rules\",\n",
    "    headers=create_headers(bearer_token))\n",
    "print(\"GETTING RULES: \", response2.text)\n"
   ]
  },
  {
   "cell_type": "code",
   "execution_count": null,
   "metadata": {},
   "outputs": [],
   "source": []
  }
 ],
 "metadata": {
  "kernelspec": {
   "display_name": "Python 3",
   "language": "python",
   "name": "python3"
  },
  "language_info": {
   "codemirror_mode": {
    "name": "ipython",
    "version": 3
   },
   "file_extension": ".py",
   "mimetype": "text/x-python",
   "name": "python",
   "nbconvert_exporter": "python",
   "pygments_lexer": "ipython3",
   "version": "3.7.7"
  }
 },
 "nbformat": 4,
 "nbformat_minor": 4
}
